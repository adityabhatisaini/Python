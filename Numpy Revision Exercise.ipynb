{
 "cells": [
  {
   "cell_type": "markdown",
   "id": "ad267194-8a82-4182-bf96-426a8cc713ab",
   "metadata": {},
   "source": [
    "1. Create a NumPy array with values from 1 to 10 and print the array."
   ]
  },
  {
   "cell_type": "code",
   "execution_count": 25,
   "id": "9f96bab2-667a-49f3-ab06-292d3fed8803",
   "metadata": {},
   "outputs": [
    {
     "name": "stdout",
     "output_type": "stream",
     "text": [
      "[ 1  2  3  4  5  6  7  8  9 10]\n"
     ]
    },
    {
     "data": {
      "text/plain": [
       "array([ 1,  2,  3,  4,  5,  6,  7,  8,  9, 10])"
      ]
     },
     "execution_count": 25,
     "metadata": {},
     "output_type": "execute_result"
    }
   ],
   "source": [
    "import numpy as np\n",
    "x1=np.arange(1,11)\n",
    "print(x1)\n",
    "x1"
   ]
  },
  {
   "cell_type": "markdown",
   "id": "3fe4c02c-5379-4bd2-b64d-15350b5bfd9f",
   "metadata": {},
   "source": [
    "2. Create two NumPy arrays of size 5 and add them together.\n"
   ]
  },
  {
   "cell_type": "code",
   "execution_count": 26,
   "id": "d96be94f-17a5-4574-98fc-d30c53809a74",
   "metadata": {},
   "outputs": [
    {
     "name": "stdout",
     "output_type": "stream",
     "text": [
      "[391 161 364 982 666]\n",
      "[236 714 577 207 668]\n",
      "[391 161 364 982 666 236 714 577 207 668]\n"
     ]
    }
   ],
   "source": [
    "x1=np.random.randint(100,1000,5)\n",
    "x2=np.random.randint(100,1000,5)\n",
    "print(x1)\n",
    "print(x2)\n",
    "\n",
    "x3=np.concatenate([x1,x2])\n",
    "print(x3)"
   ]
  },
  {
   "cell_type": "markdown",
   "id": "d54540b5-979c-4f84-867b-1f001f84c246",
   "metadata": {},
   "source": [
    "3. Create a 1D array of 12 elements and reshape it into a 3x4 matrix."
   ]
  },
  {
   "cell_type": "code",
   "execution_count": 27,
   "id": "47be42ad-eb7c-4bf5-be80-63f05a3985c2",
   "metadata": {},
   "outputs": [
    {
     "data": {
      "text/plain": [
       "array([[668, 584, 216, 897],\n",
       "       [961, 512, 255, 181],\n",
       "       [279, 260, 489, 724]])"
      ]
     },
     "execution_count": 27,
     "metadata": {},
     "output_type": "execute_result"
    }
   ],
   "source": [
    "x1=np.random.randint(100,999,12)\n",
    "x1.reshape(3,4)"
   ]
  },
  {
   "cell_type": "markdown",
   "id": "1a4c0310-64f1-499d-9fc3-d54fea0c787d",
   "metadata": {},
   "source": [
    "4. Given the array arr = np.array([1, 2, 3, 4, 5, 6, 7, 8, 9]), slice and print the sub-array containing elements from index 3 to 6."
   ]
  },
  {
   "cell_type": "code",
   "execution_count": 28,
   "id": "927d5845-96a4-4126-bcb5-19c14c733067",
   "metadata": {},
   "outputs": [
    {
     "data": {
      "text/plain": [
       "array([4, 5, 6, 7])"
      ]
     },
     "execution_count": 28,
     "metadata": {},
     "output_type": "execute_result"
    }
   ],
   "source": [
    "x1=np.array([1, 2, 3, 4, 5, 6, 7,8,9])\n",
    "x1[3:7]"
   ]
  },
  {
   "cell_type": "markdown",
   "id": "6b43c6d2-edfb-465b-9a5c-eaef33ee70d3",
   "metadata": {},
   "source": [
    "5. Create a NumPy array of size 5 and multiply each element by 2."
   ]
  },
  {
   "cell_type": "code",
   "execution_count": 29,
   "id": "75c25074-3ee7-4e5b-b575-7236a42834ee",
   "metadata": {},
   "outputs": [
    {
     "data": {
      "text/plain": [
       "array([ 2,  4,  6,  8, 10])"
      ]
     },
     "execution_count": 29,
     "metadata": {},
     "output_type": "execute_result"
    }
   ],
   "source": [
    "x1=np.array([1, 2, 3, 4, 5])\n",
    "x1*2"
   ]
  },
  {
   "cell_type": "markdown",
   "id": "f7526afd-d6c4-40f5-a2b4-921ff0f69d50",
   "metadata": {},
   "source": [
    "6. Create a NumPy array of 10 random numbers between 1 and 100. Then, calculate and print the mean and standard deviation of the array."
   ]
  },
  {
   "cell_type": "code",
   "execution_count": 30,
   "id": "d70cea8f-b436-47b2-bbc6-2ebefadd7ffe",
   "metadata": {},
   "outputs": [
    {
     "name": "stdout",
     "output_type": "stream",
     "text": [
      "[48  6 38 74 30 99 96 79 48 90]\n",
      "60.8\n",
      "29.75836016987495\n"
     ]
    }
   ],
   "source": [
    "x1=np.random.randint(1,100,10)\n",
    "print(x1)\n",
    "\n",
    "print(x1.mean())\n",
    "print(x1.std())"
   ]
  },
  {
   "cell_type": "markdown",
   "id": "c1bdef18-8fc0-4dd9-9d83-2fdedf3653e1",
   "metadata": {},
   "source": [
    "7. Create a 2x3 matrix and find its transpose."
   ]
  },
  {
   "cell_type": "code",
   "execution_count": 50,
   "id": "c5c45a78-3457-4342-b302-4c020993bcf1",
   "metadata": {},
   "outputs": [
    {
     "name": "stdout",
     "output_type": "stream",
     "text": [
      "[[ 0.8543227  -2.03128652 -2.62361406]\n",
      " [-0.50963183 -1.40655679 -0.43509823]]\n"
     ]
    },
    {
     "data": {
      "text/plain": [
       "array([[ 0.8543227 , -0.50963183],\n",
       "       [-2.03128652, -1.40655679],\n",
       "       [-2.62361406, -0.43509823]])"
      ]
     },
     "execution_count": 50,
     "metadata": {},
     "output_type": "execute_result"
    }
   ],
   "source": [
    "x1=np.random.randn(2,3)\n",
    "print(x1)\n",
    "x1.T"
   ]
  },
  {
   "cell_type": "markdown",
   "id": "260ef538-708b-4bb8-9d9b-87ff5c9da78a",
   "metadata": {},
   "source": [
    "8. Create a 2D array of shape (3, 3) and add a 1D array [1, 2, 3] to it using broadcasting."
   ]
  },
  {
   "cell_type": "code",
   "execution_count": 63,
   "id": "04a00b19-f858-4a96-bb56-40837a29c1b7",
   "metadata": {},
   "outputs": [
    {
     "name": "stdout",
     "output_type": "stream",
     "text": [
      "[[-1.18975286  0.85666026  0.05065699]\n",
      " [-1.00934201 -0.2526999  -1.36572302]\n",
      " [ 0.65843257 -0.00900213 -0.03990366]]\n",
      "[1 2 3]\n",
      "[[-1.18975286  0.85666026  0.05065699]\n",
      " [-1.00934201 -0.2526999  -1.36572302]\n",
      " [ 0.65843257 -0.00900213 -0.03990366]\n",
      " [ 1.          2.          3.        ]]\n"
     ]
    }
   ],
   "source": [
    "x1=np.random.randn(3,3)\n",
    "print(x1)\n",
    "\n",
    "x2=np.array([1, 2, 3])\n",
    "print(x2)\n",
    "x3=np.vstack([x1, x2])\n",
    "print(x3)"
   ]
  },
  {
   "cell_type": "markdown",
   "id": "eea00ea8-dc07-4db8-8d8c-2742d8d33db5",
   "metadata": {},
   "source": [
    "9. Given the array arr = np.array([1, 2, 2, 3, 4, 4, 5]), find and print the unique elements in the array."
   ]
  },
  {
   "cell_type": "code",
   "execution_count": 64,
   "id": "b5bb26cb-8150-43be-bbf0-b53d18f89640",
   "metadata": {},
   "outputs": [
    {
     "data": {
      "text/plain": [
       "array([1, 2, 3, 4, 5])"
      ]
     },
     "execution_count": 64,
     "metadata": {},
     "output_type": "execute_result"
    }
   ],
   "source": [
    "arr=np.array([1,2,2,3,4,4,5])\n",
    "np.unique(arr)"
   ]
  },
  {
   "cell_type": "markdown",
   "id": "025c42f1-3899-42aa-99eb-41078d5ae7ec",
   "metadata": {},
   "source": [
    "10. Create a NumPy array of size 6, and replace all values greater than 3 with the number 100."
   ]
  },
  {
   "cell_type": "code",
   "execution_count": null,
   "id": "6a4ba16d-a31b-4e08-a176-df9a0798de9e",
   "metadata": {},
   "outputs": [],
   "source": []
  },
  {
   "cell_type": "markdown",
   "id": "a325d08f-72f1-41a0-bf12-a57a60ba3ea3",
   "metadata": {},
   "source": [
    "11. Create two arrays arr1 = np.array([1, 2, 3]) and arr2 = np.array([4, 5, 6]). Stack them both vertically and horizontally."
   ]
  },
  {
   "cell_type": "code",
   "execution_count": null,
   "id": "f22844da-2bb5-434b-9168-180026af3e76",
   "metadata": {},
   "outputs": [],
   "source": []
  },
  {
   "cell_type": "markdown",
   "id": "55e2d7d0-229b-426d-b20f-31c331816c67",
   "metadata": {},
   "source": [
    " 12. Create a 4x4 matrix. Using advanced indexing, extract the second column and the third row of the matrix."
   ]
  },
  {
   "cell_type": "code",
   "execution_count": null,
   "id": "6c2efb3c-9a9c-4b0e-8bb3-1db4015ec60c",
   "metadata": {},
   "outputs": [],
   "source": []
  },
  {
   "cell_type": "markdown",
   "id": "1bc0b4af-ae35-4609-bcb8-0f1882f07c1a",
   "metadata": {},
   "source": [
    "13. Create two 3x3 matrices and multiply them using the dot product. Show both the matrix multiplication and the element-wise multiplication."
   ]
  },
  {
   "cell_type": "code",
   "execution_count": null,
   "id": "a8afe6bc-d72a-4a63-a60a-6fd401b7621f",
   "metadata": {},
   "outputs": [],
   "source": []
  },
  {
   "cell_type": "markdown",
   "id": "19574640-8417-428d-af4d-9dfdbccc343c",
   "metadata": {},
   "source": [
    "14. Generate a 3x3 matrix of random integers between 10 and 50, and a 2x5 matrix of random floats with values between 0 and 1."
   ]
  },
  {
   "cell_type": "code",
   "execution_count": null,
   "id": "cb9981f3-ddaf-4141-bdc5-8ae95a67c3ad",
   "metadata": {},
   "outputs": [],
   "source": []
  },
  {
   "cell_type": "markdown",
   "id": "bfa64159-a890-4b3f-a3a3-03a342493e3a",
   "metadata": {},
   "source": [
    "15. Create a 3x3 matrix and add a scalar value 10 to each element of the matrix using broadcasting."
   ]
  },
  {
   "cell_type": "code",
   "execution_count": null,
   "id": "e38684ba-714e-48fd-94e0-9095021247fd",
   "metadata": {},
   "outputs": [],
   "source": []
  },
  {
   "cell_type": "markdown",
   "id": "12484cc1-f894-48e4-afdd-4caf96519f60",
   "metadata": {},
   "source": [
    "16. Standardize a NumPy array to have a mean of 0 and standard deviation of 1."
   ]
  },
  {
   "cell_type": "code",
   "execution_count": null,
   "id": "52302706-416e-4a3f-be12-06a77d173b10",
   "metadata": {},
   "outputs": [],
   "source": []
  },
  {
   "cell_type": "markdown",
   "id": "5a90d11d-7a63-4700-a993-35ff058b6762",
   "metadata": {},
   "source": [
    "17. Generate an array of 10 evenly spaced numbers between 0 and 1 using np.linspace, and print the result."
   ]
  },
  {
   "cell_type": "code",
   "execution_count": null,
   "id": "a166ae4a-a8c6-4ca8-a0e7-5ccc81ec7f77",
   "metadata": {},
   "outputs": [],
   "source": []
  },
  {
   "cell_type": "markdown",
   "id": "fb608021-690d-47da-8315-63da73b0eb5c",
   "metadata": {},
   "source": [
    "18. Use np.linspace to create an array of 100 points between 0 and 2𝜋\n",
    ", then compute the sine of these points and plot the result using Matplotlib."
   ]
  },
  {
   "cell_type": "code",
   "execution_count": null,
   "id": "b761ef46-ee4b-4ba9-a747-6799b12ca5d8",
   "metadata": {},
   "outputs": [],
   "source": []
  },
  {
   "cell_type": "markdown",
   "id": "89ae6b52-b968-41ff-b3e4-97516fd64a90",
   "metadata": {},
   "source": [
    "19. Create a NumPy array arr = np.array([1, 2, 8, 4, 3]). Use argmax() to find the index of the maximum value in the array."
   ]
  },
  {
   "cell_type": "code",
   "execution_count": null,
   "id": "3b86c9bd-e6c7-4c7e-821a-5f3fef512235",
   "metadata": {},
   "outputs": [],
   "source": []
  },
  {
   "cell_type": "markdown",
   "id": "57217f15-3ac3-4e91-96c8-7f6d8fd766a3",
   "metadata": {},
   "source": [
    "20. Create a NumPy array arr = np.array([5, 10, 2, 8, 3]). Use argmin() to find the index of the minimum value in the array."
   ]
  },
  {
   "cell_type": "code",
   "execution_count": null,
   "id": "15980e77-c3e4-41e1-b9c0-47b5a87953d2",
   "metadata": {},
   "outputs": [],
   "source": []
  },
  {
   "cell_type": "markdown",
   "id": "aec6f19b-094f-4e2f-b9a1-51734129da10",
   "metadata": {},
   "source": [
    "21. Create a NumPy array arr = np.array([10, 20, 30, 40, 50]). Use Boolean indexing to select all values greater than 25.\n"
   ]
  },
  {
   "cell_type": "code",
   "execution_count": null,
   "id": "8ae8c0b4-1cc6-4b42-96f9-8bf1a354a9cc",
   "metadata": {},
   "outputs": [],
   "source": []
  },
  {
   "cell_type": "markdown",
   "id": "11d2be8d-2eed-4f5a-9b80-a1e88ef7b12c",
   "metadata": {},
   "source": [
    "22. Create a NumPy array arr = np.array([10, 15, 20, 25, 30, 35, 40]). Use Boolean indexing to select values that are greater than 15 but less than 35."
   ]
  },
  {
   "cell_type": "code",
   "execution_count": null,
   "id": "fe5a0e9f-dd04-45cf-b560-d7447a8bba18",
   "metadata": {},
   "outputs": [],
   "source": []
  },
  {
   "cell_type": "markdown",
   "id": "286f16cf-ce04-4128-9f41-2c95597f230c",
   "metadata": {},
   "source": [
    "23. Create a NumPy array arr = np.array([1, 2, 3, 4, 5]). Use np.where() to replace all values greater than 3 with 10, and all other values with 0."
   ]
  },
  {
   "cell_type": "code",
   "execution_count": null,
   "id": "c80f361f-bc77-4ca9-a094-2a16d64ad4b1",
   "metadata": {},
   "outputs": [],
   "source": []
  },
  {
   "cell_type": "markdown",
   "id": "77ac1dcc-c4d0-4656-bc89-d8eeb2ec0743",
   "metadata": {},
   "source": [
    "24. Create a NumPy array arr = np.array([12, 15, 18, 20, 22, 25]). Use np.where() to replace values greater than 20 with 10, values less than 15 with -10, and leave others unchanged."
   ]
  },
  {
   "cell_type": "code",
   "execution_count": null,
   "id": "818a0636-ee80-446e-9124-de59bdafca2a",
   "metadata": {},
   "outputs": [],
   "source": []
  },
  {
   "cell_type": "markdown",
   "id": "57b3e947-ae0f-4f93-8c2c-1107132374be",
   "metadata": {},
   "source": [
    "25. Create a 2D array arr = np.array([[5, 10, 15], [2, 20, 30], [7, 1, 4]]). Use np.argmax() and np.argmin() to find the indices of the maximum and minimum values."
   ]
  },
  {
   "cell_type": "code",
   "execution_count": null,
   "id": "94c56ae3-9b8d-498f-b144-4719f91afb7d",
   "metadata": {},
   "outputs": [],
   "source": []
  }
 ],
 "metadata": {
  "kernelspec": {
   "display_name": "base",
   "language": "python",
   "name": "python3"
  },
  "language_info": {
   "codemirror_mode": {
    "name": "ipython",
    "version": 3
   },
   "file_extension": ".py",
   "mimetype": "text/x-python",
   "name": "python",
   "nbconvert_exporter": "python",
   "pygments_lexer": "ipython3",
   "version": "3.12.4"
  }
 },
 "nbformat": 4,
 "nbformat_minor": 5
}
