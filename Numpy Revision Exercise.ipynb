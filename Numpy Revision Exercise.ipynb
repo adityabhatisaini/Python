{
 "cells": [
  {
   "cell_type": "markdown",
   "id": "ad267194-8a82-4182-bf96-426a8cc713ab",
   "metadata": {},
   "source": [
    "1. Create a NumPy array with values from 1 to 10 and print the array."
   ]
  },
  {
   "cell_type": "code",
   "execution_count": 1,
   "id": "9f96bab2-667a-49f3-ab06-292d3fed8803",
   "metadata": {},
   "outputs": [
    {
     "name": "stdout",
     "output_type": "stream",
     "text": [
      "[ 1  2  3  4  5  6  7  8  9 10]\n"
     ]
    },
    {
     "data": {
      "text/plain": [
       "array([ 1,  2,  3,  4,  5,  6,  7,  8,  9, 10])"
      ]
     },
     "execution_count": 1,
     "metadata": {},
     "output_type": "execute_result"
    }
   ],
   "source": [
    "import numpy as np\n",
    "x1=np.arange(1,11)\n",
    "print(x1)\n",
    "x1"
   ]
  },
  {
   "cell_type": "markdown",
   "id": "3fe4c02c-5379-4bd2-b64d-15350b5bfd9f",
   "metadata": {},
   "source": [
    "2. Create two NumPy arrays of size 5 and add them together.\n"
   ]
  },
  {
   "cell_type": "code",
   "execution_count": 2,
   "id": "d96be94f-17a5-4574-98fc-d30c53809a74",
   "metadata": {},
   "outputs": [
    {
     "name": "stdout",
     "output_type": "stream",
     "text": [
      "[445 405 636 808 802]\n",
      "[875 925 114 766 830]\n",
      "[445 405 636 808 802 875 925 114 766 830]\n"
     ]
    }
   ],
   "source": [
    "x1=np.random.randint(100,1000,5)\n",
    "x2=np.random.randint(100,1000,5)\n",
    "print(x1)\n",
    "print(x2)\n",
    "\n",
    "x3=np.concatenate([x1,x2])\n",
    "print(x3)"
   ]
  },
  {
   "cell_type": "markdown",
   "id": "d54540b5-979c-4f84-867b-1f001f84c246",
   "metadata": {},
   "source": [
    "3. Create a 1D array of 12 elements and reshape it into a 3x4 matrix."
   ]
  },
  {
   "cell_type": "code",
   "execution_count": 3,
   "id": "47be42ad-eb7c-4bf5-be80-63f05a3985c2",
   "metadata": {},
   "outputs": [
    {
     "data": {
      "text/plain": [
       "array([[175, 375, 343, 107],\n",
       "       [604, 806, 399, 778],\n",
       "       [667, 963, 202, 432]])"
      ]
     },
     "execution_count": 3,
     "metadata": {},
     "output_type": "execute_result"
    }
   ],
   "source": [
    "x1=np.random.randint(100,999,12)\n",
    "x1.reshape(3,4)"
   ]
  },
  {
   "cell_type": "markdown",
   "id": "1a4c0310-64f1-499d-9fc3-d54fea0c787d",
   "metadata": {},
   "source": [
    "4. Given the array arr = np.array([1, 2, 3, 4, 5, 6, 7, 8, 9]), slice and print the sub-array containing elements from index 3 to 6."
   ]
  },
  {
   "cell_type": "code",
   "execution_count": 4,
   "id": "927d5845-96a4-4126-bcb5-19c14c733067",
   "metadata": {},
   "outputs": [
    {
     "data": {
      "text/plain": [
       "array([4, 5, 6, 7])"
      ]
     },
     "execution_count": 4,
     "metadata": {},
     "output_type": "execute_result"
    }
   ],
   "source": [
    "x1=np.array([1, 2, 3, 4, 5, 6, 7,8,9])\n",
    "x1[3:7]"
   ]
  },
  {
   "cell_type": "markdown",
   "id": "6b43c6d2-edfb-465b-9a5c-eaef33ee70d3",
   "metadata": {},
   "source": [
    "5. Create a NumPy array of size 5 and multiply each element by 2."
   ]
  },
  {
   "cell_type": "code",
   "execution_count": 5,
   "id": "75c25074-3ee7-4e5b-b575-7236a42834ee",
   "metadata": {},
   "outputs": [
    {
     "data": {
      "text/plain": [
       "array([ 2,  4,  6,  8, 10])"
      ]
     },
     "execution_count": 5,
     "metadata": {},
     "output_type": "execute_result"
    }
   ],
   "source": [
    "x1=np.array([1, 2, 3, 4, 5])\n",
    "x1*2"
   ]
  },
  {
   "cell_type": "markdown",
   "id": "f7526afd-d6c4-40f5-a2b4-921ff0f69d50",
   "metadata": {},
   "source": [
    "6. Create a NumPy array of 10 random numbers between 1 and 100. Then, calculate and print the mean and standard deviation of the array."
   ]
  },
  {
   "cell_type": "code",
   "execution_count": 6,
   "id": "d70cea8f-b436-47b2-bbc6-2ebefadd7ffe",
   "metadata": {},
   "outputs": [
    {
     "name": "stdout",
     "output_type": "stream",
     "text": [
      "[61 53 68 55 21 80 45 68 77 36]\n",
      "56.4\n",
      "17.56245996436718\n"
     ]
    }
   ],
   "source": [
    "x1=np.random.randint(1,100,10)\n",
    "print(x1)\n",
    "\n",
    "print(x1.mean())\n",
    "print(x1.std())"
   ]
  },
  {
   "cell_type": "markdown",
   "id": "c1bdef18-8fc0-4dd9-9d83-2fdedf3653e1",
   "metadata": {},
   "source": [
    "7. Create a 2x3 matrix and find its transpose."
   ]
  },
  {
   "cell_type": "code",
   "execution_count": 7,
   "id": "c5c45a78-3457-4342-b302-4c020993bcf1",
   "metadata": {},
   "outputs": [
    {
     "name": "stdout",
     "output_type": "stream",
     "text": [
      "[[-1.29030004 -0.80221466  0.71707133]\n",
      " [-0.09064868  0.92838918  0.34318236]]\n"
     ]
    },
    {
     "data": {
      "text/plain": [
       "array([[-1.29030004, -0.09064868],\n",
       "       [-0.80221466,  0.92838918],\n",
       "       [ 0.71707133,  0.34318236]])"
      ]
     },
     "execution_count": 7,
     "metadata": {},
     "output_type": "execute_result"
    }
   ],
   "source": [
    "x1=np.random.randn(2,3)\n",
    "print(x1)\n",
    "x1.T"
   ]
  },
  {
   "cell_type": "markdown",
   "id": "260ef538-708b-4bb8-9d9b-87ff5c9da78a",
   "metadata": {},
   "source": [
    "8. Create a 2D array of shape (3, 3) and add a 1D array [1, 2, 3] to it using broadcasting."
   ]
  },
  {
   "cell_type": "code",
   "execution_count": 8,
   "id": "04a00b19-f858-4a96-bb56-40837a29c1b7",
   "metadata": {},
   "outputs": [
    {
     "name": "stdout",
     "output_type": "stream",
     "text": [
      "[[ 2.20922225 -0.92909256 -1.56106356]\n",
      " [ 1.58135681 -0.76030819  0.05527978]\n",
      " [ 2.31013234  0.31307495  1.55226219]]\n",
      "[1 2 3]\n",
      "[[ 2.20922225 -0.92909256 -1.56106356]\n",
      " [ 1.58135681 -0.76030819  0.05527978]\n",
      " [ 2.31013234  0.31307495  1.55226219]\n",
      " [ 1.          2.          3.        ]]\n"
     ]
    }
   ],
   "source": [
    "x1=np.random.randn(3,3)\n",
    "print(x1)\n",
    "\n",
    "x2=np.array([1, 2, 3])\n",
    "print(x2)\n",
    "x3=np.vstack([x1, x2])\n",
    "print(x3)"
   ]
  },
  {
   "cell_type": "markdown",
   "id": "eea00ea8-dc07-4db8-8d8c-2742d8d33db5",
   "metadata": {},
   "source": [
    "9. Given the array arr = np.array([1, 2, 2, 3, 4, 4, 5]), find and print the unique elements in the array."
   ]
  },
  {
   "cell_type": "code",
   "execution_count": 9,
   "id": "b5bb26cb-8150-43be-bbf0-b53d18f89640",
   "metadata": {},
   "outputs": [
    {
     "data": {
      "text/plain": [
       "array([1, 2, 3, 4, 5])"
      ]
     },
     "execution_count": 9,
     "metadata": {},
     "output_type": "execute_result"
    }
   ],
   "source": [
    "arr=np.array([1,2,2,3,4,4,5])\n",
    "np.unique(arr)"
   ]
  },
  {
   "cell_type": "markdown",
   "id": "025c42f1-3899-42aa-99eb-41078d5ae7ec",
   "metadata": {},
   "source": [
    "10. Create a NumPy array of size 6, and replace all values greater than 3 with the number 100."
   ]
  },
  {
   "cell_type": "code",
   "execution_count": 10,
   "id": "6a4ba16d-a31b-4e08-a176-df9a0798de9e",
   "metadata": {},
   "outputs": [
    {
     "name": "stdout",
     "output_type": "stream",
     "text": [
      "[  3   1   2 100   1 100]\n"
     ]
    }
   ],
   "source": [
    "x1 = np.random.randint(1,10,6)\n",
    "x1 = np.where(x1>3,100,x1)\n",
    "print(x1)"
   ]
  },
  {
   "cell_type": "markdown",
   "id": "a325d08f-72f1-41a0-bf12-a57a60ba3ea3",
   "metadata": {},
   "source": [
    "11. Create two arrays arr1 = np.array([1, 2, 3]) and arr2 = np.array([4, 5, 6]). Stack them both vertically and horizontally."
   ]
  },
  {
   "cell_type": "code",
   "execution_count": 11,
   "id": "f22844da-2bb5-434b-9168-180026af3e76",
   "metadata": {},
   "outputs": [
    {
     "name": "stdout",
     "output_type": "stream",
     "text": [
      "[1 2 3 4 5 6]\n",
      "[[1 2 3]\n",
      " [4 5 6]]\n"
     ]
    }
   ],
   "source": [
    "arr1=np.array([1,2,3])\n",
    "arr2=np.array([4,5,6])\n",
    "\n",
    "x3=np.hstack([arr1,arr2])\n",
    "print(x3)\n",
    "x3=np.vstack([arr1,arr2])\n",
    "print(x3)"
   ]
  },
  {
   "cell_type": "markdown",
   "id": "55e2d7d0-229b-426d-b20f-31c331816c67",
   "metadata": {},
   "source": [
    " 12. Create a 4x4 matrix. Using advanced indexing, extract the second column and the third row of the matrix."
   ]
  },
  {
   "cell_type": "code",
   "execution_count": 12,
   "id": "6c2efb3c-9a9c-4b0e-8bb3-1db4015ec60c",
   "metadata": {},
   "outputs": [
    {
     "name": "stdout",
     "output_type": "stream",
     "text": [
      "[[ 0.99185235  1.02548172 -0.66256502 -0.51780472]\n",
      " [-0.97122023  0.2864836  -0.64742321  0.01439652]\n",
      " [-1.34466212 -0.63261972  1.37546671 -0.12563322]\n",
      " [ 1.70165666 -0.84479453  0.03933839  0.68645896]]\n",
      "[ 1.02548172  0.2864836  -0.63261972 -0.84479453]\n",
      "[[-1.34466212 -0.63261972  1.37546671 -0.12563322]]\n"
     ]
    }
   ],
   "source": [
    "x1=np.random.randn(4,4)\n",
    "print(x1)\n",
    "print(x1[:,1])\n",
    "print(x1[2:3])"
   ]
  },
  {
   "cell_type": "markdown",
   "id": "1bc0b4af-ae35-4609-bcb8-0f1882f07c1a",
   "metadata": {},
   "source": [
    "13. Create two 3x3 matrices and multiply them using the dot product. Show both the matrix multiplication and the element-wise multiplication."
   ]
  },
  {
   "cell_type": "code",
   "execution_count": 13,
   "id": "a8afe6bc-d72a-4a63-a60a-6fd401b7621f",
   "metadata": {},
   "outputs": [
    {
     "data": {
      "text/plain": [
       "array([[-0.00985766,  0.06632632, -0.24904112],\n",
       "       [-1.01762459,  1.34989764, -1.83195331],\n",
       "       [ 0.76353266, -1.4572022 ,  0.82292113]])"
      ]
     },
     "execution_count": 13,
     "metadata": {},
     "output_type": "execute_result"
    }
   ],
   "source": [
    "x1=np.random.randn(3,3)\n",
    "x2=np.random.randn(3,3)\n",
    "np.dot(x1,x2)"
   ]
  },
  {
   "cell_type": "markdown",
   "id": "19574640-8417-428d-af4d-9dfdbccc343c",
   "metadata": {},
   "source": [
    "14. Generate a 3x3 matrix of random integers between 10 and 50, and a 2x5 matrix of random floats with values between 0 and 1."
   ]
  },
  {
   "cell_type": "code",
   "execution_count": 14,
   "id": "cb9981f3-ddaf-4141-bdc5-8ae95a67c3ad",
   "metadata": {},
   "outputs": [
    {
     "name": "stdout",
     "output_type": "stream",
     "text": [
      "[[35 27 25]\n",
      " [17 49 15]\n",
      " [41 25 40]]\n",
      "[[0.29874393 0.90777342 0.49194838 0.22194132 0.69962959]\n",
      " [0.15176174 0.21657916 0.28163568 0.07324806 0.39824305]]\n"
     ]
    }
   ],
   "source": [
    "x1=np.random.randint(10,50,9).reshape(3,3)\n",
    "print(x1)\n",
    "x2=np.random.rand(2,5)\n",
    "print(x2)"
   ]
  },
  {
   "cell_type": "markdown",
   "id": "bfa64159-a890-4b3f-a3a3-03a342493e3a",
   "metadata": {},
   "source": [
    "15. Create a 3x3 matrix and add a scalar value 10 to each element of the matrix using broadcasting."
   ]
  },
  {
   "cell_type": "code",
   "execution_count": 15,
   "id": "e38684ba-714e-48fd-94e0-9095021247fd",
   "metadata": {},
   "outputs": [
    {
     "name": "stdout",
     "output_type": "stream",
     "text": [
      "[[ 0.65667664  0.78641336 -0.07370371]\n",
      " [-0.34155687 -0.90679534  0.61357361]\n",
      " [-0.69243177  0.2420149  -0.95396728]]\n",
      "[[10.65667664 10.78641336  9.92629629]\n",
      " [ 9.65844313  9.09320466 10.61357361]\n",
      " [ 9.30756823 10.2420149   9.04603272]]\n"
     ]
    }
   ],
   "source": [
    "x1=np.random.randn(3,3)\n",
    "print(x1)\n",
    "x2=x1+10\n",
    "print(x2)"
   ]
  },
  {
   "cell_type": "markdown",
   "id": "12484cc1-f894-48e4-afdd-4caf96519f60",
   "metadata": {},
   "source": [
    "16. Standardize a NumPy array to have a mean of 0 and standard deviation of 1."
   ]
  },
  {
   "cell_type": "code",
   "execution_count": 16,
   "id": "52302706-416e-4a3f-be12-06a77d173b10",
   "metadata": {},
   "outputs": [
    {
     "name": "stdout",
     "output_type": "stream",
     "text": [
      "Standardized: [-1.41421356 -0.70710678  0.          0.70710678  1.41421356]\n"
     ]
    }
   ],
   "source": [
    "arr = np.array([1, 2, 3, 4, 5])\n",
    "standardized = (arr - np.mean(arr)) / np.std(arr)\n",
    "print(\"Standardized:\", standardized)"
   ]
  },
  {
   "cell_type": "markdown",
   "id": "5a90d11d-7a63-4700-a993-35ff058b6762",
   "metadata": {},
   "source": [
    "17. Generate an array of 10 evenly spaced numbers between 0 and 1 using np.linspace, and print the result."
   ]
  },
  {
   "cell_type": "code",
   "execution_count": 17,
   "id": "a166ae4a-a8c6-4ca8-a0e7-5ccc81ec7f77",
   "metadata": {},
   "outputs": [
    {
     "name": "stdout",
     "output_type": "stream",
     "text": [
      "[0.         0.11111111 0.22222222 0.33333333 0.44444444 0.55555556\n",
      " 0.66666667 0.77777778 0.88888889 1.        ]\n"
     ]
    }
   ],
   "source": [
    "x1=np.linspace(0,1,10)\n",
    "print(x1)"
   ]
  },
  {
   "cell_type": "markdown",
   "id": "fb608021-690d-47da-8315-63da73b0eb5c",
   "metadata": {},
   "source": [
    "18. Use np.linspace to create an array of 100 points between 0 and 2𝜋\n",
    ", then compute the sine of these points and plot the result using Matplotlib."
   ]
  },
  {
   "cell_type": "code",
   "execution_count": 18,
   "id": "b761ef46-ee4b-4ba9-a747-6799b12ca5d8",
   "metadata": {},
   "outputs": [
    {
     "name": "stdout",
     "output_type": "stream",
     "text": [
      "[ 0.00000000e+00  6.34239197e-02  1.26592454e-01  1.89251244e-01\n",
      "  2.51147987e-01  3.12033446e-01  3.71662456e-01  4.29794912e-01\n",
      "  4.86196736e-01  5.40640817e-01  5.92907929e-01  6.42787610e-01\n",
      "  6.90079011e-01  7.34591709e-01  7.76146464e-01  8.14575952e-01\n",
      "  8.49725430e-01  8.81453363e-01  9.09631995e-01  9.34147860e-01\n",
      "  9.54902241e-01  9.71811568e-01  9.84807753e-01  9.93838464e-01\n",
      "  9.98867339e-01  9.99874128e-01  9.96854776e-01  9.89821442e-01\n",
      "  9.78802446e-01  9.63842159e-01  9.45000819e-01  9.22354294e-01\n",
      "  8.95993774e-01  8.66025404e-01  8.32569855e-01  7.95761841e-01\n",
      "  7.55749574e-01  7.12694171e-01  6.66769001e-01  6.18158986e-01\n",
      "  5.67059864e-01  5.13677392e-01  4.58226522e-01  4.00930535e-01\n",
      "  3.42020143e-01  2.81732557e-01  2.20310533e-01  1.58001396e-01\n",
      "  9.50560433e-02  3.17279335e-02 -3.17279335e-02 -9.50560433e-02\n",
      " -1.58001396e-01 -2.20310533e-01 -2.81732557e-01 -3.42020143e-01\n",
      " -4.00930535e-01 -4.58226522e-01 -5.13677392e-01 -5.67059864e-01\n",
      " -6.18158986e-01 -6.66769001e-01 -7.12694171e-01 -7.55749574e-01\n",
      " -7.95761841e-01 -8.32569855e-01 -8.66025404e-01 -8.95993774e-01\n",
      " -9.22354294e-01 -9.45000819e-01 -9.63842159e-01 -9.78802446e-01\n",
      " -9.89821442e-01 -9.96854776e-01 -9.99874128e-01 -9.98867339e-01\n",
      " -9.93838464e-01 -9.84807753e-01 -9.71811568e-01 -9.54902241e-01\n",
      " -9.34147860e-01 -9.09631995e-01 -8.81453363e-01 -8.49725430e-01\n",
      " -8.14575952e-01 -7.76146464e-01 -7.34591709e-01 -6.90079011e-01\n",
      " -6.42787610e-01 -5.92907929e-01 -5.40640817e-01 -4.86196736e-01\n",
      " -4.29794912e-01 -3.71662456e-01 -3.12033446e-01 -2.51147987e-01\n",
      " -1.89251244e-01 -1.26592454e-01 -6.34239197e-02 -2.44929360e-16]\n"
     ]
    },
    {
     "data": {
      "image/png": "[encoded data removed]",
      "text/plain": [
       "<Figure size 640x480 with 1 Axes>"
      ]
     },
     "metadata": {},
     "output_type": "display_data"
    }
   ],
   "source": [
    "x1=np.linspace(0,2*np.pi,100)\n",
    "\n",
    "y1=np.sin(x1)\n",
    "print(y1)\n",
    "\n",
    "import matplotlib.pyplot as plt\n",
    "\n",
    "plt.plot(x1,y1)\n",
    "\n",
    "plt.show()  "
   ]
  },
  {
   "cell_type": "markdown",
   "id": "89ae6b52-b968-41ff-b3e4-97516fd64a90",
   "metadata": {},
   "source": [
    "19. Create a NumPy array arr = np.array([1, 2, 8, 4, 3]). Use argmax() to find the index of the maximum value in the array."
   ]
  },
  {
   "cell_type": "code",
   "execution_count": 19,
   "id": "3b86c9bd-e6c7-4c7e-821a-5f3fef512235",
   "metadata": {},
   "outputs": [
    {
     "name": "stdout",
     "output_type": "stream",
     "text": [
      "2\n"
     ]
    }
   ],
   "source": [
    "arr=np.array([1, 2,8, 4, 3])\n",
    "max_index=np.argmax(arr)\n",
    "print(max_index)"
   ]
  },
  {
   "cell_type": "markdown",
   "id": "57217f15-3ac3-4e91-96c8-7f6d8fd766a3",
   "metadata": {},
   "source": [
    "20. Create a NumPy array arr = np.array([5, 10, 2, 8, 3]). Use argmin() to find the index of the minimum value in the array."
   ]
  },
  {
   "cell_type": "code",
   "execution_count": 20,
   "id": "15980e77-c3e4-41e1-b9c0-47b5a87953d2",
   "metadata": {},
   "outputs": [
    {
     "data": {
      "text/plain": [
       "2"
      ]
     },
     "execution_count": 20,
     "metadata": {},
     "output_type": "execute_result"
    }
   ],
   "source": [
    "x1=np.array([5,10,2,8,3])\n",
    "np.argmin(x1)"
   ]
  },
  {
   "cell_type": "markdown",
   "id": "aec6f19b-094f-4e2f-b9a1-51734129da10",
   "metadata": {},
   "source": [
    "21. Create a NumPy array arr = np.array([10, 20, 30, 40, 50]). Use Boolean indexing to select all values greater than 25.\n"
   ]
  },
  {
   "cell_type": "code",
   "execution_count": 21,
   "id": "8ae8c0b4-1cc6-4b42-96f9-8bf1a354a9cc",
   "metadata": {},
   "outputs": [
    {
     "name": "stdout",
     "output_type": "stream",
     "text": [
      "[30 40 50]\n"
     ]
    }
   ],
   "source": [
    "x1=np.array([10,20,30,40,50])\n",
    "x2=x1[x1>25]\n",
    "print(x2)"
   ]
  },
  {
   "cell_type": "markdown",
   "id": "11d2be8d-2eed-4f5a-9b80-a1e88ef7b12c",
   "metadata": {},
   "source": [
    "22. Create a NumPy array arr = np.array([10, 15, 20, 25, 30, 35, 40]). Use Boolean indexing to select values that are greater than 15 but less than 35."
   ]
  },
  {
   "cell_type": "code",
   "execution_count": 22,
   "id": "fe5a0e9f-dd04-45cf-b560-d7447a8bba18",
   "metadata": {},
   "outputs": [
    {
     "name": "stdout",
     "output_type": "stream",
     "text": [
      "[20 25 30]\n"
     ]
    }
   ],
   "source": [
    "x1 = np.array([10, 15, 20, 25, 30, 35, 40])\n",
    "x2 = x1[(x1 > 15) & (x1 < 35)]\n",
    "print(x2)"
   ]
  },
  {
   "cell_type": "markdown",
   "id": "286f16cf-ce04-4128-9f41-2c95597f230c",
   "metadata": {},
   "source": [
    "23. Create a NumPy array arr = np.array([1, 2, 3, 4, 5]). Use np.where() to replace all values greater than 3 with 10, and all other values with 0."
   ]
  },
  {
   "cell_type": "code",
   "execution_count": 23,
   "id": "c80f361f-bc77-4ca9-a094-2a16d64ad4b1",
   "metadata": {},
   "outputs": [
    {
     "name": "stdout",
     "output_type": "stream",
     "text": [
      "[ 0  0  0 10 10]\n"
     ]
    }
   ],
   "source": [
    "x1=np.array([1,2,3,4,5])\n",
    "x2=np.where(x1>3,10,0)\n",
    "print(x2)"
   ]
  },
  {
   "cell_type": "markdown",
   "id": "77ac1dcc-c4d0-4656-bc89-d8eeb2ec0743",
   "metadata": {},
   "source": [
    "24. Create a NumPy array arr = np.array([12, 15, 18, 20, 22, 25]). Use np.where() to replace values greater than 20 with 10, values less than 15 with -10, and leave others unchanged."
   ]
  },
  {
   "cell_type": "code",
   "execution_count": 24,
   "id": "818a0636-ee80-446e-9124-de59bdafca2a",
   "metadata": {},
   "outputs": [
    {
     "name": "stdout",
     "output_type": "stream",
     "text": [
      "[-10  15  18  20  10  10]\n"
     ]
    }
   ],
   "source": [
    "x1=np.array([12,15,18,20,22,25])\n",
    "x2=np.where(x1>20,10,np.where(x1<15,-10,x1))\n",
    "print(x2)"
   ]
  },
  {
   "cell_type": "markdown",
   "id": "57b3e947-ae0f-4f93-8c2c-1107132374be",
   "metadata": {},
   "source": [
    "25. Create a 2D array arr = np.array([[5, 10, 15], [2, 20, 30], [7, 1, 4]]). Use np.argmax() and np.argmin() to find the indices of the maximum and minimum values."
   ]
  },
  {
   "cell_type": "code",
   "execution_count": 25,
   "id": "94c56ae3-9b8d-498f-b144-4719f91afb7d",
   "metadata": {},
   "outputs": [
    {
     "name": "stdout",
     "output_type": "stream",
     "text": [
      "[[ 5 10 15]\n",
      " [ 2 20 30]\n",
      " [ 7  1  4]]\n",
      "5\n",
      "7\n"
     ]
    }
   ],
   "source": [
    "arr=np.array([[5,10,15],[2,20,30],[7,1,4]])\n",
    "print(arr)\n",
    "print(np.argmax(arr))\n",
    "print(np.argmin(arr))"
   ]
  }
 ],
 "metadata": {
  "kernelspec": {
   "display_name": "base",
   "language": "python",
   "name": "python3"
  },
  "language_info": {
   "codemirror_mode": {
    "name": "ipython",
    "version": 3
   },
   "file_extension": ".py",
   "mimetype": "text/x-python",
   "name": "python",
   "nbconvert_exporter": "python",
   "pygments_lexer": "ipython3",
   "version": "3.12.4"
  }
 },
 "nbformat": 4,
 "nbformat_minor": 5
}
