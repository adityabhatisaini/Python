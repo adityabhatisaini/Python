{
 "cells": [
  {
   "cell_type": "code",
   "execution_count": 2,
   "metadata": {},
   "outputs": [
    {
     "name": "stdout",
     "output_type": "stream",
     "text": [
      "[[10 20 15]\n",
      " [40 50 35]\n",
      " [25 30 45]\n",
      " [50 60 70]]\n",
      "[10 15 20 25 30 35 40 45 50 50 60 70]\n",
      "[50 50 60 70]\n",
      "[50 60 70]\n"
     ]
    }
   ],
   "source": [
    "import numpy as np\n",
    "x=[[10,20,15],\n",
    "    [40,50,35],\n",
    "    [25,30,45],\n",
    "    [50,60,70]]\n",
    "\n",
    "x1=np.array(x)\n",
    "print(x1)\n",
    "\n",
    "x2=x1.flatten()\n",
    "x3=np.sort(x2)\n",
    "print(x3)\n",
    "x4 = x3[-4:]\n",
    "print(x4)\n",
    "x5=np.unique(x4)\n",
    "print(x5)\n",
    "\n"
   ]
  },
  {
   "cell_type": "code",
   "execution_count": 4,
   "metadata": {},
   "outputs": [
    {
     "name": "stdout",
     "output_type": "stream",
     "text": [
      "[[1 2 3]\n",
      " [4 5 6]\n",
      " [7 8 9]]\n"
     ]
    }
   ],
   "source": [
    "x1=np.array([[1,2,3],[4,5,6],[7,8,9]])\n",
    "\n",
    "print(x1)\n",
    "\n"
   ]
  }
 ],
 "metadata": {
  "kernelspec": {
   "display_name": "Python 3",
   "language": "python",
   "name": "python3"
  },
  "language_info": {
   "codemirror_mode": {
    "name": "ipython",
    "version": 3
   },
   "file_extension": ".py",
   "mimetype": "text/x-python",
   "name": "python",
   "nbconvert_exporter": "python",
   "pygments_lexer": "ipython3",
   "version": "3.11.9"
  }
 },
 "nbformat": 4,
 "nbformat_minor": 2
}
