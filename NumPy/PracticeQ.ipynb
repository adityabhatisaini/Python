{
 "cells": [
  {
   "cell_type": "markdown",
   "metadata": {},
   "source": [
    "Q. Get top 4 value from giving array below"
   ]
  },
  {
   "cell_type": "code",
   "execution_count": 17,
   "metadata": {},
   "outputs": [
    {
     "name": "stdout",
     "output_type": "stream",
     "text": [
      "[[10 20 15]\n",
      " [40 50 35]\n",
      " [25 30 45]\n",
      " [50 60 70]]\n",
      "[10 15 20 25 30 35 40 45 50 50 60 70]\n",
      "[50 50 60 70]\n",
      "[50 60 70]\n"
     ]
    }
   ],
   "source": [
    "import numpy as np\n",
    "x=[[10,20,15],\n",
    "    [40,50,35],\n",
    "    [25,30,45],\n",
    "    [50,60,70]]\n",
    "\n",
    "x1=np.array(x)\n",
    "print(x1)\n",
    "\n",
    "x2=x1.flatten()\n",
    "x3=np.sort(x2)\n",
    "print(x3)\n",
    "x4 = x3[-4:]\n",
    "print(x4)\n",
    "x5=np.unique(x4)\n",
    "print(x5)\n",
    "\n"
   ]
  },
  {
   "cell_type": "markdown",
   "metadata": {},
   "source": [
    "Q. Find Odd value from the giving array below and make square values."
   ]
  },
  {
   "cell_type": "code",
   "execution_count": 18,
   "metadata": {},
   "outputs": [
    {
     "name": "stdout",
     "output_type": "stream",
     "text": [
      "[[1 2 3]\n",
      " [4 5 6]\n",
      " [7 8 9]]\n",
      "[[ 1  2  9]\n",
      " [ 4 25  6]\n",
      " [49  8 81]]\n"
     ]
    }
   ],
   "source": [
    "x1=np.array([[1,2,3],\n",
    "            [4,5,6],\n",
    "            [7,8,9]])\n",
    "\n",
    "print(x1)\n",
    "\n",
    "x1=np.where(x1 % 2 !=0,x1**2,x1)\n",
    "print(x1)"
   ]
  },
  {
   "cell_type": "markdown",
   "metadata": {},
   "source": [
    "Q. Create 4*2 integers array from 0 to 7 and print ?"
   ]
  },
  {
   "cell_type": "code",
   "execution_count": 19,
   "metadata": {},
   "outputs": [
    {
     "name": "stdout",
     "output_type": "stream",
     "text": [
      "[[0 1]\n",
      " [2 3]\n",
      " [4 5]\n",
      " [6 7]]\n",
      "(4, 2)\n",
      "2\n",
      "4\n",
      "8\n"
     ]
    }
   ],
   "source": [
    "arr=np.arange(0,8).reshape((4,2))\n",
    "print(arr)\n",
    "print(arr.shape)\n",
    "print(arr.ndim)\n",
    "print(len(arr)) # number of available rows in the array\n",
    "print(arr.size) # number of available elements in the array"
   ]
  },
  {
   "cell_type": "markdown",
   "metadata": {},
   "source": [
    "Q. Create a 5*2 integer array from a range between 100 and 200 with difference between 10 ?"
   ]
  },
  {
   "cell_type": "code",
   "execution_count": 20,
   "metadata": {},
   "outputs": [
    {
     "name": "stdout",
     "output_type": "stream",
     "text": [
      "[[100 110]\n",
      " [120 130]\n",
      " [140 150]\n",
      " [160 170]\n",
      " [180 190]]\n"
     ]
    }
   ],
   "source": [
    "arr=np.arange(100,200,10).reshape((5,2))\n",
    "print(arr)\n"
   ]
  },
  {
   "cell_type": "markdown",
   "metadata": {},
   "source": [
    "Q. Return 3rd column of the array ?"
   ]
  },
  {
   "cell_type": "code",
   "execution_count": 21,
   "metadata": {},
   "outputs": [
    {
     "name": "stdout",
     "output_type": "stream",
     "text": [
      "[[11 22 33]\n",
      " [44 55 66]\n",
      " [77 88 99]]\n",
      "[33 66 99]\n",
      "[44 55 66]\n",
      "99\n",
      "99\n"
     ]
    }
   ],
   "source": [
    "arr=np.array([[11,22,33],\n",
    "              [44,55,66],\n",
    "              [77,88,99]])\n",
    "print(arr)\n",
    "\n",
    "print(arr[:,2]) # if you want to access the columns of the array\n",
    "print(arr[1,:]) # if you want to access the rows of the array\n",
    "print(arr[2,2])#if you want to get a particular positional value\n",
    "print(arr[2][2])# both are same \n"
   ]
  },
  {
   "cell_type": "markdown",
   "metadata": {},
   "source": [
    "Q. Make sum of two arr1,arr2 to and make square ?"
   ]
  },
  {
   "cell_type": "code",
   "execution_count": 22,
   "metadata": {},
   "outputs": [
    {
     "name": "stdout",
     "output_type": "stream",
     "text": [
      "[[11 22 33]\n",
      " [44 55 66]\n",
      " [77 88 99]]\n",
      "[[20 39 33]\n",
      " [25 25 28]]\n",
      "[[ 400 1521 1089]\n",
      " [ 625  625  784]]\n"
     ]
    }
   ],
   "source": [
    "arr1=np.array([[5,6,9],\n",
    "               [21,18,27]])\n",
    "arr2=np.array([[15,33,24],\n",
    "               [4,7,1]])\n",
    "\n",
    "print(arr)\n",
    "arr3=arr1+arr2\n",
    "print(arr3)\n",
    "arr4=arr3**2\n",
    "print(arr4)"
   ]
  },
  {
   "cell_type": "markdown",
   "metadata": {},
   "source": [
    "Q. Splite this array into 4 equal sized sub array part ?"
   ]
  },
  {
   "cell_type": "code",
   "execution_count": 29,
   "metadata": {},
   "outputs": [
    {
     "name": "stdout",
     "output_type": "stream",
     "text": [
      "[[10 11 12]\n",
      " [13 14 15]\n",
      " [16 17 18]\n",
      " [19 20 21]\n",
      " [22 23 24]\n",
      " [25 26 27]\n",
      " [28 29 30]\n",
      " [31 32 33]]\n",
      "[array([[10, 11, 12],\n",
      "       [13, 14, 15]]), array([[16, 17, 18],\n",
      "       [19, 20, 21]]), array([[22, 23, 24],\n",
      "       [25, 26, 27]]), array([[28, 29, 30],\n",
      "       [31, 32, 33]])]\n"
     ]
    }
   ],
   "source": [
    "arr=np.arange(10,34).reshape(8,3)\n",
    "\n",
    "print(arr)\n",
    "\n",
    "arr2=np.split(arr,4)\n",
    "print(arr2)"
   ]
  },
  {
   "cell_type": "markdown",
   "metadata": {},
   "source": [
    "Q. Short following numpy array ?"
   ]
  },
  {
   "cell_type": "code",
   "execution_count": 33,
   "metadata": {},
   "outputs": [
    {
     "name": "stdout",
     "output_type": "stream",
     "text": [
      "[[34 43 73]\n",
      " [82 22 12]\n",
      " [53 94 60]]\n",
      "[[34 43 73]\n",
      " [12 22 82]\n",
      " [53 60 94]]\n"
     ]
    }
   ],
   "source": [
    "arr1=np.array([[34,43,73],[82,22,12],[53,94,60]])\n",
    "print(arr1)\n",
    "x1=np.sort(arr1)\n",
    "\n",
    "print(x1)\n"
   ]
  }
 ],
 "metadata": {
  "kernelspec": {
   "display_name": "Python 3",
   "language": "python",
   "name": "python3"
  },
  "language_info": {
   "codemirror_mode": {
    "name": "ipython",
    "version": 3
   },
   "file_extension": ".py",
   "mimetype": "text/x-python",
   "name": "python",
   "nbconvert_exporter": "python",
   "pygments_lexer": "ipython3",
   "version": "3.11.9"
  }
 },
 "nbformat": 4,
 "nbformat_minor": 2
}
