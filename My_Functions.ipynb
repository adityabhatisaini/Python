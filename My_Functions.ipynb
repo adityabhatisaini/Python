{
 "cells": [
  {
   "cell_type": "code",
   "execution_count": 1,
   "metadata": {},
   "outputs": [],
   "source": [
    "# Login function using password\n",
    "def myfun():\n",
    "    global x\n",
    "    x=int(input('Enter Value'))\n",
    "    \n",
    "\n",
    "    if x==1008:\n",
    "        print('Welcome Boss')\n",
    "    else:\n",
    "        myfun()\n",
    "#myfun()"
   ]
  },
  {
   "cell_type": "code",
   "execution_count": 2,
   "metadata": {},
   "outputs": [],
   "source": [
    "#open URL using password protection\n",
    "import webbrowser\n",
    "url = \"https://www.adityabhati.online/\"\n",
    "def myfun():\n",
    "    global x\n",
    "    x=input('Enter Value')\n",
    "    \n",
    "\n",
    "    if x=='1008':\n",
    "        webbrowser.open(url)\n",
    "        \n",
    "    else:\n",
    "        myfun()\n",
    "#myfun()"
   ]
  },
  {
   "cell_type": "code",
   "execution_count": 3,
   "metadata": {},
   "outputs": [],
   "source": [
    "# Input type checker\n",
    "def new_func():\n",
    "    try: \n",
    "        int(input('Value'))\n",
    "        print('Value is intiger')\n",
    "    except:\n",
    "        print('Value is Varchar')\n",
    "\n",
    "#new_func()"
   ]
  },
  {
   "cell_type": "code",
   "execution_count": 4,
   "metadata": {},
   "outputs": [],
   "source": [
    "def myfun5():\n",
    "    # Opens the file 'testing.txt' in read mode ('r')\n",
    "    with open('testing.txt', 'r') as f:\n",
    "        # Reads the entire content of the file and prints it\n",
    "        x=f.read()\n",
    "    print(x)\n",
    "    check=x.find('Aditya')\n",
    "    print(check)\n",
    "\n",
    "# Calls the function to execute the file reading\n",
    "#myfun5()"
   ]
  },
  {
   "cell_type": "code",
   "execution_count": 5,
   "metadata": {},
   "outputs": [],
   "source": [
    "def myfun4():\n",
    "    with open('testing.txt', 'a') as x1:  # Open the file once outside the loop\n",
    "        for i in range(2000000):\n",
    "            x1.write(f\"{i}\\n\")  # Write each number followed by a newline for readability\n",
    "\n",
    "#myfun4()"
   ]
  },
  {
   "cell_type": "code",
   "execution_count": 6,
   "metadata": {},
   "outputs": [],
   "source": [
    "def myfun2():\n",
    "    with open('testing.txt', 'r') as x2:\n",
    "        print(x2.read())  # Read and display the file content.\n",
    "        x2.seek(0)  # Reset the file pointer to the start of the file.\n",
    "        \n",
    "        x = []\n",
    "        for line in x2:  # Iterate over each line in the file.\n",
    "            if 'Python' in line:  # Check if 'Python' is in the line.\n",
    "                x.append(line\n",
    "                         )  # Append the line without leading/trailing spaces.\n",
    "        \n",
    "        print(x)  # Display the collected lines containing 'Python'.\n",
    "\n",
    "#myfun2()\n"
   ]
  },
  {
   "cell_type": "code",
   "execution_count": 7,
   "metadata": {},
   "outputs": [],
   "source": [
    "import itertools\n",
    "\n",
    "def print_combinations_to_file(filename='testing.txt'):\n",
    "    alphabet = 'ABCDEFGHIJKLMNOPQRSTUVWXYZ'\n",
    "    combinations = itertools.product(alphabet, repeat=8)\n",
    "    \n",
    "    with open(filename, 'a') as file:\n",
    "        for combination in combinations:\n",
    "            file.write(''.join(combination) + '\\n')\n",
    "\n",
    "#print_combinations_to_file()"
   ]
  },
  {
   "cell_type": "code",
   "execution_count": 8,
   "metadata": {},
   "outputs": [
    {
     "name": "stdout",
     "output_type": "stream",
     "text": [
      "[50, 65, 23, 82, 100]\n"
     ]
    }
   ],
   "source": [
    "# We can sort value using this function as you wish\n",
    "def myfunc(n):\n",
    "    return abs(n - 50)\n",
    "\n",
    "thislist = [100, 50, 65, 82, 23]\n",
    "thislist.sort(key = myfunc)\n",
    "print(thislist)\n"
   ]
  },
  {
   "cell_type": "code",
   "execution_count": 2,
   "metadata": {},
   "outputs": [
    {
     "name": "stdout",
     "output_type": "stream",
     "text": [
      "\n",
      "Fahrenheit: 98.6\n"
     ]
    }
   ],
   "source": [
    "def c_to_f(c):\n",
    "    '''return celsius to fahrenheit value'''\n",
    "    f=c*9/5+32\n",
    "    return f\n",
    "\n",
    "temp_c=float(input('Enter temperature in celsius:'))\n",
    "temp_f=None\n",
    "temp_f=c_to_f(temp_c)\n",
    "print()\n",
    "print('Fahrenheit:',temp_f)"
   ]
  },
  {
   "cell_type": "code",
   "execution_count": 1,
   "metadata": {},
   "outputs": [
    {
     "name": "stdout",
     "output_type": "stream",
     "text": [
      "function Initiated\n",
      "Hello!\n",
      "Function completed successfully\n"
     ]
    }
   ],
   "source": [
    "\n",
    "def my_decorator(func):\n",
    "    def wrapper():\n",
    "        print('function Initiated')\n",
    "        func()\n",
    "        print('Function completed successfully')\n",
    "    return wrapper\n",
    "\n",
    "@my_decorator\n",
    "def say_hello():\n",
    "    print('Hello!')\n",
    "\n",
    "say_hello()\n"
   ]
  },
  {
   "cell_type": "code",
   "execution_count": 3,
   "metadata": {},
   "outputs": [
    {
     "name": "stdout",
     "output_type": "stream",
     "text": [
      "calc_square took 0.00ms\n"
     ]
    },
    {
     "data": {
      "text/plain": [
       "[1, 4, 9, 16, 25, 36, 49, 64, 81, 100, 121, 144, 169, 196, 225, 256]"
      ]
     },
     "execution_count": 3,
     "metadata": {},
     "output_type": "execute_result"
    }
   ],
   "source": [
    "import time \n",
    "def timing_decorator(func):\n",
    "    def wrapper(numbers):\n",
    "        start=time.time()\n",
    "        result=func(numbers)\n",
    "        end=time.time()\n",
    "        print(f'{func.__name__} took {(end-start)*1000:.2f}ms')\n",
    "        return result\n",
    "    return wrapper\n",
    "\n",
    "@timing_decorator\n",
    "\n",
    "def calc_square(numbers):\n",
    "    result=[]\n",
    "    for number in numbers:\n",
    "        result.append(number*number)\n",
    "    return result\n",
    "\n",
    "@timing_decorator\n",
    "\n",
    "def calc_cube(numbers):\n",
    "    result=[]\n",
    "    for number in numbers:\n",
    "        result.append(number*number*number)\n",
    "    return result\n",
    "\n",
    "calc_square([1,2,3,4,5,6,7,8,9,10,11,12,13,14,15,16])"
   ]
  }
 ],
 "metadata": {
  "kernelspec": {
   "display_name": "base",
   "language": "python",
   "name": "python3"
  },
  "language_info": {
   "codemirror_mode": {
    "name": "ipython",
    "version": 3
   },
   "file_extension": ".py",
   "mimetype": "text/x-python",
   "name": "python",
   "nbconvert_exporter": "python",
   "pygments_lexer": "ipython3",
   "version": "3.12.4"
  }
 },
 "nbformat": 4,
 "nbformat_minor": 2
}
