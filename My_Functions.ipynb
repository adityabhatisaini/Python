{
 "cells": [
  {
   "cell_type": "code",
   "execution_count": 1,
   "metadata": {},
   "outputs": [],
   "source": [
    "# Login function using password\n",
    "def myfun():\n",
    "    global x\n",
    "    x=int(input('Enter Value'))\n",
    "    \n",
    "\n",
    "    if x==1008:\n",
    "        print('Welcome Boss')\n",
    "    else:\n",
    "        myfun()\n",
    "#myfun()"
   ]
  },
  {
   "cell_type": "code",
   "execution_count": 3,
   "metadata": {},
   "outputs": [],
   "source": [
    "#open URL using password protection\n",
    "import webbrowser\n",
    "url = \"https://www.adityabhati.online/\"\n",
    "def myfun():\n",
    "    global x\n",
    "    x=input('Enter Value')\n",
    "    \n",
    "\n",
    "    if x=='1008':\n",
    "        webbrowser.open(url)\n",
    "        \n",
    "    else:\n",
    "        myfun()\n",
    "#myfun()"
   ]
  },
  {
   "cell_type": "code",
   "execution_count": 3,
   "metadata": {},
   "outputs": [],
   "source": [
    "# Input type checker\n",
    "def new_func():\n",
    "    try: \n",
    "        int(input('Value'))\n",
    "        print('Value is intiger')\n",
    "    except:\n",
    "        print('Value is Varchar')\n",
    "\n",
    "#new_func()"
   ]
  },
  {
   "cell_type": "code",
   "execution_count": 4,
   "metadata": {},
   "outputs": [],
   "source": [
    "def myfun5():\n",
    "    # Opens the file 'testing.txt' in read mode ('r')\n",
    "    with open('testing.txt', 'r') as f:\n",
    "        # Reads the entire content of the file and prints it\n",
    "        x=f.read()\n",
    "    print(x)\n",
    "    check=x.find('Aditya')\n",
    "    print(check)\n",
    "\n",
    "# Calls the function to execute the file reading\n",
    "#myfun5()"
   ]
  },
  {
   "cell_type": "code",
   "execution_count": 5,
   "metadata": {},
   "outputs": [],
   "source": [
    "def myfun4():\n",
    "    with open('testing.txt', 'a') as x1:  # Open the file once outside the loop\n",
    "        for i in range(2000000):\n",
    "            x1.write(f\"{i}\\n\")  # Write each number followed by a newline for readability\n",
    "\n",
    "#myfun4()"
   ]
  },
  {
   "cell_type": "code",
   "execution_count": 6,
   "metadata": {},
   "outputs": [],
   "source": [
    "def myfun2():\n",
    "    with open('testing.txt', 'r') as x2:\n",
    "        print(x2.read())  # Read and display the file content.\n",
    "        x2.seek(0)  # Reset the file pointer to the start of the file.\n",
    "        \n",
    "        x = []\n",
    "        for line in x2:  # Iterate over each line in the file.\n",
    "            if 'Python' in line:  # Check if 'Python' is in the line.\n",
    "                x.append(line\n",
    "                         )  # Append the line without leading/trailing spaces.\n",
    "        \n",
    "        print(x)  # Display the collected lines containing 'Python'.\n",
    "\n",
    "#myfun2()\n"
   ]
  },
  {
   "cell_type": "code",
   "execution_count": 7,
   "metadata": {},
   "outputs": [],
   "source": [
    "import itertools\n",
    "\n",
    "def print_combinations_to_file(filename='testing.txt'):\n",
    "    alphabet = 'ABCDEFGHIJKLMNOPQRSTUVWXYZ'\n",
    "    combinations = itertools.product(alphabet, repeat=8)\n",
    "    \n",
    "    with open(filename, 'a') as file:\n",
    "        for combination in combinations:\n",
    "            file.write(''.join(combination) + '\\n')\n",
    "\n",
    "#print_combinations_to_file()"
   ]
  },
  {
   "cell_type": "code",
   "execution_count": 8,
   "metadata": {},
   "outputs": [
    {
     "name": "stdout",
     "output_type": "stream",
     "text": [
      "[50, 65, 23, 82, 100]\n"
     ]
    }
   ],
   "source": [
    "# We can sort value using this function as you wish\n",
    "def myfunc(n):\n",
    "    return abs(n - 50)\n",
    "\n",
    "thislist = [100, 50, 65, 82, 23]\n",
    "thislist.sort(key = myfunc)\n",
    "print(thislist)\n"
   ]
  }
 ],
 "metadata": {
  "kernelspec": {
   "display_name": "Python 3",
   "language": "python",
   "name": "python3"
  },
  "language_info": {
   "codemirror_mode": {
    "name": "ipython",
    "version": 3
   },
   "file_extension": ".py",
   "mimetype": "text/x-python",
   "name": "python",
   "nbconvert_exporter": "python",
   "pygments_lexer": "ipython3",
   "version": "3.11.9"
  }
 },
 "nbformat": 4,
 "nbformat_minor": 2
}
