{
 "cells": [
  {
   "cell_type": "code",
   "execution_count": 2,
   "metadata": {},
   "outputs": [
    {
     "name": "stdout",
     "output_type": "stream",
     "text": [
      "12 inch pizza has 1888.73 calories\n",
      "14 inch pizza has 2570.77 calories\n"
     ]
    }
   ],
   "source": [
    "def calc_circle_area(circle_diameter):\n",
    "    pi_val=3.14159265\n",
    "\n",
    "    circle_radius = circle_diameter / 2.0\n",
    "    circle_area=pi_val * circle_radius*circle_radius\n",
    "    return circle_area\n",
    "\n",
    "def calc_pizza_calories(pizza_diameter):\n",
    "    calories_per_square_inch=16.7 #regular crust pepperoni pizza\n",
    "\n",
    "    total_calories =calc_circle_area(pizza_diameter) * calories_per_square_inch\n",
    "    return total_calories\n",
    "\n",
    "print(f'12 inch pizza has {calc_pizza_calories(12):.2f} calories')\n",
    "print(f'14 inch pizza has {calc_pizza_calories(14):.2f} calories')"
   ]
  },
  {
   "cell_type": "markdown",
   "metadata": {},
   "source": [
    "# Function with doctstring"
   ]
  },
  {
   "cell_type": "code",
   "execution_count": 2,
   "metadata": {},
   "outputs": [
    {
     "name": "stdout",
     "output_type": "stream",
     "text": [
      "\n",
      "Fahrenheit: 98.6\n"
     ]
    }
   ],
   "source": [
    "def c_to_f(c):\n",
    "    '''return celsius to fahrenheit value'''\n",
    "    f=c*9/5+32\n",
    "    return f\n",
    "\n",
    "temp_c=float(input('Enter temperature in celsius:'))\n",
    "temp_f=None\n",
    "temp_f=c_to_f(temp_c)\n",
    "print()\n",
    "print('Fahrenheit:',temp_f)"
   ]
  },
  {
   "cell_type": "code",
   "execution_count": 3,
   "metadata": {},
   "outputs": [
    {
     "name": "stdout",
     "output_type": "stream",
     "text": [
      "Help on function c_to_f in module __main__:\n",
      "\n",
      "c_to_f(c)\n",
      "    return celsius to fahrenheit value\n",
      "\n"
     ]
    }
   ],
   "source": [
    "help(c_to_f)"
   ]
  }
 ],
 "metadata": {
  "kernelspec": {
   "display_name": "base",
   "language": "python",
   "name": "python3"
  },
  "language_info": {
   "codemirror_mode": {
    "name": "ipython",
    "version": 3
   },
   "file_extension": ".py",
   "mimetype": "text/x-python",
   "name": "python",
   "nbconvert_exporter": "python",
   "pygments_lexer": "ipython3",
   "version": "3.12.4"
  }
 },
 "nbformat": 4,
 "nbformat_minor": 2
}
