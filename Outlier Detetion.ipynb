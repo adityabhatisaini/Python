{
 "cells": [
  {
   "cell_type": "code",
   "execution_count": null,
   "metadata": {},
   "outputs": [
    {
     "data": {
      "text/html": [
       "<div>\n",
       "<style scoped>\n",
       "    .dataframe tbody tr th:only-of-type {\n",
       "        vertical-align: middle;\n",
       "    }\n",
       "\n",
       "    .dataframe tbody tr th {\n",
       "        vertical-align: top;\n",
       "    }\n",
       "\n",
       "    .dataframe thead th {\n",
       "        text-align: right;\n",
       "    }\n",
       "</style>\n",
       "<table border=\"1\" class=\"dataframe\">\n",
       "  <thead>\n",
       "    <tr style=\"text-align: right;\">\n",
       "      <th></th>\n",
       "      <th>gender</th>\n",
       "      <th>height</th>\n",
       "    </tr>\n",
       "  </thead>\n",
       "  <tbody>\n",
       "    <tr>\n",
       "      <th>0</th>\n",
       "      <td>Male</td>\n",
       "      <td>73.847017</td>\n",
       "    </tr>\n",
       "    <tr>\n",
       "      <th>1</th>\n",
       "      <td>Male</td>\n",
       "      <td>68.781904</td>\n",
       "    </tr>\n",
       "    <tr>\n",
       "      <th>2</th>\n",
       "      <td>Male</td>\n",
       "      <td>74.110105</td>\n",
       "    </tr>\n",
       "    <tr>\n",
       "      <th>3</th>\n",
       "      <td>Male</td>\n",
       "      <td>71.730978</td>\n",
       "    </tr>\n",
       "    <tr>\n",
       "      <th>4</th>\n",
       "      <td>Male</td>\n",
       "      <td>69.881796</td>\n",
       "    </tr>\n",
       "    <tr>\n",
       "      <th>...</th>\n",
       "      <td>...</td>\n",
       "      <td>...</td>\n",
       "    </tr>\n",
       "    <tr>\n",
       "      <th>9995</th>\n",
       "      <td>Female</td>\n",
       "      <td>66.172652</td>\n",
       "    </tr>\n",
       "    <tr>\n",
       "      <th>9996</th>\n",
       "      <td>Female</td>\n",
       "      <td>67.067155</td>\n",
       "    </tr>\n",
       "    <tr>\n",
       "      <th>9997</th>\n",
       "      <td>Female</td>\n",
       "      <td>63.867992</td>\n",
       "    </tr>\n",
       "    <tr>\n",
       "      <th>9998</th>\n",
       "      <td>Female</td>\n",
       "      <td>69.034243</td>\n",
       "    </tr>\n",
       "    <tr>\n",
       "      <th>9999</th>\n",
       "      <td>Female</td>\n",
       "      <td>61.944246</td>\n",
       "    </tr>\n",
       "  </tbody>\n",
       "</table>\n",
       "<p>10000 rows × 2 columns</p>\n",
       "</div>"
      ],
      "text/plain": [
       "      gender     height\n",
       "0       Male  73.847017\n",
       "1       Male  68.781904\n",
       "2       Male  74.110105\n",
       "3       Male  71.730978\n",
       "4       Male  69.881796\n",
       "...      ...        ...\n",
       "9995  Female  66.172652\n",
       "9996  Female  67.067155\n",
       "9997  Female  63.867992\n",
       "9998  Female  69.034243\n",
       "9999  Female  61.944246\n",
       "\n",
       "[10000 rows x 2 columns]"
      ]
     },
     "execution_count": 10,
     "metadata": {},
     "output_type": "execute_result"
    }
   ],
   "source": [
    "import numpy as np\n",
    "import pandas as pd\n",
    "\n",
    "# Load dataset (assuming a CSV file with a 'height' column)\n",
    "df = pd.read_csv(\"A:/VS Code/Python/Files/height.csv\")\n",
    "df\n"
   ]
  },
  {
   "cell_type": "code",
   "execution_count": 11,
   "metadata": {},
   "outputs": [
    {
     "name": "stdout",
     "output_type": "stream",
     "text": [
      "Outliers using 3 Standard Deviations:\n",
      "       gender     height\n",
      "994     Male  78.095867\n",
      "1317    Male  78.462053\n",
      "2014    Male  78.998742\n",
      "3285    Male  78.528210\n",
      "3757    Male  78.621374\n",
      "6624  Female  54.616858\n",
      "9285  Female  54.263133\n"
     ]
    }
   ],
   "source": [
    "# Calculate mean and standard deviation\n",
    "mean = df['height'].mean()\n",
    "std_dev = df['height'].std()\n",
    "\n",
    "# Define bounds for outliers\n",
    "lower_bound = mean - (3 * std_dev)\n",
    "upper_bound = mean + (3 * std_dev)\n",
    "\n",
    "# Detect outliers\n",
    "outliers = df[(df['height'] < lower_bound) | (df['height'] > upper_bound)]\n",
    "print(\"Outliers using 3 Standard Deviations:\\n\", outliers)"
   ]
  },
  {
   "cell_type": "code",
   "execution_count": 12,
   "metadata": {},
   "outputs": [
    {
     "name": "stdout",
     "output_type": "stream",
     "text": [
      "Outliers using Z-Score:\n",
      "       gender     height   Z_score\n",
      "994     Male  78.095867  3.048271\n",
      "1317    Male  78.462053  3.143445\n",
      "2014    Male  78.998742  3.282934\n",
      "3285    Male  78.528210  3.160640\n",
      "3757    Male  78.621374  3.184854\n",
      "6624  Female  54.616858 -3.054091\n",
      "9285  Female  54.263133 -3.146027\n"
     ]
    }
   ],
   "source": [
    "# Calculate Z-score\n",
    "df['Z_score'] = (df['height'] - mean) / std_dev\n",
    "\n",
    "# Identify outliers where Z-score > 3 or < -3\n",
    "z_outliers = df[(df['Z_score'] > 3) | (df['Z_score'] < -3)]\n",
    "print(\"Outliers using Z-Score:\\n\", z_outliers)\n"
   ]
  },
  {
   "cell_type": "code",
   "execution_count": 13,
   "metadata": {},
   "outputs": [
    {
     "name": "stdout",
     "output_type": "stream",
     "text": [
      "Outliers using Percentile Method:\n",
      "       gender     height   Z_score\n",
      "23      Male  75.205974  2.297167\n",
      "190     Male  76.709835  2.688031\n",
      "197     Male  75.944460  2.489105\n",
      "202     Male  75.140821  2.280233\n",
      "215     Male  74.795375  2.190449\n",
      "...      ...        ...       ...\n",
      "9761  Female  56.975279 -2.441121\n",
      "9825  Female  55.979198 -2.700009\n",
      "9895  Female  57.740192 -2.242314\n",
      "9904  Female  57.028857 -2.427195\n",
      "9978  Female  57.375759 -2.337033\n",
      "\n",
      "[200 rows x 3 columns]\n"
     ]
    }
   ],
   "source": [
    "# Define percentile thresholds\n",
    "lower_percentile = df['height'].quantile(0.01)  # 1st percentile\n",
    "upper_percentile = df['height'].quantile(0.99)  # 99th percentile\n",
    "\n",
    "# Detect outliers\n",
    "percentile_outliers = df[(df['height'] < lower_percentile) | (df['height'] > upper_percentile)]\n",
    "print(\"Outliers using Percentile Method:\\n\", percentile_outliers)\n"
   ]
  }
 ],
 "metadata": {
  "kernelspec": {
   "display_name": "base",
   "language": "python",
   "name": "python3"
  },
  "language_info": {
   "codemirror_mode": {
    "name": "ipython",
    "version": 3
   },
   "file_extension": ".py",
   "mimetype": "text/x-python",
   "name": "python",
   "nbconvert_exporter": "python",
   "pygments_lexer": "ipython3",
   "version": "3.12.4"
  }
 },
 "nbformat": 4,
 "nbformat_minor": 2
}
