{
 "cells": [
  {
   "cell_type": "code",
   "execution_count": 1,
   "metadata": {},
   "outputs": [
    {
     "data": {
      "text/plain": [
       "array([-1.06929045, -1.18563765,  0.00784208, -0.82936321, -1.3747808 ,\n",
       "       -1.67071591, -1.81055885,  0.46827031])"
      ]
     },
     "execution_count": 1,
     "metadata": {},
     "output_type": "execute_result"
    }
   ],
   "source": [
    "import numpy as np\n",
    "arr=np.random.randn(8)\n",
    "arr"
   ]
  },
  {
   "cell_type": "code",
   "execution_count": 2,
   "metadata": {},
   "outputs": [
    {
     "data": {
      "text/plain": [
       "array([-1., -1.,  1., -1., -1., -1., -1.,  1.])"
      ]
     },
     "execution_count": 2,
     "metadata": {},
     "output_type": "execute_result"
    }
   ],
   "source": [
    "np.sign(arr)"
   ]
  },
  {
   "cell_type": "code",
   "execution_count": 3,
   "metadata": {},
   "outputs": [
    {
     "data": {
      "text/plain": [
       "array([1.06929045, 1.18563765, 0.00784208, 0.82936321, 1.3747808 ,\n",
       "       1.67071591, 1.81055885, 0.46827031])"
      ]
     },
     "execution_count": 3,
     "metadata": {},
     "output_type": "execute_result"
    }
   ],
   "source": [
    "np.abs(arr)"
   ]
  },
  {
   "cell_type": "code",
   "execution_count": 4,
   "metadata": {},
   "outputs": [
    {
     "name": "stdout",
     "output_type": "stream",
     "text": [
      "[ 0.0976248   0.46075383 -0.41033223  0.74011989  0.18843828  1.40830385\n",
      " -0.93486486  0.30634098 -0.48284857 -0.68200696]\n",
      "[ 1.17806685 -0.34234881 -0.64687487 -0.64315954 -2.30293725 -0.94236966\n",
      "  1.03271132 -2.20490304  1.35653267  0.10777507]\n"
     ]
    }
   ],
   "source": [
    "x=np.random.randn(10)\n",
    "y=np.random.randn(10)\n",
    "print(x)\n",
    "print(y)"
   ]
  },
  {
   "cell_type": "code",
   "execution_count": 5,
   "metadata": {},
   "outputs": [
    {
     "data": {
      "text/plain": [
       "array([ 1.17806685,  0.46075383, -0.41033223,  0.74011989,  0.18843828,\n",
       "        1.40830385,  1.03271132,  0.30634098,  1.35653267,  0.10777507])"
      ]
     },
     "execution_count": 5,
     "metadata": {},
     "output_type": "execute_result"
    }
   ],
   "source": [
    "np.maximum(x,y)"
   ]
  },
  {
   "cell_type": "code",
   "execution_count": 6,
   "metadata": {},
   "outputs": [
    {
     "data": {
      "text/plain": [
       "array([1, 2, 3, 4, 5])"
      ]
     },
     "execution_count": 6,
     "metadata": {},
     "output_type": "execute_result"
    }
   ],
   "source": [
    "x=np.array([1,2,3,4,5])\n",
    "y=np.array([6,7,8,9,10])\n",
    "\n",
    "np.minimum(x,y)"
   ]
  },
  {
   "cell_type": "code",
   "execution_count": 7,
   "metadata": {},
   "outputs": [
    {
     "data": {
      "text/plain": [
       "array([ 4.,  6.,  8., nan, 10.])"
      ]
     },
     "execution_count": 7,
     "metadata": {},
     "output_type": "execute_result"
    }
   ],
   "source": [
    "arr=np.array([2,3,4,np.nan,5])\n",
    "arr*2"
   ]
  },
  {
   "cell_type": "code",
   "execution_count": 8,
   "metadata": {},
   "outputs": [
    {
     "data": {
      "text/plain": [
       "44.50560783530728"
      ]
     },
     "execution_count": 8,
     "metadata": {},
     "output_type": "execute_result"
    }
   ],
   "source": [
    "arr = np.random.randn(100)\n",
    "\n",
    "(arr > 0).sum() # Number of positive values\n",
    "\n",
    "48\n",
    "\n",
    "# Summation of only positive numbers in array.\n",
    "np.where(arr < 0, 0, arr).sum()\n",
    "\n",
    "44.50560783530728"
   ]
  },
  {
   "cell_type": "code",
   "execution_count": 28,
   "metadata": {},
   "outputs": [
    {
     "name": "stdout",
     "output_type": "stream",
     "text": [
      "[[3 1 7]\n",
      " [6 4 5]]\n",
      "[[1 3 7]\n",
      " [4 5 6]]\n",
      "[[3 1 5]\n",
      " [6 4 7]]\n"
     ]
    }
   ],
   "source": [
    "arr=np.array([[3,1,7],[6,4,5]])\n",
    "print(arr)\n",
    "sortd_arr=np.sort(arr)\n",
    "print(sortd_arr)\n",
    "\n",
    "colmn_arr=np.sort(arr,axis=0)\n",
    "print(colmn_arr)"
   ]
  },
  {
   "cell_type": "markdown",
   "metadata": {},
   "source": [
    "**Raw wise Descending**"
   ]
  },
  {
   "cell_type": "code",
   "execution_count": 24,
   "metadata": {},
   "outputs": [
    {
     "name": "stdout",
     "output_type": "stream",
     "text": [
      "[[7 3 1]\n",
      " [6 5 4]]\n"
     ]
    }
   ],
   "source": [
    "darr=np.sort(arr,axis=1)[:,::-1]\n",
    "print(darr)"
   ]
  },
  {
   "cell_type": "markdown",
   "metadata": {},
   "source": [
    "**Column wise Descending**"
   ]
  },
  {
   "cell_type": "code",
   "execution_count": 26,
   "metadata": {},
   "outputs": [
    {
     "name": "stdout",
     "output_type": "stream",
     "text": [
      "[[5 1 3]\n",
      " [7 4 6]]\n"
     ]
    }
   ],
   "source": [
    "darr=np.sort(arr,axis=0)[:,::-1]\n",
    "print(darr)"
   ]
  }
 ],
 "metadata": {
  "kernelspec": {
   "display_name": "Python 3",
   "language": "python",
   "name": "python3"
  },
  "language_info": {
   "codemirror_mode": {
    "name": "ipython",
    "version": 3
   },
   "file_extension": ".py",
   "mimetype": "text/x-python",
   "name": "python",
   "nbconvert_exporter": "python",
   "pygments_lexer": "ipython3",
   "version": "3.11.9"
  }
 },
 "nbformat": 4,
 "nbformat_minor": 2
}
