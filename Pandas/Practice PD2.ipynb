{
 "cells": [
  {
   "cell_type": "raw",
   "id": "f15b81ce-5341-4c35-9d9e-f230f09091c2",
   "metadata": {},
   "source": [
    "Create a function that takes a DataFrame of numerical columns and returns the column with the highest mean.\n",
    "df = pd.DataFrame({\n",
    "    'A': [10, 20, 30, 40, 50],\n",
    "    'B': [5, 15, 25, 35, 45],\n",
    "    'C': [100, 200, 300, 400, 500]\n",
    "})\n"
   ]
  },
  {
   "cell_type": "code",
   "execution_count": 76,
   "id": "f3befa62-2828-4b11-b763-17f33dcd85e7",
   "metadata": {},
   "outputs": [
    {
     "name": "stdout",
     "output_type": "stream",
     "text": [
      "C,300.0\n"
     ]
    }
   ],
   "source": [
    "import pandas as pd\n",
    "\n",
    "df = pd.DataFrame({\n",
    "    'A': [10, 20, 30, 40, 50],\n",
    "    'B': [5, 15, 25, 35, 45],\n",
    "    'C': [100, 200, 300, 400, 500]\n",
    "})\n",
    "\n",
    "def High_mean(df):\n",
    "    col_name = df.mean().idxmax()\n",
    "    max_mean = df.mean().max()\n",
    "    return col_name, max_mean\n",
    "\n",
    "High_mean(df)\n",
    "print(f\"{column},{mean_value}\")\n"
   ]
  },
  {
   "cell_type": "raw",
   "id": "11f6d699-9e32-485c-bc40-0e7c93ed6492",
   "metadata": {},
   "source": [
    "Consider data\n",
    "data = {\n",
    "    'Name': ['Alice', 'Bob', 'Charlie', 'David', 'Eva'],\n",
    "    'Age': [24, 27, 22, 32, 29],\n",
    "    'Salary': [50000, 54000, 49000, 62000, 58000],\n",
    "    'Join_Date': ['2021-01-15', '2020-03-22', '2022-07-10', '2019-11-05', '2023-02-14'],\n",
    "    'Email': ['alice@example.com', 'bob@example.com', 'charlie@example.com', 'david@example.com', 'eva@example.com']\n",
    "}\n",
    "df = pd.DataFrame(data)\n",
    "print(df)"
   ]
  },
  {
   "cell_type": "raw",
   "id": "3632ea50-2205-4401-8db7-aaa11a6153b5",
   "metadata": {},
   "source": [
    "1. Write a function to calculate the bonus (10% of salary) for each employee and add it as a new column."
   ]
  },
  {
   "cell_type": "code",
   "execution_count": 77,
   "id": "366471f7-fcfe-4d0b-a752-36addbc22405",
   "metadata": {},
   "outputs": [
    {
     "name": "stdout",
     "output_type": "stream",
     "text": [
      "      Name  Age  Salary   Join_Date                Email\n",
      "0    Alice   24   50000  2021-01-15    alice@example.com\n",
      "1      Bob   27   54000  2020-03-22      bob@example.com\n",
      "2  Charlie   22   49000  2022-07-10  charlie@example.com\n",
      "3    David   32   62000  2019-11-05    david@example.com\n",
      "4      Eva   29   58000  2023-02-14      eva@example.com\n"
     ]
    },
    {
     "data": {
      "text/html": [
       "<div>\n",
       "<style scoped>\n",
       "    .dataframe tbody tr th:only-of-type {\n",
       "        vertical-align: middle;\n",
       "    }\n",
       "\n",
       "    .dataframe tbody tr th {\n",
       "        vertical-align: top;\n",
       "    }\n",
       "\n",
       "    .dataframe thead th {\n",
       "        text-align: right;\n",
       "    }\n",
       "</style>\n",
       "<table border=\"1\" class=\"dataframe\">\n",
       "  <thead>\n",
       "    <tr style=\"text-align: right;\">\n",
       "      <th></th>\n",
       "      <th>Name</th>\n",
       "      <th>Age</th>\n",
       "      <th>Salary</th>\n",
       "      <th>Join_Date</th>\n",
       "      <th>Email</th>\n",
       "      <th>Bonus</th>\n",
       "    </tr>\n",
       "  </thead>\n",
       "  <tbody>\n",
       "    <tr>\n",
       "      <th>0</th>\n",
       "      <td>Alice</td>\n",
       "      <td>24</td>\n",
       "      <td>50000</td>\n",
       "      <td>2021-01-15</td>\n",
       "      <td>alice@example.com</td>\n",
       "      <td>5000.0</td>\n",
       "    </tr>\n",
       "    <tr>\n",
       "      <th>1</th>\n",
       "      <td>Bob</td>\n",
       "      <td>27</td>\n",
       "      <td>54000</td>\n",
       "      <td>2020-03-22</td>\n",
       "      <td>bob@example.com</td>\n",
       "      <td>5400.0</td>\n",
       "    </tr>\n",
       "    <tr>\n",
       "      <th>2</th>\n",
       "      <td>Charlie</td>\n",
       "      <td>22</td>\n",
       "      <td>49000</td>\n",
       "      <td>2022-07-10</td>\n",
       "      <td>charlie@example.com</td>\n",
       "      <td>4900.0</td>\n",
       "    </tr>\n",
       "    <tr>\n",
       "      <th>3</th>\n",
       "      <td>David</td>\n",
       "      <td>32</td>\n",
       "      <td>62000</td>\n",
       "      <td>2019-11-05</td>\n",
       "      <td>david@example.com</td>\n",
       "      <td>6200.0</td>\n",
       "    </tr>\n",
       "    <tr>\n",
       "      <th>4</th>\n",
       "      <td>Eva</td>\n",
       "      <td>29</td>\n",
       "      <td>58000</td>\n",
       "      <td>2023-02-14</td>\n",
       "      <td>eva@example.com</td>\n",
       "      <td>5800.0</td>\n",
       "    </tr>\n",
       "  </tbody>\n",
       "</table>\n",
       "</div>"
      ],
      "text/plain": [
       "      Name  Age  Salary   Join_Date                Email   Bonus\n",
       "0    Alice   24   50000  2021-01-15    alice@example.com  5000.0\n",
       "1      Bob   27   54000  2020-03-22      bob@example.com  5400.0\n",
       "2  Charlie   22   49000  2022-07-10  charlie@example.com  4900.0\n",
       "3    David   32   62000  2019-11-05    david@example.com  6200.0\n",
       "4      Eva   29   58000  2023-02-14      eva@example.com  5800.0"
      ]
     },
     "execution_count": 77,
     "metadata": {},
     "output_type": "execute_result"
    }
   ],
   "source": [
    "data = {\n",
    "    'Name': ['Alice', 'Bob', 'Charlie', 'David', 'Eva'],\n",
    "    'Age': [24, 27, 22, 32, 29],\n",
    "    'Salary': [50000, 54000, 49000, 62000, 58000],\n",
    "    'Join_Date': ['2021-01-15', '2020-03-22', '2022-07-10', '2019-11-05', '2023-02-14'],\n",
    "    'Email': ['alice@example.com', 'bob@example.com', 'charlie@example.com', 'david@example.com', 'eva@example.com']\n",
    "}\n",
    "df = pd.DataFrame(data)\n",
    "print(df)\n",
    "\n",
    "def calculate_bonus(df):\n",
    "    df['Bonus']=df['Salary']*0.1\n",
    "    return df\n",
    "\n",
    "calculate_bonus(df)\n",
    "df"
   ]
  },
  {
   "cell_type": "raw",
   "id": "2a371fda-b3a9-4b4b-9596-3f3be04639ea",
   "metadata": {},
   "source": [
    "2. Write a function to categorize employees as 'Young' if age < 25, otherwise 'Adult'."
   ]
  },
  {
   "cell_type": "code",
   "execution_count": 78,
   "id": "6ed919f9-014c-49c5-8705-7917717bc1ea",
   "metadata": {},
   "outputs": [
    {
     "data": {
      "text/html": [
       "<div>\n",
       "<style scoped>\n",
       "    .dataframe tbody tr th:only-of-type {\n",
       "        vertical-align: middle;\n",
       "    }\n",
       "\n",
       "    .dataframe tbody tr th {\n",
       "        vertical-align: top;\n",
       "    }\n",
       "\n",
       "    .dataframe thead th {\n",
       "        text-align: right;\n",
       "    }\n",
       "</style>\n",
       "<table border=\"1\" class=\"dataframe\">\n",
       "  <thead>\n",
       "    <tr style=\"text-align: right;\">\n",
       "      <th></th>\n",
       "      <th>Name</th>\n",
       "      <th>Age</th>\n",
       "      <th>Salary</th>\n",
       "      <th>Join_Date</th>\n",
       "      <th>Email</th>\n",
       "      <th>Bonus</th>\n",
       "      <th>Age_Group</th>\n",
       "    </tr>\n",
       "  </thead>\n",
       "  <tbody>\n",
       "    <tr>\n",
       "      <th>0</th>\n",
       "      <td>Alice</td>\n",
       "      <td>24</td>\n",
       "      <td>50000</td>\n",
       "      <td>2021-01-15</td>\n",
       "      <td>alice@example.com</td>\n",
       "      <td>5000.0</td>\n",
       "      <td>Young</td>\n",
       "    </tr>\n",
       "    <tr>\n",
       "      <th>1</th>\n",
       "      <td>Bob</td>\n",
       "      <td>27</td>\n",
       "      <td>54000</td>\n",
       "      <td>2020-03-22</td>\n",
       "      <td>bob@example.com</td>\n",
       "      <td>5400.0</td>\n",
       "      <td>Adult</td>\n",
       "    </tr>\n",
       "    <tr>\n",
       "      <th>2</th>\n",
       "      <td>Charlie</td>\n",
       "      <td>22</td>\n",
       "      <td>49000</td>\n",
       "      <td>2022-07-10</td>\n",
       "      <td>charlie@example.com</td>\n",
       "      <td>4900.0</td>\n",
       "      <td>Young</td>\n",
       "    </tr>\n",
       "    <tr>\n",
       "      <th>3</th>\n",
       "      <td>David</td>\n",
       "      <td>32</td>\n",
       "      <td>62000</td>\n",
       "      <td>2019-11-05</td>\n",
       "      <td>david@example.com</td>\n",
       "      <td>6200.0</td>\n",
       "      <td>Adult</td>\n",
       "    </tr>\n",
       "    <tr>\n",
       "      <th>4</th>\n",
       "      <td>Eva</td>\n",
       "      <td>29</td>\n",
       "      <td>58000</td>\n",
       "      <td>2023-02-14</td>\n",
       "      <td>eva@example.com</td>\n",
       "      <td>5800.0</td>\n",
       "      <td>Adult</td>\n",
       "    </tr>\n",
       "  </tbody>\n",
       "</table>\n",
       "</div>"
      ],
      "text/plain": [
       "      Name  Age  Salary   Join_Date                Email   Bonus Age_Group\n",
       "0    Alice   24   50000  2021-01-15    alice@example.com  5000.0     Young\n",
       "1      Bob   27   54000  2020-03-22      bob@example.com  5400.0     Adult\n",
       "2  Charlie   22   49000  2022-07-10  charlie@example.com  4900.0     Young\n",
       "3    David   32   62000  2019-11-05    david@example.com  6200.0     Adult\n",
       "4      Eva   29   58000  2023-02-14      eva@example.com  5800.0     Adult"
      ]
     },
     "execution_count": 78,
     "metadata": {},
     "output_type": "execute_result"
    }
   ],
   "source": [
    "def age_cat(age):\n",
    "    if age <25:\n",
    "        return 'Young'\n",
    "    else:\n",
    "        return 'Adult'\n",
    "    \n",
    "df['Age_Group']=df['Age'].apply(age_cat)\n",
    "df"
   ]
  },
  {
   "cell_type": "raw",
   "id": "abc25663-f24f-44f5-98a9-64c081331219",
   "metadata": {},
   "source": [
    "3. Use lambda to create a new column 'Salary_After_Tax' (assuming 20% tax)."
   ]
  },
  {
   "cell_type": "code",
   "execution_count": 79,
   "id": "d8e437a5-a7e5-4455-8adb-6117c83ce9ef",
   "metadata": {},
   "outputs": [
    {
     "data": {
      "text/html": [
       "<div>\n",
       "<style scoped>\n",
       "    .dataframe tbody tr th:only-of-type {\n",
       "        vertical-align: middle;\n",
       "    }\n",
       "\n",
       "    .dataframe tbody tr th {\n",
       "        vertical-align: top;\n",
       "    }\n",
       "\n",
       "    .dataframe thead th {\n",
       "        text-align: right;\n",
       "    }\n",
       "</style>\n",
       "<table border=\"1\" class=\"dataframe\">\n",
       "  <thead>\n",
       "    <tr style=\"text-align: right;\">\n",
       "      <th></th>\n",
       "      <th>Name</th>\n",
       "      <th>Age</th>\n",
       "      <th>Salary</th>\n",
       "      <th>Join_Date</th>\n",
       "      <th>Email</th>\n",
       "      <th>Bonus</th>\n",
       "      <th>Age_Group</th>\n",
       "      <th>Salary_After_Tax</th>\n",
       "    </tr>\n",
       "  </thead>\n",
       "  <tbody>\n",
       "    <tr>\n",
       "      <th>0</th>\n",
       "      <td>Alice</td>\n",
       "      <td>24</td>\n",
       "      <td>50000</td>\n",
       "      <td>2021-01-15</td>\n",
       "      <td>alice@example.com</td>\n",
       "      <td>5000.0</td>\n",
       "      <td>Young</td>\n",
       "      <td>40000.0</td>\n",
       "    </tr>\n",
       "    <tr>\n",
       "      <th>1</th>\n",
       "      <td>Bob</td>\n",
       "      <td>27</td>\n",
       "      <td>54000</td>\n",
       "      <td>2020-03-22</td>\n",
       "      <td>bob@example.com</td>\n",
       "      <td>5400.0</td>\n",
       "      <td>Adult</td>\n",
       "      <td>43200.0</td>\n",
       "    </tr>\n",
       "    <tr>\n",
       "      <th>2</th>\n",
       "      <td>Charlie</td>\n",
       "      <td>22</td>\n",
       "      <td>49000</td>\n",
       "      <td>2022-07-10</td>\n",
       "      <td>charlie@example.com</td>\n",
       "      <td>4900.0</td>\n",
       "      <td>Young</td>\n",
       "      <td>39200.0</td>\n",
       "    </tr>\n",
       "    <tr>\n",
       "      <th>3</th>\n",
       "      <td>David</td>\n",
       "      <td>32</td>\n",
       "      <td>62000</td>\n",
       "      <td>2019-11-05</td>\n",
       "      <td>david@example.com</td>\n",
       "      <td>6200.0</td>\n",
       "      <td>Adult</td>\n",
       "      <td>49600.0</td>\n",
       "    </tr>\n",
       "    <tr>\n",
       "      <th>4</th>\n",
       "      <td>Eva</td>\n",
       "      <td>29</td>\n",
       "      <td>58000</td>\n",
       "      <td>2023-02-14</td>\n",
       "      <td>eva@example.com</td>\n",
       "      <td>5800.0</td>\n",
       "      <td>Adult</td>\n",
       "      <td>46400.0</td>\n",
       "    </tr>\n",
       "  </tbody>\n",
       "</table>\n",
       "</div>"
      ],
      "text/plain": [
       "      Name  Age  Salary   Join_Date                Email   Bonus Age_Group  \\\n",
       "0    Alice   24   50000  2021-01-15    alice@example.com  5000.0     Young   \n",
       "1      Bob   27   54000  2020-03-22      bob@example.com  5400.0     Adult   \n",
       "2  Charlie   22   49000  2022-07-10  charlie@example.com  4900.0     Young   \n",
       "3    David   32   62000  2019-11-05    david@example.com  6200.0     Adult   \n",
       "4      Eva   29   58000  2023-02-14      eva@example.com  5800.0     Adult   \n",
       "\n",
       "   Salary_After_Tax  \n",
       "0           40000.0  \n",
       "1           43200.0  \n",
       "2           39200.0  \n",
       "3           49600.0  \n",
       "4           46400.0  "
      ]
     },
     "execution_count": 79,
     "metadata": {},
     "output_type": "execute_result"
    }
   ],
   "source": [
    "df['Salary_After_Tax'] = df['Salary'].apply(lambda x: x * 0.8)\n",
    "df"
   ]
  },
  {
   "cell_type": "raw",
   "id": "1edf7365-2fd9-4835-8433-8aed4dbba710",
   "metadata": {
    "vscode": {
     "languageId": "raw"
    }
   },
   "source": [
    "4. Use map to replace 'Young' with 'Y' and 'Adult' with 'A' in the 'Age_Group' column."
   ]
  },
  {
   "cell_type": "code",
   "execution_count": 80,
   "id": "fc16e0fb-9496-43d3-8144-deae0ea00f99",
   "metadata": {},
   "outputs": [
    {
     "data": {
      "text/html": [
       "<div>\n",
       "<style scoped>\n",
       "    .dataframe tbody tr th:only-of-type {\n",
       "        vertical-align: middle;\n",
       "    }\n",
       "\n",
       "    .dataframe tbody tr th {\n",
       "        vertical-align: top;\n",
       "    }\n",
       "\n",
       "    .dataframe thead th {\n",
       "        text-align: right;\n",
       "    }\n",
       "</style>\n",
       "<table border=\"1\" class=\"dataframe\">\n",
       "  <thead>\n",
       "    <tr style=\"text-align: right;\">\n",
       "      <th></th>\n",
       "      <th>Name</th>\n",
       "      <th>Age</th>\n",
       "      <th>Salary</th>\n",
       "      <th>Join_Date</th>\n",
       "      <th>Email</th>\n",
       "      <th>Bonus</th>\n",
       "      <th>Age_Group</th>\n",
       "      <th>Salary_After_Tax</th>\n",
       "    </tr>\n",
       "  </thead>\n",
       "  <tbody>\n",
       "    <tr>\n",
       "      <th>0</th>\n",
       "      <td>Alice</td>\n",
       "      <td>24</td>\n",
       "      <td>50000</td>\n",
       "      <td>2021-01-15</td>\n",
       "      <td>alice@example.com</td>\n",
       "      <td>5000.0</td>\n",
       "      <td>Y</td>\n",
       "      <td>40000.0</td>\n",
       "    </tr>\n",
       "    <tr>\n",
       "      <th>1</th>\n",
       "      <td>Bob</td>\n",
       "      <td>27</td>\n",
       "      <td>54000</td>\n",
       "      <td>2020-03-22</td>\n",
       "      <td>bob@example.com</td>\n",
       "      <td>5400.0</td>\n",
       "      <td>A</td>\n",
       "      <td>43200.0</td>\n",
       "    </tr>\n",
       "    <tr>\n",
       "      <th>2</th>\n",
       "      <td>Charlie</td>\n",
       "      <td>22</td>\n",
       "      <td>49000</td>\n",
       "      <td>2022-07-10</td>\n",
       "      <td>charlie@example.com</td>\n",
       "      <td>4900.0</td>\n",
       "      <td>Y</td>\n",
       "      <td>39200.0</td>\n",
       "    </tr>\n",
       "    <tr>\n",
       "      <th>3</th>\n",
       "      <td>David</td>\n",
       "      <td>32</td>\n",
       "      <td>62000</td>\n",
       "      <td>2019-11-05</td>\n",
       "      <td>david@example.com</td>\n",
       "      <td>6200.0</td>\n",
       "      <td>A</td>\n",
       "      <td>49600.0</td>\n",
       "    </tr>\n",
       "    <tr>\n",
       "      <th>4</th>\n",
       "      <td>Eva</td>\n",
       "      <td>29</td>\n",
       "      <td>58000</td>\n",
       "      <td>2023-02-14</td>\n",
       "      <td>eva@example.com</td>\n",
       "      <td>5800.0</td>\n",
       "      <td>A</td>\n",
       "      <td>46400.0</td>\n",
       "    </tr>\n",
       "  </tbody>\n",
       "</table>\n",
       "</div>"
      ],
      "text/plain": [
       "      Name  Age  Salary   Join_Date                Email   Bonus Age_Group  \\\n",
       "0    Alice   24   50000  2021-01-15    alice@example.com  5000.0         Y   \n",
       "1      Bob   27   54000  2020-03-22      bob@example.com  5400.0         A   \n",
       "2  Charlie   22   49000  2022-07-10  charlie@example.com  4900.0         Y   \n",
       "3    David   32   62000  2019-11-05    david@example.com  6200.0         A   \n",
       "4      Eva   29   58000  2023-02-14      eva@example.com  5800.0         A   \n",
       "\n",
       "   Salary_After_Tax  \n",
       "0           40000.0  \n",
       "1           43200.0  \n",
       "2           39200.0  \n",
       "3           49600.0  \n",
       "4           46400.0  "
      ]
     },
     "execution_count": 80,
     "metadata": {},
     "output_type": "execute_result"
    }
   ],
   "source": [
    "def map_x(age):\n",
    "    if age == 'Young':\n",
    "        return 'Y'\n",
    "    else:\n",
    "        return 'A'\n",
    "\n",
    "df['Age_Group'] = df['Age_Group'].map(map_x)\n",
    "df"
   ]
  },
  {
   "cell_type": "raw",
   "id": "33f77a2d-df8f-497c-a9e9-3c30ef986a91",
   "metadata": {},
   "source": [
    "5. Convert the 'Join_Date' column to datetime format."
   ]
  },
  {
   "cell_type": "code",
   "execution_count": null,
   "id": "0fd21e29-46bf-4f6d-9c3a-ef122250f379",
   "metadata": {},
   "outputs": [],
   "source": []
  },
  {
   "cell_type": "raw",
   "id": "8219f836-dc90-4cd9-8bca-5a8a1646b6a3",
   "metadata": {},
   "source": [
    "6. Extract the year from the 'Join_Date' column."
   ]
  },
  {
   "cell_type": "code",
   "execution_count": null,
   "id": "338a116a-3927-49ef-a7d0-2befa124eb55",
   "metadata": {},
   "outputs": [],
   "source": []
  },
  {
   "cell_type": "raw",
   "id": "bb43b648-86e3-44eb-aaf4-ce71867182bd",
   "metadata": {},
   "source": [
    "7. Calculate the number of months each employee has been with the company."
   ]
  },
  {
   "cell_type": "code",
   "execution_count": null,
   "id": "b75efc57-00d1-41af-b6ee-2011bb3b0381",
   "metadata": {},
   "outputs": [],
   "source": []
  },
  {
   "cell_type": "raw",
   "id": "e2cf55e6-acc5-40d6-9e11-c52d49c10c85",
   "metadata": {},
   "source": [
    "8. Return the last date of of working of Alice and Bob if they have resigned today.(3 months notice period) "
   ]
  },
  {
   "cell_type": "code",
   "execution_count": null,
   "id": "97704dad-e004-46de-9c2f-dac1e6ccf2c1",
   "metadata": {},
   "outputs": [],
   "source": []
  },
  {
   "cell_type": "raw",
   "id": "b959f986-db42-4329-94f7-6febebd50cb4",
   "metadata": {},
   "source": [
    "9. Extract the domain from the 'Email' column by re module"
   ]
  },
  {
   "cell_type": "code",
   "execution_count": null,
   "id": "4791c5d7-12e3-4124-9280-789b3890f8dc",
   "metadata": {},
   "outputs": [],
   "source": []
  },
  {
   "cell_type": "raw",
   "id": "131b81e9-219b-4770-bc3b-859937c0debf",
   "metadata": {},
   "source": [
    "10. Replace all occurrences of 'example.com' in the 'Email' column with 'company.com' by re module"
   ]
  },
  {
   "cell_type": "code",
   "execution_count": null,
   "id": "6fc17a98-8d41-4ac3-a4ff-3906506ec30e",
   "metadata": {},
   "outputs": [],
   "source": []
  },
  {
   "cell_type": "raw",
   "id": "0a759265-cce8-4bc7-84b2-ba60e4b0a750",
   "metadata": {},
   "source": [
    "11. Use a generator to yield rows of the employees as per seniority one at a time from dataframe."
   ]
  },
  {
   "cell_type": "code",
   "execution_count": null,
   "id": "23eac641-aa8e-459b-88d7-61a8cca9b8e0",
   "metadata": {},
   "outputs": [],
   "source": []
  },
  {
   "cell_type": "raw",
   "id": "fb1f7faa-da56-4421-be79-55770c14e65f",
   "metadata": {},
   "source": [
    "12. Use regular expressions to find all employees whose names start with 'A'."
   ]
  },
  {
   "cell_type": "code",
   "execution_count": null,
   "id": "6bb1334f-e8eb-4387-b582-07eda69c77ef",
   "metadata": {},
   "outputs": [],
   "source": []
  },
  {
   "cell_type": "raw",
   "id": "36836aaa-1573-4305-b2c0-b85a9de24340",
   "metadata": {},
   "source": [
    "13. Create a Python module df_utils.py that contains functions for data cleaning .\n",
    "The module should include:\n",
    "remove_duplicates(df) → Removes duplicate rows.\n",
    "fill_missing(df, method='mean') → Fills missing values using mean, median, or mode.\n",
    "add_month_column(df, date_col) → Extracts the month name from a date column."
   ]
  },
  {
   "cell_type": "code",
   "execution_count": null,
   "id": "f2570b41-5924-42aa-9f74-3a2fd65bda50",
   "metadata": {},
   "outputs": [],
   "source": []
  },
  {
   "cell_type": "raw",
   "id": "1ecee200-aa4a-45a5-b681-99875a62b351",
   "metadata": {},
   "source": [
    "14. df_students = pd.DataFrame({\n",
    "    'Student': ['Alice', 'Bob', 'Charlie', 'David'],\n",
    "    'Marks': [90, 75, 60, 40]\n",
    "})\n",
    "The dataset has a column Marks (out of 100).\n",
    "Convert marks to grades using map() and new column grades:\n",
    "\"A\" if Marks ≥ 85\n",
    "\"B\" if Marks ≥ 70\n",
    "\"C\" if Marks ≥ 50\n",
    "\"F\" otherwise"
   ]
  },
  {
   "cell_type": "code",
   "execution_count": null,
   "id": "942358b3-6f43-44c0-ac5e-2e0bccba5b5d",
   "metadata": {},
   "outputs": [],
   "source": []
  },
  {
   "cell_type": "raw",
   "id": "a2be3d86-ea2b-486d-90ba-29c53cf6fffe",
   "metadata": {},
   "source": [
    "15. Calculate the Number of Business Days Between Order and Delivery.\n",
    "df_orders = pd.DataFrame({\n",
    "    'Order ID': ['ORD1', 'ORD2', 'ORD3'],\n",
    "    'Order Date': ['2024-01-01', '2024-02-10', '2024-03-15'],\n",
    "    'Delivery Date': ['2024-01-10', '2024-02-18', '2024-03-25']\n",
    "})"
   ]
  },
  {
   "cell_type": "code",
   "execution_count": null,
   "id": "4cf42355-eb8a-44c6-aba1-dd6e5988cd79",
   "metadata": {},
   "outputs": [],
   "source": []
  }
 ],
 "metadata": {
  "kernelspec": {
   "display_name": "base",
   "language": "python",
   "name": "python3"
  },
  "language_info": {
   "codemirror_mode": {
    "name": "ipython",
    "version": 3
   },
   "file_extension": ".py",
   "mimetype": "text/x-python",
   "name": "python",
   "nbconvert_exporter": "python",
   "pygments_lexer": "ipython3",
   "version": "3.12.4"
  }
 },
 "nbformat": 4,
 "nbformat_minor": 5
}
