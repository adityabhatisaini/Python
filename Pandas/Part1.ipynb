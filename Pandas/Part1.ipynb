{
 "cells": [
  {
   "cell_type": "markdown",
   "metadata": {},
   "source": [
    "## Series"
   ]
  },
  {
   "cell_type": "code",
   "execution_count": 28,
   "metadata": {},
   "outputs": [],
   "source": [
    "import pandas as pd\n",
    "import numpy as np"
   ]
  },
  {
   "cell_type": "code",
   "execution_count": 29,
   "metadata": {},
   "outputs": [
    {
     "name": "stdout",
     "output_type": "stream",
     "text": [
      "Series([], dtype: float64)\n"
     ]
    }
   ],
   "source": [
    "x1=pd.Series(dtype=float)\n",
    "print(x1)"
   ]
  },
  {
   "cell_type": "code",
   "execution_count": 30,
   "metadata": {},
   "outputs": [
    {
     "name": "stdout",
     "output_type": "stream",
     "text": [
      "a    1.0\n",
      "b    2.0\n",
      "c    3.0\n",
      "d    4.0\n",
      "e    5.0\n",
      "dtype: float64\n"
     ]
    }
   ],
   "source": [
    "import numpy as np\n",
    "series=np.array([1,2,3,4,5])\n",
    "x1=pd.Series(series,dtype=float,index=['a','b','c','d','e'])\n",
    "print(x1)"
   ]
  },
  {
   "cell_type": "code",
   "execution_count": 31,
   "metadata": {},
   "outputs": [
    {
     "name": "stdout",
     "output_type": "stream",
     "text": [
      "a    45.0\n",
      "b    12.0\n",
      "c    75.0\n",
      "d     NaN\n",
      "dtype: float64\n"
     ]
    }
   ],
   "source": [
    "data={'a':45,'b':12,'c':75}\n",
    "x1=pd.Series(data,index=['a','b','c','d'])\n",
    "print(x1)"
   ]
  },
  {
   "cell_type": "code",
   "execution_count": 32,
   "metadata": {},
   "outputs": [
    {
     "name": "stdout",
     "output_type": "stream",
     "text": [
      "a    5.0\n",
      "b    5.0\n",
      "c    5.0\n",
      "d    5.0\n",
      "dtype: float64\n"
     ]
    }
   ],
   "source": [
    "data=pd.Series(5,index=['a','b','c','d'],dtype=float)\n",
    "print(data)"
   ]
  },
  {
   "cell_type": "code",
   "execution_count": 33,
   "metadata": {},
   "outputs": [
    {
     "name": "stdout",
     "output_type": "stream",
     "text": [
      "A     6\n",
      "B    15\n",
      "C    24\n",
      "dtype: int64\n",
      "0    12\n",
      "1    15\n",
      "2    18\n",
      "dtype: int64\n"
     ]
    }
   ],
   "source": [
    "import pandas as pd\n",
    "\n",
    "# Create a sample DataFrame\n",
    "data = {'A': [1, 2, 3], 'B': [4, 5, 6], 'C': [7, 8, 9]}\n",
    "df = pd.DataFrame(data)\n",
    "\n",
    "# Sum along the rows (axis=0)\n",
    "sum_rows = df.sum(axis=0)\n",
    "print(sum_rows)\n",
    "\n",
    "# Sum along the columns (axis=1)\n",
    "sum_columns = df.sum(axis=1)\n",
    "print(sum_columns)"
   ]
  },
  {
   "cell_type": "code",
   "execution_count": 34,
   "metadata": {},
   "outputs": [
    {
     "data": {
      "text/plain": [
       "0    12.0\n",
       "1    45.0\n",
       "2    54.0\n",
       "3    15.0\n",
       "4     NaN\n",
       "5    15.0\n",
       "6    15.0\n",
       "7    48.0\n",
       "8    45.0\n",
       "9    54.0\n",
       "dtype: float64"
      ]
     },
     "execution_count": 34,
     "metadata": {},
     "output_type": "execute_result"
    }
   ],
   "source": [
    "x1=pd.Series([12,45,54,15,np.nan,15,15,48,45,54])\n",
    "x1"
   ]
  },
  {
   "cell_type": "code",
   "execution_count": 35,
   "metadata": {},
   "outputs": [
    {
     "name": "stdout",
     "output_type": "stream",
     "text": [
      "0    12.0\n",
      "1    45.0\n",
      "2    54.0\n",
      "3    15.0\n",
      "4     NaN\n",
      "dtype: float64\n",
      "0    12.0\n",
      "1    45.0\n",
      "2    54.0\n",
      "3    15.0\n",
      "4     NaN\n",
      "dtype: float64\n",
      "9    54.0\n",
      "8    45.0\n",
      "7    48.0\n",
      "6    15.0\n",
      "5    15.0\n",
      "4     NaN\n",
      "3    15.0\n",
      "2    54.0\n",
      "1    45.0\n",
      "0    12.0\n",
      "dtype: float64\n",
      "9    54.0\n",
      "8    45.0\n",
      "7    48.0\n",
      "6    15.0\n",
      "dtype: float64\n"
     ]
    }
   ],
   "source": [
    "print(x1[:5])\n",
    "print(x1[:5])\n",
    "print(x1[::-1])\n",
    "print(x1[:-5:-1])\n",
    "#sequence[start:stop:step]\n"
   ]
  },
  {
   "cell_type": "code",
   "execution_count": 36,
   "metadata": {},
   "outputs": [
    {
     "name": "stdout",
     "output_type": "stream",
     "text": [
      "a    12.0\n",
      "b    45.0\n",
      "c    54.0\n",
      "d    15.0\n",
      "e     NaN\n",
      "f    15.0\n",
      "g    15.0\n",
      "h    48.0\n",
      "i    45.0\n",
      "j    54.0\n",
      "dtype: float64\n",
      "15.0\n"
     ]
    }
   ],
   "source": [
    "#Give Labels to series\n",
    "x2=x1.set_axis(['a','b','c','d','e','f','g','h','i','j'])\n",
    "print(x2)\n",
    "print(x2['d'])"
   ]
  },
  {
   "cell_type": "code",
   "execution_count": 40,
   "metadata": {},
   "outputs": [
    {
     "name": "stdout",
     "output_type": "stream",
     "text": [
      "[Index(['a', 'b', 'c', 'd', 'e', 'f', 'g', 'h', 'i', 'j'], dtype='object')]\n",
      "False\n",
      "10\n",
      "10\n"
     ]
    }
   ],
   "source": [
    "print(x2.axes)\n",
    "print(x2.empty)\n",
    "\n",
    "print(x2.size)\n",
    "print(len(x2))"
   ]
  },
  {
   "cell_type": "code",
   "execution_count": 43,
   "metadata": {},
   "outputs": [
    {
     "data": {
      "text/plain": [
       "array([12., 45., 54., 15., nan, 15., 15., 48., 45., 54.])"
      ]
     },
     "execution_count": 43,
     "metadata": {},
     "output_type": "execute_result"
    }
   ],
   "source": [
    "x2.values"
   ]
  },
  {
   "cell_type": "code",
   "execution_count": null,
   "metadata": {},
   "outputs": [],
   "source": []
  }
 ],
 "metadata": {
  "kernelspec": {
   "display_name": "base",
   "language": "python",
   "name": "python3"
  },
  "language_info": {
   "codemirror_mode": {
    "name": "ipython",
    "version": 3
   },
   "file_extension": ".py",
   "mimetype": "text/x-python",
   "name": "python",
   "nbconvert_exporter": "python",
   "pygments_lexer": "ipython3",
   "version": "3.12.4"
  }
 },
 "nbformat": 4,
 "nbformat_minor": 2
}
