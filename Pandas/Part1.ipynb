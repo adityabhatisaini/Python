{
 "cells": [
  {
   "cell_type": "markdown",
   "metadata": {},
   "source": [
    "## Series"
   ]
  },
  {
   "cell_type": "code",
   "execution_count": 31,
   "metadata": {},
   "outputs": [],
   "source": [
    "import pandas as pd\n",
    "import numpy as np"
   ]
  },
  {
   "cell_type": "code",
   "execution_count": 32,
   "metadata": {},
   "outputs": [
    {
     "name": "stdout",
     "output_type": "stream",
     "text": [
      "Series([], dtype: float64)\n"
     ]
    }
   ],
   "source": [
    "x1=pd.Series(dtype=float)\n",
    "print(x1)"
   ]
  },
  {
   "cell_type": "code",
   "execution_count": 33,
   "metadata": {},
   "outputs": [
    {
     "name": "stdout",
     "output_type": "stream",
     "text": [
      "a    1.0\n",
      "b    2.0\n",
      "c    3.0\n",
      "d    4.0\n",
      "e    5.0\n",
      "dtype: float64\n"
     ]
    }
   ],
   "source": [
    "import numpy as np\n",
    "series=np.array([1,2,3,4,5])\n",
    "x1=pd.Series(series,dtype=float,index=['a','b','c','d','e'])\n",
    "print(x1)"
   ]
  },
  {
   "cell_type": "code",
   "execution_count": 34,
   "metadata": {},
   "outputs": [
    {
     "name": "stdout",
     "output_type": "stream",
     "text": [
      "a    1.0\n",
      "b    2.0\n",
      "c    3.0\n",
      "d    4.0\n",
      "e    5.0\n",
      "dtype: float64\n",
      "a    1.0\n",
      "b    2.0\n",
      "c    3.0\n",
      "d    4.0\n",
      "e    5.0\n",
      "dtype: float64\n",
      "e    5.0\n",
      "d    4.0\n",
      "c    3.0\n",
      "b    2.0\n",
      "a    1.0\n",
      "dtype: float64\n",
      "e    5.0\n",
      "d    4.0\n",
      "c    3.0\n",
      "b    2.0\n",
      "dtype: float64\n"
     ]
    }
   ],
   "source": [
    "print(x1[:5])\n",
    "print(x1[:5])\n",
    "print(x1[::-1])\n",
    "print(x1[:-5:-1])\n",
    "#sequence[start:stop:step]\n"
   ]
  },
  {
   "cell_type": "code",
   "execution_count": 35,
   "metadata": {},
   "outputs": [
    {
     "name": "stdout",
     "output_type": "stream",
     "text": [
      "[Index(['a', 'b', 'c', 'd', 'e'], dtype='object')]\n",
      "False\n",
      "5\n",
      "5\n"
     ]
    },
    {
     "data": {
      "text/plain": [
       "array([1., 2., 3., 4., 5.])"
      ]
     },
     "execution_count": 35,
     "metadata": {},
     "output_type": "execute_result"
    }
   ],
   "source": [
    "print(x1.axes)\n",
    "print(x1.empty)\n",
    "\n",
    "print(x1.size)\n",
    "print(len(x1))\n",
    "x1.values"
   ]
  },
  {
   "cell_type": "code",
   "execution_count": 36,
   "metadata": {},
   "outputs": [
    {
     "name": "stdout",
     "output_type": "stream",
     "text": [
      "a    45.0\n",
      "b    12.0\n",
      "c    75.0\n",
      "d     NaN\n",
      "dtype: float64\n"
     ]
    }
   ],
   "source": [
    "data={'a':45,'b':12,'c':75}\n",
    "x1=pd.Series(data,index=['a','b','c','d'])\n",
    "print(x1)"
   ]
  },
  {
   "cell_type": "code",
   "execution_count": 37,
   "metadata": {},
   "outputs": [
    {
     "name": "stdout",
     "output_type": "stream",
     "text": [
      "a    5.0\n",
      "b    5.0\n",
      "c    5.0\n",
      "d    5.0\n",
      "dtype: float64\n"
     ]
    }
   ],
   "source": [
    "data=pd.Series(5,index=['a','b','c','d'],dtype=float)\n",
    "print(data)"
   ]
  },
  {
   "cell_type": "code",
   "execution_count": 38,
   "metadata": {},
   "outputs": [
    {
     "data": {
      "text/plain": [
       "0    0.763506\n",
       "1    0.425126\n",
       "2    0.216467\n",
       "3    0.826360\n",
       "4    0.726107\n",
       "dtype: float64"
      ]
     },
     "execution_count": 38,
     "metadata": {},
     "output_type": "execute_result"
    }
   ],
   "source": [
    "x1=pd.Series(np.random.rand(5))\n",
    "x1"
   ]
  },
  {
   "cell_type": "code",
   "execution_count": 39,
   "metadata": {},
   "outputs": [
    {
     "data": {
      "text/plain": [
       "4     0.763506\n",
       "5     0.425126\n",
       "25    0.216467\n",
       "4     0.826360\n",
       "45    0.726107\n",
       "dtype: float64"
      ]
     },
     "execution_count": 39,
     "metadata": {},
     "output_type": "execute_result"
    }
   ],
   "source": [
    "x1=x1.set_axis([4,5,25,4,45])\n",
    "x1"
   ]
  },
  {
   "cell_type": "code",
   "execution_count": 40,
   "metadata": {},
   "outputs": [
    {
     "name": "stdout",
     "output_type": "stream",
     "text": [
      "4    0.763506\n",
      "5    0.425126\n",
      "dtype: float64\n",
      "4     0.826360\n",
      "45    0.726107\n",
      "dtype: float64\n"
     ]
    }
   ],
   "source": [
    "print(x1.head(2))\n",
    "print(x1.tail(2))"
   ]
  },
  {
   "cell_type": "code",
   "execution_count": 41,
   "metadata": {},
   "outputs": [
    {
     "name": "stdout",
     "output_type": "stream",
     "text": [
      "<bound method NDFrame.copy of 4     0.763506\n",
      "5     0.425126\n",
      "25    0.216467\n",
      "4     0.826360\n",
      "45    0.726107\n",
      "dtype: float64>\n"
     ]
    }
   ],
   "source": [
    "x2=x1.copy\n",
    "print(x2)"
   ]
  },
  {
   "cell_type": "markdown",
   "metadata": {},
   "source": [
    "## DataFrame"
   ]
  },
  {
   "cell_type": "code",
   "execution_count": 42,
   "metadata": {},
   "outputs": [
    {
     "name": "stdout",
     "output_type": "stream",
     "text": [
      "    A   B\n",
      "a   1   2\n",
      "b  45  12\n"
     ]
    }
   ],
   "source": [
    "#List\n",
    "a=[[1,2],[45,12]]\n",
    "b=pd.DataFrame(a,columns=['A','B'],index=['a','b'])\n",
    "print(b)"
   ]
  },
  {
   "cell_type": "code",
   "execution_count": 43,
   "metadata": {},
   "outputs": [
    {
     "name": "stdout",
     "output_type": "stream",
     "text": [
      "Index(['A', 'B'], dtype='object')\n",
      "Index(['a', 'b'], dtype='object')\n"
     ]
    }
   ],
   "source": [
    "print(b.columns)\n",
    "print(b.index)"
   ]
  },
  {
   "cell_type": "code",
   "execution_count": 44,
   "metadata": {},
   "outputs": [
    {
     "data": {
      "text/html": [
       "<div>\n",
       "<style scoped>\n",
       "    .dataframe tbody tr th:only-of-type {\n",
       "        vertical-align: middle;\n",
       "    }\n",
       "\n",
       "    .dataframe tbody tr th {\n",
       "        vertical-align: top;\n",
       "    }\n",
       "\n",
       "    .dataframe thead th {\n",
       "        text-align: right;\n",
       "    }\n",
       "</style>\n",
       "<table border=\"1\" class=\"dataframe\">\n",
       "  <thead>\n",
       "    <tr style=\"text-align: right;\">\n",
       "      <th></th>\n",
       "      <th>a</th>\n",
       "      <th>b</th>\n",
       "      <th>A</th>\n",
       "    </tr>\n",
       "  </thead>\n",
       "  <tbody>\n",
       "    <tr>\n",
       "      <th>0</th>\n",
       "      <td>4</td>\n",
       "      <td>5</td>\n",
       "      <td>NaN</td>\n",
       "    </tr>\n",
       "    <tr>\n",
       "      <th>1</th>\n",
       "      <td>45</td>\n",
       "      <td>6</td>\n",
       "      <td>78.0</td>\n",
       "    </tr>\n",
       "  </tbody>\n",
       "</table>\n",
       "</div>"
      ],
      "text/plain": [
       "    a  b     A\n",
       "0   4  5   NaN\n",
       "1  45  6  78.0"
      ]
     },
     "execution_count": 44,
     "metadata": {},
     "output_type": "execute_result"
    }
   ],
   "source": [
    "x1=[{'a':4,'b':5},{'A':78,'b':6,'a':45 }]\n",
    "x2=pd.DataFrame(x1)\n",
    "x2"
   ]
  },
  {
   "cell_type": "code",
   "execution_count": 45,
   "metadata": {},
   "outputs": [
    {
     "data": {
      "text/html": [
       "<div>\n",
       "<style scoped>\n",
       "    .dataframe tbody tr th:only-of-type {\n",
       "        vertical-align: middle;\n",
       "    }\n",
       "\n",
       "    .dataframe tbody tr th {\n",
       "        vertical-align: top;\n",
       "    }\n",
       "\n",
       "    .dataframe thead th {\n",
       "        text-align: right;\n",
       "    }\n",
       "</style>\n",
       "<table border=\"1\" class=\"dataframe\">\n",
       "  <thead>\n",
       "    <tr style=\"text-align: right;\">\n",
       "      <th></th>\n",
       "      <th>a</th>\n",
       "      <th>b</th>\n",
       "      <th>A</th>\n",
       "    </tr>\n",
       "  </thead>\n",
       "  <tbody>\n",
       "    <tr>\n",
       "      <th>A</th>\n",
       "      <td>4</td>\n",
       "      <td>5</td>\n",
       "      <td>NaN</td>\n",
       "    </tr>\n",
       "    <tr>\n",
       "      <th>B</th>\n",
       "      <td>45</td>\n",
       "      <td>6</td>\n",
       "      <td>78.0</td>\n",
       "    </tr>\n",
       "  </tbody>\n",
       "</table>\n",
       "</div>"
      ],
      "text/plain": [
       "    a  b     A\n",
       "A   4  5   NaN\n",
       "B  45  6  78.0"
      ]
     },
     "execution_count": 45,
     "metadata": {},
     "output_type": "execute_result"
    }
   ],
   "source": [
    "x2.empty\n",
    "x2.set_axis(['A','B'],axis=0)"
   ]
  },
  {
   "cell_type": "code",
   "execution_count": 46,
   "metadata": {},
   "outputs": [
    {
     "name": "stdout",
     "output_type": "stream",
     "text": [
      "    a  b     A\n",
      "0   4  5   NaN\n",
      "1  45  6  78.0\n",
      "   b   a\n",
      "0  5   4\n",
      "1  6  45\n"
     ]
    }
   ],
   "source": [
    "print(x2)\n",
    "print(x2.reindex(columns=['b','a']))"
   ]
  },
  {
   "cell_type": "code",
   "execution_count": 47,
   "metadata": {},
   "outputs": [
    {
     "name": "stdout",
     "output_type": "stream",
     "text": [
      "   one  two\n",
      "a    1  4.0\n",
      "b    2  NaN\n",
      "c    3  6.0\n"
     ]
    }
   ],
   "source": [
    "# DataFrame from Series\n",
    "\n",
    "a1={'one':pd.Series([1,2,3],index=['a','b','c']),\n",
    "    'two':pd.Series([4,6],index=['a','c'])}\n",
    "\n",
    "a2=pd.DataFrame(a1)\n",
    "print(a2)"
   ]
  },
  {
   "cell_type": "code",
   "execution_count": 48,
   "metadata": {},
   "outputs": [
    {
     "name": "stdout",
     "output_type": "stream",
     "text": [
      "   A  B\n",
      "a  0  1\n",
      "b  2  3\n",
      "c  4  5\n",
      "d  6  7\n",
      "e  8  9\n"
     ]
    }
   ],
   "source": [
    "x1=pd.DataFrame(np.arange(10).reshape(5,2),index=['a','b','c','d','e'],columns=['A','B'])\n",
    "print(x1)"
   ]
  },
  {
   "cell_type": "code",
   "execution_count": 49,
   "metadata": {},
   "outputs": [
    {
     "name": "stdout",
     "output_type": "stream",
     "text": [
      "   A\n",
      "a  0\n",
      "b  2\n",
      "c  4\n",
      "d  6\n",
      "e  8\n",
      "   A  B\n",
      "a  0  1\n",
      "b  2  3\n",
      "c  4  5\n",
      "d  6  7\n",
      "e  8  9\n"
     ]
    }
   ],
   "source": [
    "print(x1[['A']])\n",
    "print(x1[['A','B']])"
   ]
  },
  {
   "cell_type": "code",
   "execution_count": 50,
   "metadata": {},
   "outputs": [
    {
     "name": "stdout",
     "output_type": "stream",
     "text": [
      "A    2\n",
      "B    3\n",
      "Name: b, dtype: int32\n",
      "2\n",
      "   A  B\n",
      "a  0  1\n",
      "b  2  3\n",
      "c  4  5\n",
      "d  6  7\n",
      "   A\n",
      "a  0\n",
      "b  2\n",
      "c  4\n",
      "d  6\n"
     ]
    }
   ],
   "source": [
    "print(x1.loc['b'])\n",
    "print(x1.loc['b','A'])\n",
    "print(x1.loc['a':'d'])\n",
    "print(x1.loc['a':'d',['A']])"
   ]
  },
  {
   "cell_type": "code",
   "execution_count": 51,
   "metadata": {},
   "outputs": [
    {
     "name": "stdout",
     "output_type": "stream",
     "text": [
      "   A  B\n",
      "c  4  5\n",
      "d  6  7\n",
      "e  8  9\n"
     ]
    }
   ],
   "source": [
    "print(\n",
    "    x1.loc[x1['A']>2]\n",
    ")"
   ]
  },
  {
   "cell_type": "code",
   "execution_count": 52,
   "metadata": {},
   "outputs": [
    {
     "name": "stdout",
     "output_type": "stream",
     "text": [
      "   A  B\n",
      "a  0  1\n",
      "b  2  3\n",
      "c  5  5\n",
      "d  5  5\n",
      "e  5  5\n"
     ]
    }
   ],
   "source": [
    "x1.loc[x1['A']>2]=5\n",
    "print(x1)"
   ]
  },
  {
   "cell_type": "code",
   "execution_count": 53,
   "metadata": {},
   "outputs": [
    {
     "name": "stdout",
     "output_type": "stream",
     "text": [
      "A    5\n",
      "B    5\n",
      "Name: e, dtype: int32\n",
      "5\n",
      "   A  B\n",
      "b  2  3\n",
      "c  5  5\n",
      "d  5  5\n",
      "b    3\n",
      "c    5\n",
      "d    5\n",
      "Name: B, dtype: int32\n",
      "   A  B\n",
      "b  2  3\n",
      "c  5  5\n",
      "d  5  5\n"
     ]
    }
   ],
   "source": [
    "print(x1.iloc[4])\n",
    "print(x1.iloc[4,1])\n",
    "print(x1.iloc[1:4])\n",
    "print(x1.iloc[1:4,1])\n",
    "print(x1.iloc[1:4,0:2])"
   ]
  },
  {
   "cell_type": "code",
   "execution_count": 54,
   "metadata": {},
   "outputs": [
    {
     "name": "stdout",
     "output_type": "stream",
     "text": [
      "   A  B\n",
      "a  0  1\n",
      "b  2  3\n",
      "c  5  5\n",
      "d  5  5\n",
      "e  5  5\n",
      "   A  B  C\n",
      "a  0  1  4\n",
      "b  2  3  5\n",
      "c  5  5  2\n",
      "d  5  5  5\n",
      "e  5  5  4\n"
     ]
    }
   ],
   "source": [
    "print(x1)\n",
    "x1['C']=pd.Series([4,5,2,5,4],\n",
    "                  index=['a','b','c','d','e'])\n",
    "\n",
    "print(x1)"
   ]
  },
  {
   "cell_type": "code",
   "execution_count": 55,
   "metadata": {},
   "outputs": [
    {
     "name": "stdout",
     "output_type": "stream",
     "text": [
      "   A  B  C  A+B\n",
      "a  0  1  4    1\n",
      "b  2  3  5    5\n",
      "c  5  5  2   10\n",
      "d  5  5  5   10\n",
      "e  5  5  4   10\n"
     ]
    }
   ],
   "source": [
    "x1['A+B']=x1['A']+x1['B']\n",
    "print(x1)"
   ]
  },
  {
   "cell_type": "code",
   "execution_count": 56,
   "metadata": {},
   "outputs": [
    {
     "data": {
      "text/html": [
       "<div>\n",
       "<style scoped>\n",
       "    .dataframe tbody tr th:only-of-type {\n",
       "        vertical-align: middle;\n",
       "    }\n",
       "\n",
       "    .dataframe tbody tr th {\n",
       "        vertical-align: top;\n",
       "    }\n",
       "\n",
       "    .dataframe thead th {\n",
       "        text-align: right;\n",
       "    }\n",
       "</style>\n",
       "<table border=\"1\" class=\"dataframe\">\n",
       "  <thead>\n",
       "    <tr style=\"text-align: right;\">\n",
       "      <th></th>\n",
       "      <th>A</th>\n",
       "      <th>B</th>\n",
       "      <th>A+B</th>\n",
       "    </tr>\n",
       "  </thead>\n",
       "  <tbody>\n",
       "    <tr>\n",
       "      <th>a</th>\n",
       "      <td>0</td>\n",
       "      <td>1</td>\n",
       "      <td>1</td>\n",
       "    </tr>\n",
       "    <tr>\n",
       "      <th>c</th>\n",
       "      <td>5</td>\n",
       "      <td>5</td>\n",
       "      <td>10</td>\n",
       "    </tr>\n",
       "    <tr>\n",
       "      <th>d</th>\n",
       "      <td>5</td>\n",
       "      <td>5</td>\n",
       "      <td>10</td>\n",
       "    </tr>\n",
       "    <tr>\n",
       "      <th>e</th>\n",
       "      <td>5</td>\n",
       "      <td>5</td>\n",
       "      <td>10</td>\n",
       "    </tr>\n",
       "  </tbody>\n",
       "</table>\n",
       "</div>"
      ],
      "text/plain": [
       "   A  B  A+B\n",
       "a  0  1    1\n",
       "c  5  5   10\n",
       "d  5  5   10\n",
       "e  5  5   10"
      ]
     },
     "execution_count": 56,
     "metadata": {},
     "output_type": "execute_result"
    }
   ],
   "source": [
    "x1.drop(columns=['A+B'])\n",
    "x1.pop('C')\n",
    "x1.drop(index='b') # by default choose rows\n",
    "#also we can use axis=1 inplace of columns\n",
    "# drop may use for droping rows and its create a new object not inplace"
   ]
  },
  {
   "cell_type": "code",
   "execution_count": 57,
   "metadata": {},
   "outputs": [],
   "source": [
    "f1=pd.DataFrame([[1,2,3],[1,2,3]],columns=['A','B','C'])\n",
    "f2=pd.DataFrame([[1,2,3],[1,2,3]],columns=['A','B','C'])"
   ]
  },
  {
   "cell_type": "code",
   "execution_count": 58,
   "metadata": {},
   "outputs": [
    {
     "name": "stdout",
     "output_type": "stream",
     "text": [
      "   A  B  C\n",
      "0  1  2  3\n",
      "1  1  2  3\n",
      "2  1  2  3\n",
      "3  1  2  3\n"
     ]
    }
   ],
   "source": [
    "x2=pd.concat([f1,f2],ignore_index=True)\n",
    "print(x2)"
   ]
  },
  {
   "cell_type": "code",
   "execution_count": 59,
   "metadata": {},
   "outputs": [
    {
     "name": "stdout",
     "output_type": "stream",
     "text": [
      "A    int64\n",
      "B    int64\n",
      "C    int64\n",
      "dtype: object\n",
      "(4, 3)\n",
      "2\n",
      "12\n",
      "[[1 2 3]\n",
      " [1 2 3]\n",
      " [1 2 3]\n",
      " [1 2 3]]\n",
      "False\n"
     ]
    }
   ],
   "source": [
    "print(x2.dtypes)\n",
    "print(x2.shape)\n",
    "print(x2.ndim)\n",
    "print(x2.size)\n",
    "print(x2.values)\n",
    "print(x2.empty)"
   ]
  },
  {
   "cell_type": "markdown",
   "metadata": {},
   "source": [
    "# Re-indexing = Rearanging rows and columns Not updating"
   ]
  },
  {
   "cell_type": "code",
   "execution_count": 60,
   "metadata": {},
   "outputs": [
    {
     "name": "stdout",
     "output_type": "stream",
     "text": [
      "a    1\n",
      "b    2\n",
      "c    3\n",
      "d    4\n",
      "e    5\n",
      "dtype: int64\n",
      "a    1\n",
      "b    2\n",
      "c    3\n",
      "e    5\n",
      "d    4\n",
      "dtype: int64\n"
     ]
    }
   ],
   "source": [
    "c1=pd.Series([1,2,3,4,5],index=['a','b','c','d','e'])\n",
    "print(c1)\n",
    "print(c1.reindex(['a','b','c','e','d']))"
   ]
  },
  {
   "cell_type": "code",
   "execution_count": null,
   "metadata": {},
   "outputs": [],
   "source": []
  }
 ],
 "metadata": {
  "kernelspec": {
   "display_name": "base",
   "language": "python",
   "name": "python3"
  },
  "language_info": {
   "codemirror_mode": {
    "name": "ipython",
    "version": 3
   },
   "file_extension": ".py",
   "mimetype": "text/x-python",
   "name": "python",
   "nbconvert_exporter": "python",
   "pygments_lexer": "ipython3",
   "version": "3.12.4"
  }
 },
 "nbformat": 4,
 "nbformat_minor": 2
}
