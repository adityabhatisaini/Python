{
 "cells": [
  {
   "cell_type": "code",
   "execution_count": 1,
   "metadata": {},
   "outputs": [],
   "source": [
    "import pandas as pd\n",
    "import numpy as np"
   ]
  },
  {
   "cell_type": "code",
   "execution_count": 2,
   "metadata": {},
   "outputs": [
    {
     "name": "stdout",
     "output_type": "stream",
     "text": [
      "    A   B   C   D\n",
      "1  11  21  31  41\n",
      "2  12  22  22  42\n",
      "3  13  23  22  43\n",
      "4  14  24  34  44\n",
      "A    12.50\n",
      "B    22.50\n",
      "C    27.25\n",
      "D    42.50\n",
      "dtype: float64\n",
      "1    104\n",
      "2     98\n",
      "3    101\n",
      "4    116\n",
      "dtype: int64\n",
      "12.5\n",
      "104\n"
     ]
    }
   ],
   "source": [
    "import pandas as pd\n",
    "\n",
    "# Create a DataFrame\n",
    "df1 = pd.DataFrame({\n",
    "    'A': [11, 12, 13, 14],\n",
    "    'B': [21, 22, 23, 24],\n",
    "    'C': [31, 22, 22, 34],\n",
    "    'D': [41, 42, 43, 44]\n",
    "}, index=[1, 2, 3, 4])\n",
    "\n",
    "# Perform various aggregation operations\n",
    "print(df1)\n",
    "print(df1.mean())\n",
    "print(df1.sum(axis=1))\n",
    "print(df1['A'].mean())\n",
    "print(df1.loc[1].sum())\n"
   ]
  },
  {
   "cell_type": "code",
   "execution_count": 3,
   "metadata": {},
   "outputs": [
    {
     "name": "stdout",
     "output_type": "stream",
     "text": [
      "C \n",
      "22    2\n",
      "31    1\n",
      "34    1\n",
      "Name: count, dtype: int64\n"
     ]
    }
   ],
   "source": [
    "x1=df1.value_counts(['C'])\n",
    "print(x1)"
   ]
  },
  {
   "cell_type": "code",
   "execution_count": 5,
   "metadata": {},
   "outputs": [
    {
     "name": "stdout",
     "output_type": "stream",
     "text": [
      "  key1 key2     data1     data2\n",
      "0    a  one  1.090473  1.026859\n",
      "1    a  two -0.322156  1.927323\n",
      "2    b  one -0.950034  0.136553\n",
      "3    b  two  1.448037 -1.931605\n",
      "4    a  one -1.513611  0.430783\n"
     ]
    }
   ],
   "source": [
    "import pandas as pd\n",
    "\n",
    "# Create a DataFrame\n",
    "df = pd.DataFrame({\n",
    "    'key1': ['a', 'a', 'b', 'b', 'a'],\n",
    "    'key2': ['one', 'two', 'one', 'two', 'one'],\n",
    "    'data1': np.random.randn(5),\n",
    "    'data2': np.random.randn(5)\n",
    "})\n",
    "print(df)"
   ]
  },
  {
   "cell_type": "code",
   "execution_count": null,
   "metadata": {},
   "outputs": [],
   "source": []
  }
 ],
 "metadata": {
  "kernelspec": {
   "display_name": "base",
   "language": "python",
   "name": "python3"
  },
  "language_info": {
   "codemirror_mode": {
    "name": "ipython",
    "version": 3
   },
   "file_extension": ".py",
   "mimetype": "text/x-python",
   "name": "python",
   "nbconvert_exporter": "python",
   "pygments_lexer": "ipython3",
   "version": "3.12.4"
  }
 },
 "nbformat": 4,
 "nbformat_minor": 2
}
