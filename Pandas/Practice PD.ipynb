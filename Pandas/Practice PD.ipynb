{
 "cells": [
  {
   "cell_type": "code",
   "execution_count": 1,
   "id": "190934ef-a8d1-42fd-b664-388f93468dbd",
   "metadata": {},
   "outputs": [
    {
     "data": {
      "text/html": [
       "<div>\n",
       "<style scoped>\n",
       "    .dataframe tbody tr th:only-of-type {\n",
       "        vertical-align: middle;\n",
       "    }\n",
       "\n",
       "    .dataframe tbody tr th {\n",
       "        vertical-align: top;\n",
       "    }\n",
       "\n",
       "    .dataframe thead th {\n",
       "        text-align: right;\n",
       "    }\n",
       "</style>\n",
       "<table border=\"1\" class=\"dataframe\">\n",
       "  <thead>\n",
       "    <tr style=\"text-align: right;\">\n",
       "      <th></th>\n",
       "      <th>ID</th>\n",
       "      <th>Name</th>\n",
       "      <th>Age</th>\n",
       "      <th>Salary</th>\n",
       "      <th>Department</th>\n",
       "      <th>Join_Date</th>\n",
       "    </tr>\n",
       "  </thead>\n",
       "  <tbody>\n",
       "    <tr>\n",
       "      <th>0</th>\n",
       "      <td>101</td>\n",
       "      <td>Alice</td>\n",
       "      <td>25.0</td>\n",
       "      <td>50000.0</td>\n",
       "      <td>HR</td>\n",
       "      <td>2022-01-10</td>\n",
       "    </tr>\n",
       "    <tr>\n",
       "      <th>1</th>\n",
       "      <td>102</td>\n",
       "      <td>Bob</td>\n",
       "      <td>NaN</td>\n",
       "      <td>60000.0</td>\n",
       "      <td>Finance</td>\n",
       "      <td>2021-07-15</td>\n",
       "    </tr>\n",
       "    <tr>\n",
       "      <th>2</th>\n",
       "      <td>103</td>\n",
       "      <td>Charlie</td>\n",
       "      <td>30.0</td>\n",
       "      <td>NaN</td>\n",
       "      <td>IT</td>\n",
       "      <td>2020-06-20</td>\n",
       "    </tr>\n",
       "    <tr>\n",
       "      <th>3</th>\n",
       "      <td>104</td>\n",
       "      <td>David</td>\n",
       "      <td>22.0</td>\n",
       "      <td>45000.0</td>\n",
       "      <td>HR</td>\n",
       "      <td>2019-09-25</td>\n",
       "    </tr>\n",
       "    <tr>\n",
       "      <th>4</th>\n",
       "      <td>105</td>\n",
       "      <td>NaN</td>\n",
       "      <td>28.0</td>\n",
       "      <td>52000.0</td>\n",
       "      <td>Finance</td>\n",
       "      <td>2021-11-30</td>\n",
       "    </tr>\n",
       "    <tr>\n",
       "      <th>5</th>\n",
       "      <td>106</td>\n",
       "      <td>Eve</td>\n",
       "      <td>NaN</td>\n",
       "      <td>62000.0</td>\n",
       "      <td>NaN</td>\n",
       "      <td>2020-05-19</td>\n",
       "    </tr>\n",
       "    <tr>\n",
       "      <th>6</th>\n",
       "      <td>107</td>\n",
       "      <td>Frank</td>\n",
       "      <td>24.0</td>\n",
       "      <td>48000.0</td>\n",
       "      <td>IT</td>\n",
       "      <td>NaT</td>\n",
       "    </tr>\n",
       "    <tr>\n",
       "      <th>7</th>\n",
       "      <td>108</td>\n",
       "      <td>Grace</td>\n",
       "      <td>29.0</td>\n",
       "      <td>NaN</td>\n",
       "      <td>HR</td>\n",
       "      <td>2018-12-22</td>\n",
       "    </tr>\n",
       "    <tr>\n",
       "      <th>8</th>\n",
       "      <td>109</td>\n",
       "      <td>Hannah</td>\n",
       "      <td>31.0</td>\n",
       "      <td>70000.0</td>\n",
       "      <td>Finance</td>\n",
       "      <td>2017-10-10</td>\n",
       "    </tr>\n",
       "    <tr>\n",
       "      <th>9</th>\n",
       "      <td>110</td>\n",
       "      <td>Ian</td>\n",
       "      <td>27.0</td>\n",
       "      <td>75000.0</td>\n",
       "      <td>IT</td>\n",
       "      <td>2016-08-15</td>\n",
       "    </tr>\n",
       "  </tbody>\n",
       "</table>\n",
       "</div>"
      ],
      "text/plain": [
       "    ID     Name   Age   Salary Department  Join_Date\n",
       "0  101    Alice  25.0  50000.0         HR 2022-01-10\n",
       "1  102      Bob   NaN  60000.0    Finance 2021-07-15\n",
       "2  103  Charlie  30.0      NaN         IT 2020-06-20\n",
       "3  104    David  22.0  45000.0         HR 2019-09-25\n",
       "4  105      NaN  28.0  52000.0    Finance 2021-11-30\n",
       "5  106      Eve   NaN  62000.0        NaN 2020-05-19\n",
       "6  107    Frank  24.0  48000.0         IT        NaT\n",
       "7  108    Grace  29.0      NaN         HR 2018-12-22\n",
       "8  109   Hannah  31.0  70000.0    Finance 2017-10-10\n",
       "9  110      Ian  27.0  75000.0         IT 2016-08-15"
      ]
     },
     "execution_count": 1,
     "metadata": {},
     "output_type": "execute_result"
    }
   ],
   "source": [
    "import pandas as pd\n",
    "import numpy as np\n",
    "\n",
    "# Sample DataFrame\n",
    "data = {\n",
    "    'ID': [101, 102, 103, 104, 105, 106, 107, 108, 109, 110],\n",
    "    'Name': ['Alice', 'Bob', 'Charlie', 'David', np.nan, 'Eve', 'Frank', 'Grace', 'Hannah', 'Ian'],\n",
    "    'Age': [25, np.nan, 30, 22, 28, np.nan, 24, 29, 31, 27],\n",
    "    'Salary': [50000, 60000, np.nan, 45000, 52000, 62000, 48000, np.nan, 70000, 75000],\n",
    "    'Department': ['HR', 'Finance', 'IT', 'HR', 'Finance', np.nan, 'IT', 'HR', 'Finance', 'IT'],\n",
    "    'Join_Date': ['2022-01-10', '2021-07-15', '2020-06-20', '2019-09-25', '2021-11-30', '2020-05-19', np.nan, '2018-12-22', '2017-10-10', '2016-08-15']\n",
    "}\n",
    "\n",
    "df = pd.DataFrame(data)\n",
    "df['Join_Date'] = pd.to_datetime(df['Join_Date'])  # Convert Join_Date to datetime\n",
    "df"
   ]
  },
  {
   "cell_type": "markdown",
   "id": "3592136b-486f-46cd-9e2a-8c1d18b3220f",
   "metadata": {},
   "source": [
    "1. Find the total number of missing values in each column."
   ]
  },
  {
   "cell_type": "code",
   "execution_count": null,
   "id": "e6acf6cc-924b-4c02-a9e5-c49087d92acb",
   "metadata": {},
   "outputs": [],
   "source": []
  },
  {
   "cell_type": "markdown",
   "id": "dcc955a2-62b4-40d5-a2d8-386f9e25e053",
   "metadata": {},
   "source": [
    "2. Fill missing values in the \"Age\" column with the median age."
   ]
  },
  {
   "cell_type": "code",
   "execution_count": null,
   "id": "6b27169e-3cac-4709-932a-23cc532ea888",
   "metadata": {},
   "outputs": [],
   "source": []
  },
  {
   "cell_type": "markdown",
   "id": "cee6a583-35e6-4cff-bbf7-aa10adcfb004",
   "metadata": {},
   "source": [
    "3. Replace missing values in the \"Salary\" column with the average salary."
   ]
  },
  {
   "cell_type": "code",
   "execution_count": null,
   "id": "593b6a3c-ade3-4207-b86d-6d5940824b78",
   "metadata": {},
   "outputs": [],
   "source": []
  },
  {
   "cell_type": "markdown",
   "id": "32fb24ee-4b8c-42a9-8a3f-4153d641ce2d",
   "metadata": {},
   "source": [
    "4. Drop all rows where \"Name\" is missing."
   ]
  },
  {
   "cell_type": "code",
   "execution_count": null,
   "id": "dbfa83be-0dda-4483-90b2-8239568b785a",
   "metadata": {},
   "outputs": [],
   "source": []
  },
  {
   "cell_type": "markdown",
   "id": "7cec5a1d-48c1-40db-bf54-305534d3ac24",
   "metadata": {},
   "source": [
    "5. Fill missing values in the \"Department\" column with the most frequent department."
   ]
  },
  {
   "cell_type": "code",
   "execution_count": null,
   "id": "e24dcac0-2060-484d-bb28-83968b34e924",
   "metadata": {},
   "outputs": [],
   "source": []
  },
  {
   "cell_type": "markdown",
   "id": "cd58e22d-d86b-4a7d-a24b-a666165d2171",
   "metadata": {},
   "source": [
    "6. Remove rows where more than 2 values are missing."
   ]
  },
  {
   "cell_type": "code",
   "execution_count": null,
   "id": "c4ac79f3-9ed1-4948-be2b-27acc0bddcc6",
   "metadata": {},
   "outputs": [],
   "source": []
  },
  {
   "cell_type": "markdown",
   "id": "16a1ca40-3c71-4703-8153-6465ac189063",
   "metadata": {},
   "source": [
    "7. Filter out employees whose salary is greater than 60,000."
   ]
  },
  {
   "cell_type": "code",
   "execution_count": null,
   "id": "eb86a5df-c1b1-4aa3-85a6-7be081102d9a",
   "metadata": {},
   "outputs": [],
   "source": []
  },
  {
   "cell_type": "markdown",
   "id": "fcd30adc-70ff-41b5-8655-67c3729fba63",
   "metadata": {},
   "source": [
    "8. Select only employees from the \"IT\" department."
   ]
  },
  {
   "cell_type": "code",
   "execution_count": null,
   "id": "7a777ea0-7786-4984-ba31-ac5a8b9f5825",
   "metadata": {},
   "outputs": [],
   "source": []
  },
  {
   "cell_type": "markdown",
   "id": "75620a8b-f3ee-4bb1-b1af-b8f926f59ab0",
   "metadata": {},
   "source": [
    "9. Filter out employees younger than 25 years."
   ]
  },
  {
   "cell_type": "code",
   "execution_count": null,
   "id": "d92f8db1-2730-4ef6-9bc7-134706a04dd2",
   "metadata": {},
   "outputs": [],
   "source": []
  },
  {
   "cell_type": "markdown",
   "id": "43942c4b-c7c2-438c-bf30-8f4c9eeb2970",
   "metadata": {},
   "source": [
    "10. Get details of employees who joined before 2020."
   ]
  },
  {
   "cell_type": "code",
   "execution_count": null,
   "id": "3b217b89-74da-4dc3-a034-2a90c5fc6a4a",
   "metadata": {},
   "outputs": [],
   "source": []
  },
  {
   "cell_type": "markdown",
   "id": "ea31208d-6dc5-4e82-856f-96a7f6b75347",
   "metadata": {},
   "source": [
    "11. Find employees who belong to either the \"HR\" or \"Finance\" department."
   ]
  },
  {
   "cell_type": "code",
   "execution_count": null,
   "id": "e6bee1a9-da93-4ee4-b7f1-04af8b70c299",
   "metadata": {},
   "outputs": [],
   "source": []
  },
  {
   "cell_type": "markdown",
   "id": "476a4253-4539-488c-8f5f-862c873dd5e7",
   "metadata": {},
   "source": [
    "12. Retrieve employees whose age is between 25 and 30."
   ]
  },
  {
   "cell_type": "code",
   "execution_count": null,
   "id": "11c1f947-6aba-4eef-8356-4c337dc97e58",
   "metadata": {},
   "outputs": [],
   "source": []
  },
  {
   "cell_type": "markdown",
   "id": "97164371-6956-43e1-b73a-03b9cac7e158",
   "metadata": {},
   "source": [
    "13. Sort the DataFrame by \"Salary\" in descending order."
   ]
  },
  {
   "cell_type": "code",
   "execution_count": null,
   "id": "29c3c0dd-a8e3-4712-aafd-09b967e49deb",
   "metadata": {},
   "outputs": [],
   "source": []
  },
  {
   "cell_type": "markdown",
   "id": "5c31792e-147d-471a-b061-16e5cc54ff3f",
   "metadata": {},
   "source": [
    "14. Sort the DataFrame first by \"Department\" (A-Z) and then by \"Salary\" (High to Low)."
   ]
  },
  {
   "cell_type": "code",
   "execution_count": null,
   "id": "b3a671fc-68b5-49ce-aab5-7c3af4e27996",
   "metadata": {},
   "outputs": [],
   "source": []
  },
  {
   "cell_type": "markdown",
   "id": "8818edda-9c52-41f4-a397-f05a8e67b631",
   "metadata": {},
   "source": [
    "15. Rearrange the DataFrame based on \"Join_Date\" (oldest employees first)."
   ]
  },
  {
   "cell_type": "code",
   "execution_count": null,
   "id": "589c4496-daef-4514-8030-dfa27cad7fd4",
   "metadata": {},
   "outputs": [],
   "source": []
  },
  {
   "cell_type": "markdown",
   "id": "511f42bb-b26a-4527-9194-f215e50e4d5f",
   "metadata": {},
   "source": [
    "16. Identify if there are any duplicate rows in the DataFrame."
   ]
  },
  {
   "cell_type": "code",
   "execution_count": null,
   "id": "bea4035d-2267-4bdb-9e21-bcb32f3071ac",
   "metadata": {},
   "outputs": [],
   "source": []
  },
  {
   "cell_type": "markdown",
   "id": "dd30a44d-1f18-48f3-942f-d042796c0ddb",
   "metadata": {},
   "source": [
    "17. Drop duplicate rows based on \"Department\", keeping only the first occurrence."
   ]
  },
  {
   "cell_type": "code",
   "execution_count": null,
   "id": "db0e03f8-2d06-498d-af3a-743377b7a30f",
   "metadata": {},
   "outputs": [],
   "source": []
  },
  {
   "cell_type": "markdown",
   "id": "7997b5e8-c94e-4c7e-ab3b-dd241abcf2c7",
   "metadata": {},
   "source": [
    "18. Drop duplicate rows based on \"Salary\", keeping the last occurrence."
   ]
  },
  {
   "cell_type": "code",
   "execution_count": null,
   "id": "7e9fb643-d26d-429e-b869-6b2fdbe3ae38",
   "metadata": {},
   "outputs": [],
   "source": []
  },
  {
   "cell_type": "markdown",
   "id": "7a82c1ee-ce36-420b-97c8-0cbca341682b",
   "metadata": {},
   "source": [
    "19. Add a new column \"Experience\", calculated as the difference between the current year (2024) and the Join_Date."
   ]
  },
  {
   "cell_type": "code",
   "execution_count": null,
   "id": "1fb78f3a-3995-4628-829b-6c65d7797535",
   "metadata": {},
   "outputs": [],
   "source": []
  },
  {
   "cell_type": "markdown",
   "id": "b9be01ab-3d68-41be-9e7c-f64454c27591",
   "metadata": {},
   "source": [
    "20. Create a new column \"High Salary\" by using lambda where employees earning more than 60,000 are labeled \"Yes\", otherwise \"No\"."
   ]
  },
  {
   "cell_type": "code",
   "execution_count": null,
   "id": "c6090e15-7681-4b43-9ecb-ce007580ca49",
   "metadata": {},
   "outputs": [],
   "source": []
  },
  {
   "cell_type": "code",
   "execution_count": 20,
   "id": "e088a1d4",
   "metadata": {},
   "outputs": [
    {
     "data": {
      "text/html": [
       "<div>\n",
       "<style scoped>\n",
       "    .dataframe tbody tr th:only-of-type {\n",
       "        vertical-align: middle;\n",
       "    }\n",
       "\n",
       "    .dataframe tbody tr th {\n",
       "        vertical-align: top;\n",
       "    }\n",
       "\n",
       "    .dataframe thead th {\n",
       "        text-align: right;\n",
       "    }\n",
       "</style>\n",
       "<table border=\"1\" class=\"dataframe\">\n",
       "  <thead>\n",
       "    <tr style=\"text-align: right;\">\n",
       "      <th></th>\n",
       "      <th>Employee_ID</th>\n",
       "      <th>Name</th>\n",
       "      <th>Joining_Date</th>\n",
       "      <th>Monthly_Salary</th>\n",
       "      <th>Last_Working_Date</th>\n",
       "      <th>Total_Salary_Earned</th>\n",
       "    </tr>\n",
       "  </thead>\n",
       "  <tbody>\n",
       "    <tr>\n",
       "      <th>0</th>\n",
       "      <td>101</td>\n",
       "      <td>Alice</td>\n",
       "      <td>2020-06-15</td>\n",
       "      <td>50000</td>\n",
       "      <td>2025-03-29 00:40:42.049355</td>\n",
       "      <td>2.863333e+06</td>\n",
       "    </tr>\n",
       "    <tr>\n",
       "      <th>1</th>\n",
       "      <td>102</td>\n",
       "      <td>Bob</td>\n",
       "      <td>2019-08-20</td>\n",
       "      <td>60000</td>\n",
       "      <td>2025-03-29 00:40:42.049355</td>\n",
       "      <td>4.036000e+06</td>\n",
       "    </tr>\n",
       "    <tr>\n",
       "      <th>2</th>\n",
       "      <td>103</td>\n",
       "      <td>Charlie</td>\n",
       "      <td>2021-11-05</td>\n",
       "      <td>45000</td>\n",
       "      <td>2025-03-29 00:40:42.049355</td>\n",
       "      <td>1.815000e+06</td>\n",
       "    </tr>\n",
       "    <tr>\n",
       "      <th>3</th>\n",
       "      <td>104</td>\n",
       "      <td>David</td>\n",
       "      <td>2018-03-12</td>\n",
       "      <td>70000</td>\n",
       "      <td>2025-03-29 00:40:42.049355</td>\n",
       "      <td>5.936000e+06</td>\n",
       "    </tr>\n",
       "    <tr>\n",
       "      <th>4</th>\n",
       "      <td>105</td>\n",
       "      <td>Emma</td>\n",
       "      <td>2022-01-10</td>\n",
       "      <td>55000</td>\n",
       "      <td>2025-03-29 00:40:42.049355</td>\n",
       "      <td>2.097333e+06</td>\n",
       "    </tr>\n",
       "  </tbody>\n",
       "</table>\n",
       "</div>"
      ],
      "text/plain": [
       "   Employee_ID     Name Joining_Date  Monthly_Salary  \\\n",
       "0          101    Alice   2020-06-15           50000   \n",
       "1          102      Bob   2019-08-20           60000   \n",
       "2          103  Charlie   2021-11-05           45000   \n",
       "3          104    David   2018-03-12           70000   \n",
       "4          105     Emma   2022-01-10           55000   \n",
       "\n",
       "           Last_Working_Date  Total_Salary_Earned  \n",
       "0 2025-03-29 00:40:42.049355         2.863333e+06  \n",
       "1 2025-03-29 00:40:42.049355         4.036000e+06  \n",
       "2 2025-03-29 00:40:42.049355         1.815000e+06  \n",
       "3 2025-03-29 00:40:42.049355         5.936000e+06  \n",
       "4 2025-03-29 00:40:42.049355         2.097333e+06  "
      ]
     },
     "execution_count": 20,
     "metadata": {},
     "output_type": "execute_result"
    }
   ],
   "source": [
    "import pandas as pd\n",
    "from datetime import datetime, timedelta\n",
    "\n",
    "# Sample DataFrame\n",
    "data = {\n",
    "    'Employee_ID': [101, 102, 103, 104, 105],\n",
    "    'Name': ['Alice', 'Bob', 'Charlie', 'David', 'Emma'],\n",
    "    'Joining_Date': ['2020-06-15', '2019-08-20', '2021-11-05', '2018-03-12', '2022-01-10'],\n",
    "    'Monthly_Salary': [50000, 60000, 45000, 70000, 55000]\n",
    "}\n",
    "\n",
    "df = pd.DataFrame(data)\n",
    "df['Joining_Date'] = pd.to_datetime(df['Joining_Date'])\n",
    "\n",
    "# Today's date\n",
    "today = datetime.now()\n",
    "\n",
    "# Calculate last working date\n",
    "df['Last_Working_Date'] = today + timedelta(days=30)\n",
    "\n",
    "# Calculate total salary earned\n",
    "df['Total_Salary_Earned'] = ((today - df['Joining_Date']).dt.days / 30) * df['Monthly_Salary']\n",
    "\n",
    "df"
   ]
  },
  {
   "cell_type": "code",
   "execution_count": 18,
   "id": "62611847",
   "metadata": {},
   "outputs": [
    {
     "data": {
      "text/plain": [
       "0   1718 days 00:23:13.144619\n",
       "1   2018 days 00:23:13.144619\n",
       "2   1210 days 00:23:13.144619\n",
       "3   2544 days 00:23:13.144619\n",
       "4   1144 days 00:23:13.144619\n",
       "Name: Joining_Date, dtype: timedelta64[ns]"
      ]
     },
     "execution_count": 18,
     "metadata": {},
     "output_type": "execute_result"
    }
   ],
   "source": [
    "x=(today-df['Joining_Date'])\n",
    "x"
   ]
  },
  {
   "cell_type": "code",
   "execution_count": 19,
   "id": "a528e5fd",
   "metadata": {},
   "outputs": [
    {
     "data": {
      "text/plain": [
       "datetime.datetime(2025, 2, 27, 0, 23, 13, 144619)"
      ]
     },
     "execution_count": 19,
     "metadata": {},
     "output_type": "execute_result"
    }
   ],
   "source": [
    "x=today\n",
    "x"
   ]
  },
  {
   "cell_type": "code",
   "execution_count": 29,
   "id": "8bd4d65d",
   "metadata": {},
   "outputs": [
    {
     "name": "stdout",
     "output_type": "stream",
     "text": [
      "   Employee_ID     Name   Age Department   Salary Joining_Date\n",
      "0          101    Alice  25.0         HR  50000.0   2020-06-15\n",
      "1          102      Bob   NaN         IT  60000.0   2019-08-20\n",
      "2          103  Charlie  30.0        NaN  45000.0   2021-11-05\n",
      "3          104      NaN  28.0    Finance      NaN   2018-03-12\n",
      "4          105     Emma   NaN        NaN  55000.0          NaN\n",
      "5          106      NaN   NaN        NaN      NaN          NaN\n"
     ]
    },
    {
     "data": {
      "text/html": [
       "<div>\n",
       "<style scoped>\n",
       "    .dataframe tbody tr th:only-of-type {\n",
       "        vertical-align: middle;\n",
       "    }\n",
       "\n",
       "    .dataframe tbody tr th {\n",
       "        vertical-align: top;\n",
       "    }\n",
       "\n",
       "    .dataframe thead th {\n",
       "        text-align: right;\n",
       "    }\n",
       "</style>\n",
       "<table border=\"1\" class=\"dataframe\">\n",
       "  <thead>\n",
       "    <tr style=\"text-align: right;\">\n",
       "      <th></th>\n",
       "      <th>Employee_ID</th>\n",
       "      <th>Name</th>\n",
       "      <th>Age</th>\n",
       "      <th>Department</th>\n",
       "      <th>Salary</th>\n",
       "      <th>Joining_Date</th>\n",
       "    </tr>\n",
       "  </thead>\n",
       "  <tbody>\n",
       "    <tr>\n",
       "      <th>0</th>\n",
       "      <td>101</td>\n",
       "      <td>Alice</td>\n",
       "      <td>25.0</td>\n",
       "      <td>HR</td>\n",
       "      <td>50000.0</td>\n",
       "      <td>2020-06-15</td>\n",
       "    </tr>\n",
       "    <tr>\n",
       "      <th>1</th>\n",
       "      <td>102</td>\n",
       "      <td>Bob</td>\n",
       "      <td>NaN</td>\n",
       "      <td>IT</td>\n",
       "      <td>60000.0</td>\n",
       "      <td>2019-08-20</td>\n",
       "    </tr>\n",
       "    <tr>\n",
       "      <th>2</th>\n",
       "      <td>103</td>\n",
       "      <td>Charlie</td>\n",
       "      <td>30.0</td>\n",
       "      <td>NaN</td>\n",
       "      <td>45000.0</td>\n",
       "      <td>2021-11-05</td>\n",
       "    </tr>\n",
       "    <tr>\n",
       "      <th>3</th>\n",
       "      <td>104</td>\n",
       "      <td>NaN</td>\n",
       "      <td>28.0</td>\n",
       "      <td>Finance</td>\n",
       "      <td>NaN</td>\n",
       "      <td>2018-03-12</td>\n",
       "    </tr>\n",
       "    <tr>\n",
       "      <th>4</th>\n",
       "      <td>105</td>\n",
       "      <td>Emma</td>\n",
       "      <td>NaN</td>\n",
       "      <td>NaN</td>\n",
       "      <td>55000.0</td>\n",
       "      <td>NaN</td>\n",
       "    </tr>\n",
       "  </tbody>\n",
       "</table>\n",
       "</div>"
      ],
      "text/plain": [
       "   Employee_ID     Name   Age Department   Salary Joining_Date\n",
       "0          101    Alice  25.0         HR  50000.0   2020-06-15\n",
       "1          102      Bob   NaN         IT  60000.0   2019-08-20\n",
       "2          103  Charlie  30.0        NaN  45000.0   2021-11-05\n",
       "3          104      NaN  28.0    Finance      NaN   2018-03-12\n",
       "4          105     Emma   NaN        NaN  55000.0          NaN"
      ]
     },
     "execution_count": 29,
     "metadata": {},
     "output_type": "execute_result"
    }
   ],
   "source": [
    "import pandas as pd\n",
    "import numpy as np\n",
    "\n",
    "# Sample DataFrame\n",
    "data = {\n",
    "    'Employee_ID': [101, 102, 103, 104, 105, 106],\n",
    "    'Name': ['Alice', 'Bob', 'Charlie', np.nan, 'Emma', np.nan],\n",
    "    'Age': [25.0, np.nan, 30.0, 28.0, np.nan, np.nan],\n",
    "    'Department': ['HR', 'IT', np.nan, 'Finance', np.nan, np.nan],\n",
    "    'Salary': [50000.0, 60000.0, 45000.0, np.nan, 55000.0, np.nan],\n",
    "    'Joining_Date': ['2020-06-15', '2019-08-20', '2021-11-05', '2018-03-12', np.nan, np.nan]\n",
    "}\n",
    "\n",
    "df = pd.DataFrame(data)\n",
    "print(df)\n",
    "\n",
    "# Remove rows with more than 3 missing values\n",
    "df_cleaned = df.dropna(thresh=3)\n",
    "\n",
    "df_cleaned"
   ]
  }
 ],
 "metadata": {
  "kernelspec": {
   "display_name": "base",
   "language": "python",
   "name": "python3"
  },
  "language_info": {
   "codemirror_mode": {
    "name": "ipython",
    "version": 3
   },
   "file_extension": ".py",
   "mimetype": "text/x-python",
   "name": "python",
   "nbconvert_exporter": "python",
   "pygments_lexer": "ipython3",
   "version": "3.12.4"
  }
 },
 "nbformat": 4,
 "nbformat_minor": 5
}
