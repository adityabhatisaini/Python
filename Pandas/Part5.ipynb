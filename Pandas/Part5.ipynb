{
 "cells": [
  {
   "cell_type": "markdown",
   "metadata": {},
   "source": [
    "# Sorting and Ranking"
   ]
  },
  {
   "cell_type": "code",
   "execution_count": 49,
   "metadata": {},
   "outputs": [],
   "source": [
    "import numpy as np\n",
    "import pandas as pd"
   ]
  },
  {
   "cell_type": "code",
   "execution_count": 50,
   "metadata": {},
   "outputs": [
    {
     "name": "stdout",
     "output_type": "stream",
     "text": [
      "e    0\n",
      "b    2\n",
      "c    4\n",
      "d    6\n",
      "a    8\n",
      "Name: A, dtype: int32\n"
     ]
    }
   ],
   "source": [
    "x1=np.arange(10).reshape(5,2)\n",
    "df=pd.DataFrame(x1,columns=['A','B'],index=['e','b','c','d','a'])\n",
    "x1=pd.Series(df['A'])\n",
    "print(x1)"
   ]
  },
  {
   "cell_type": "code",
   "execution_count": 51,
   "metadata": {},
   "outputs": [
    {
     "data": {
      "text/plain": [
       "a    8\n",
       "b    2\n",
       "c    4\n",
       "d    6\n",
       "e    0\n",
       "Name: A, dtype: int32"
      ]
     },
     "execution_count": 51,
     "metadata": {},
     "output_type": "execute_result"
    }
   ],
   "source": [
    "x1.sort_index()"
   ]
  },
  {
   "cell_type": "code",
   "execution_count": 53,
   "metadata": {},
   "outputs": [
    {
     "name": "stdout",
     "output_type": "stream",
     "text": [
      "e    0\n",
      "b    2\n",
      "c    4\n",
      "d    6\n",
      "a    8\n",
      "Name: A, dtype: int32\n",
      "a    8\n",
      "b    2\n",
      "c    4\n",
      "d    6\n",
      "e    0\n",
      "Name: A, dtype: int32\n"
     ]
    }
   ],
   "source": [
    "print(x1)\n",
    "x1.sort_index(inplace=True)\n",
    "print(x1)"
   ]
  }
 ],
 "metadata": {
  "kernelspec": {
   "display_name": "base",
   "language": "python",
   "name": "python3"
  },
  "language_info": {
   "codemirror_mode": {
    "name": "ipython",
    "version": 3
   },
   "file_extension": ".py",
   "mimetype": "text/x-python",
   "name": "python",
   "nbconvert_exporter": "python",
   "pygments_lexer": "ipython3",
   "version": "3.12.4"
  }
 },
 "nbformat": 4,
 "nbformat_minor": 2
}
