{
 "cells": [
  {
   "cell_type": "markdown",
   "metadata": {},
   "source": [
    "# duplicated(), drop_duplicates(),groupby(),sum(),mean(),min(),max(),sort_values(),to_datetime(),process.extract()\n"
   ]
  },
  {
   "cell_type": "code",
   "execution_count": 14,
   "metadata": {},
   "outputs": [
    {
     "data": {
      "text/html": [
       "<div>\n",
       "<style scoped>\n",
       "    .dataframe tbody tr th:only-of-type {\n",
       "        vertical-align: middle;\n",
       "    }\n",
       "\n",
       "    .dataframe tbody tr th {\n",
       "        vertical-align: top;\n",
       "    }\n",
       "\n",
       "    .dataframe thead th {\n",
       "        text-align: right;\n",
       "    }\n",
       "</style>\n",
       "<table border=\"1\" class=\"dataframe\">\n",
       "  <thead>\n",
       "    <tr style=\"text-align: right;\">\n",
       "      <th></th>\n",
       "      <th>ID</th>\n",
       "      <th>Name</th>\n",
       "      <th>Age</th>\n",
       "    </tr>\n",
       "  </thead>\n",
       "  <tbody>\n",
       "    <tr>\n",
       "      <th>0</th>\n",
       "      <td>1</td>\n",
       "      <td>Alice</td>\n",
       "      <td>25</td>\n",
       "    </tr>\n",
       "    <tr>\n",
       "      <th>1</th>\n",
       "      <td>2</td>\n",
       "      <td>Bob</td>\n",
       "      <td>30</td>\n",
       "    </tr>\n",
       "    <tr>\n",
       "      <th>2</th>\n",
       "      <td>2</td>\n",
       "      <td>Bob</td>\n",
       "      <td>30</td>\n",
       "    </tr>\n",
       "    <tr>\n",
       "      <th>3</th>\n",
       "      <td>3</td>\n",
       "      <td>Charlie</td>\n",
       "      <td>35</td>\n",
       "    </tr>\n",
       "    <tr>\n",
       "      <th>4</th>\n",
       "      <td>4</td>\n",
       "      <td>David</td>\n",
       "      <td>40</td>\n",
       "    </tr>\n",
       "    <tr>\n",
       "      <th>5</th>\n",
       "      <td>4</td>\n",
       "      <td>David</td>\n",
       "      <td>40</td>\n",
       "    </tr>\n",
       "  </tbody>\n",
       "</table>\n",
       "</div>"
      ],
      "text/plain": [
       "   ID     Name  Age\n",
       "0   1    Alice   25\n",
       "1   2      Bob   30\n",
       "2   2      Bob   30\n",
       "3   3  Charlie   35\n",
       "4   4    David   40\n",
       "5   4    David   40"
      ]
     },
     "execution_count": 14,
     "metadata": {},
     "output_type": "execute_result"
    }
   ],
   "source": [
    "import pandas as pd\n",
    "import numpy as np\n",
    "data = {'ID': [1, 2, 2, 3, 4, 4],\n",
    "        'Name': ['Alice', 'Bob', 'Bob', 'Charlie', 'David', 'David'],\n",
    "        'Age': [25, 30, 30, 35, 40, 40]}\n",
    "\n",
    "df = pd.DataFrame(data)\n",
    "df"
   ]
  },
  {
   "cell_type": "code",
   "execution_count": 15,
   "metadata": {},
   "outputs": [
    {
     "data": {
      "text/plain": [
       "0    False\n",
       "1    False\n",
       "2     True\n",
       "3    False\n",
       "4    False\n",
       "5     True\n",
       "dtype: bool"
      ]
     },
     "execution_count": 15,
     "metadata": {},
     "output_type": "execute_result"
    }
   ],
   "source": [
    "df.duplicated()"
   ]
  },
  {
   "cell_type": "code",
   "execution_count": 16,
   "metadata": {},
   "outputs": [
    {
     "data": {
      "text/html": [
       "<div>\n",
       "<style scoped>\n",
       "    .dataframe tbody tr th:only-of-type {\n",
       "        vertical-align: middle;\n",
       "    }\n",
       "\n",
       "    .dataframe tbody tr th {\n",
       "        vertical-align: top;\n",
       "    }\n",
       "\n",
       "    .dataframe thead th {\n",
       "        text-align: right;\n",
       "    }\n",
       "</style>\n",
       "<table border=\"1\" class=\"dataframe\">\n",
       "  <thead>\n",
       "    <tr style=\"text-align: right;\">\n",
       "      <th></th>\n",
       "      <th>ID</th>\n",
       "      <th>Name</th>\n",
       "      <th>Age</th>\n",
       "    </tr>\n",
       "  </thead>\n",
       "  <tbody>\n",
       "    <tr>\n",
       "      <th>2</th>\n",
       "      <td>2</td>\n",
       "      <td>Bob</td>\n",
       "      <td>30</td>\n",
       "    </tr>\n",
       "    <tr>\n",
       "      <th>5</th>\n",
       "      <td>4</td>\n",
       "      <td>David</td>\n",
       "      <td>40</td>\n",
       "    </tr>\n",
       "  </tbody>\n",
       "</table>\n",
       "</div>"
      ],
      "text/plain": [
       "   ID   Name  Age\n",
       "2   2    Bob   30\n",
       "5   4  David   40"
      ]
     },
     "execution_count": 16,
     "metadata": {},
     "output_type": "execute_result"
    }
   ],
   "source": [
    "duplicates = df.duplicated()\n",
    "df[duplicates]"
   ]
  },
  {
   "cell_type": "markdown",
   "metadata": {},
   "source": [
    "#  Grabbing unique rows"
   ]
  },
  {
   "cell_type": "code",
   "execution_count": 17,
   "metadata": {},
   "outputs": [
    {
     "data": {
      "text/html": [
       "<div>\n",
       "<style scoped>\n",
       "    .dataframe tbody tr th:only-of-type {\n",
       "        vertical-align: middle;\n",
       "    }\n",
       "\n",
       "    .dataframe tbody tr th {\n",
       "        vertical-align: top;\n",
       "    }\n",
       "\n",
       "    .dataframe thead th {\n",
       "        text-align: right;\n",
       "    }\n",
       "</style>\n",
       "<table border=\"1\" class=\"dataframe\">\n",
       "  <thead>\n",
       "    <tr style=\"text-align: right;\">\n",
       "      <th></th>\n",
       "      <th>ID</th>\n",
       "      <th>Name</th>\n",
       "      <th>Age</th>\n",
       "    </tr>\n",
       "  </thead>\n",
       "  <tbody>\n",
       "    <tr>\n",
       "      <th>0</th>\n",
       "      <td>1</td>\n",
       "      <td>Alice</td>\n",
       "      <td>25</td>\n",
       "    </tr>\n",
       "    <tr>\n",
       "      <th>1</th>\n",
       "      <td>2</td>\n",
       "      <td>Bob</td>\n",
       "      <td>30</td>\n",
       "    </tr>\n",
       "    <tr>\n",
       "      <th>3</th>\n",
       "      <td>3</td>\n",
       "      <td>Charlie</td>\n",
       "      <td>35</td>\n",
       "    </tr>\n",
       "    <tr>\n",
       "      <th>4</th>\n",
       "      <td>4</td>\n",
       "      <td>David</td>\n",
       "      <td>40</td>\n",
       "    </tr>\n",
       "  </tbody>\n",
       "</table>\n",
       "</div>"
      ],
      "text/plain": [
       "   ID     Name  Age\n",
       "0   1    Alice   25\n",
       "1   2      Bob   30\n",
       "3   3  Charlie   35\n",
       "4   4    David   40"
      ]
     },
     "execution_count": 17,
     "metadata": {},
     "output_type": "execute_result"
    }
   ],
   "source": [
    "unique=df.drop_duplicates()\n",
    "unique"
   ]
  },
  {
   "cell_type": "code",
   "execution_count": 23,
   "metadata": {},
   "outputs": [
    {
     "name": "stdout",
     "output_type": "stream",
     "text": [
      "Duplicate Rows:\n",
      "    CustomerID   Name  Purchase\n",
      "3         101  Alice       250\n",
      "5         102    Bob       300\n",
      "Unique Rows:\n",
      "    CustomerID     Name  Purchase\n",
      "0         101    Alice       250\n",
      "1         102      Bob       300\n",
      "2         103  Charlie       150\n",
      "4         104    David       400\n",
      "Data without duplicates:\n",
      "    CustomerID     Name  Purchase\n",
      "2         103  Charlie       150\n",
      "4         104    David       400\n",
      "Marked duplicate transactions:\n",
      "    CustomerID     Name  Purchase  is_duplicated\n",
      "0         101    Alice       250           True\n",
      "1         102      Bob       300           True\n",
      "2         103  Charlie       150          False\n",
      "3         101    Alice       250           True\n",
      "4         104    David       400          False\n",
      "5         102      Bob       300           True\n",
      "Unique customers:\n",
      "    CustomerID     Name  Purchase  is_duplicated\n",
      "0         101    Alice       250           True\n",
      "1         102      Bob       300           True\n",
      "2         103  Charlie       150          False\n",
      "4         104    David       400          False\n",
      "Data with duplicate flags:\n",
      "    CustomerID     Name  Purchase  is_duplicated  Duplicate_Flag\n",
      "0         101    Alice       250           True           False\n",
      "1         102      Bob       300           True           False\n",
      "2         103  Charlie       150          False           False\n",
      "3         101    Alice       250           True            True\n",
      "4         104    David       400          False           False\n",
      "5         102      Bob       300           True            True\n",
      "Aggregated Data:\n",
      "             Amount\n",
      "CustomerID        \n",
      "101            450\n",
      "102            650\n",
      "103            150\n",
      "104            400\n",
      "Latest Transactions:\n",
      "    CustomerID  Purchase  Timestamp\n",
      "3         101       200 2023-03-03\n",
      "5         102       350 2023-03-04\n",
      "2         103       150 2023-03-01\n",
      "4         104       400 2023-03-01\n"
     ]
    }
   ],
   "source": [
    "# Handling Duplicate Data in Pandas\n",
    "# Handling duplicate rows in Pandas DataFrames is an essential data-cleaning step \n",
    "# to ensure data integrity and accuracy.\n",
    "\n",
    "import pandas as pd\n",
    "\n",
    "# Sample dataset with duplicate values\n",
    "data = {\n",
    "    'CustomerID': [101, 102, 103, 101, 104, 102],\n",
    "    'Name': ['Alice', 'Bob', 'Charlie', 'Alice', 'David', 'Bob'],\n",
    "    'Purchase': [250, 300, 150, 250, 400, 300]\n",
    "}\n",
    "\n",
    "df = pd.DataFrame(data)\n",
    "\n",
    "# ---- Locating Duplicate Rows ----\n",
    "# Checking for duplicate rows\n",
    "duplicate_rows = df[df.duplicated()]\n",
    "print(\"Duplicate Rows:\\n\", duplicate_rows)\n",
    "\n",
    "# ---- Grabbing Unique Rows ----\n",
    "# Getting unique rows by dropping duplicates\n",
    "unique_rows = df.drop_duplicates()\n",
    "print(\"Unique Rows:\\n\", unique_rows)\n",
    "\n",
    "# ---- Removing Rows completely which are present in duplicate manner ----\n",
    "# Removing all duplicate rows\n",
    "df_no_duplicates = df.drop_duplicates(keep=False)\n",
    "print(\"Data without duplicates:\\n\", df_no_duplicates)\n",
    "\n",
    "# ---- Suppose Duplicate transactions are fraudulent transactions ----\n",
    "# In cases where duplicate transactions indicate fraud, marking them\n",
    "df['is_duplicated'] = df.duplicated(keep=False)\n",
    "print(\"Marked duplicate transactions:\\n\", df)\n",
    "\n",
    "# ---- Duplicate based on Specific Subset ----\n",
    "# Removing duplicates based on a specific column (CustomerID)\n",
    "df_unique_customers = df.drop_duplicates(subset=['CustomerID'])\n",
    "print(\"Unique customers:\\n\", df_unique_customers)\n",
    "\n",
    "# ---- Marking Duplicate Rows ----\n",
    "# Flagging duplicate rows for review\n",
    "df['Duplicate_Flag'] = df.duplicated()\n",
    "print(\"Data with duplicate flags:\\n\", df)\n",
    "\n",
    "# ---- Handling Duplicates with Aggregation ----\n",
    "# When duplicate rows contain different values, we can aggregate instead of removing them\n",
    "data_agg = {\n",
    "    'CustomerID': [101, 102, 103, 101, 104, 102],\n",
    "    'Amount': [250, 300, 150, 200, 400, 350]\n",
    "}\n",
    "\n",
    "df_agg = pd.DataFrame(data_agg)\n",
    "\n",
    "# Aggregating duplicate records using sum\n",
    "df_grouped = df_agg.groupby('CustomerID').sum()\n",
    "print(\"Aggregated Data:\\n\", df_grouped)\n",
    "\n",
    "# ---- Handling Duplicates with Different Timestamps ----\n",
    "# Keeping only the latest record per CustomerID\n",
    "data_time = {\n",
    "    'CustomerID': [101, 102, 103, 101, 104, 102],\n",
    "    'Purchase': [250, 300, 150, 200, 400, 350],\n",
    "    'Timestamp': ['2023-03-01', '2023-03-02', '2023-03-01', '2023-03-03', '2023-03-01', '2023-03-04']\n",
    "}\n",
    "\n",
    "df_time = pd.DataFrame(data_time)\n",
    "\n",
    "# Sorting and keeping the latest transaction per customer\n",
    "df_time['Timestamp'] = pd.to_datetime(df_time['Timestamp'])\n",
    "df_latest = df_time.sort_values(by=['CustomerID', 'Timestamp']).drop_duplicates(subset='CustomerID', keep='last')\n",
    "print(\"Latest Transactions:\\n\", df_latest)\n"
   ]
  },
  {
   "cell_type": "code",
   "execution_count": 22,
   "metadata": {},
   "outputs": [
    {
     "name": "stdout",
     "output_type": "stream",
     "text": [
      "Closest Matches:\n",
      " [('apple', 100), ('apples', 91), ('appl', 89)]\n"
     ]
    }
   ],
   "source": [
    "# ---- Duplicate with Close Match ----\n",
    "# Handling duplicates with slight differences (close matches)\n",
    "\n",
    "from thefuzz import process,fuzz\n",
    "\n",
    "# Example dataset with close matches\n",
    "data = ['apple', 'appl', 'apples', 'banana', 'bananaa']\n",
    "\n",
    "# Query for comparison\n",
    "query = 'apple'\n",
    "\n",
    "# Finding close matches with a similarity ratio\n",
    "closest_matches = process.extract(query, data, limit=3)\n",
    "\n",
    "print(\"Closest Matches:\\n\", closest_matches)\n"
   ]
  }
 ],
 "metadata": {
  "kernelspec": {
   "display_name": "base",
   "language": "python",
   "name": "python3"
  },
  "language_info": {
   "codemirror_mode": {
    "name": "ipython",
    "version": 3
   },
   "file_extension": ".py",
   "mimetype": "text/x-python",
   "name": "python",
   "nbconvert_exporter": "python",
   "pygments_lexer": "ipython3",
   "version": "3.12.4"
  }
 },
 "nbformat": 4,
 "nbformat_minor": 2
}
