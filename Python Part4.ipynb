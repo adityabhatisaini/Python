{
 "cells": [
  {
   "cell_type": "code",
   "execution_count": 56,
   "metadata": {},
   "outputs": [
    {
     "name": "stdout",
     "output_type": "stream",
     "text": [
      "12 inch pizza has 1888.73 calories\n",
      "14 inch pizza has 2570.77 calories\n"
     ]
    }
   ],
   "source": [
    "def calc_circle_area(circle_diameter):\n",
    "    pi_val=3.14159265\n",
    "\n",
    "    circle_radius = circle_diameter / 2.0\n",
    "    circle_area=pi_val * circle_radius*circle_radius\n",
    "    return circle_area\n",
    "\n",
    "def calc_pizza_calories(pizza_diameter):\n",
    "    calories_per_square_inch=16.7\n",
    "    total_calories =calc_circle_area(pizza_diameter) * calories_per_square_inch\n",
    "    return total_calories\n",
    "\n",
    "print(f'12 inch pizza has {calc_pizza_calories(12):.2f} calories')\n",
    "print(f'14 inch pizza has {calc_pizza_calories(14):.2f} calories')"
   ]
  },
  {
   "cell_type": "markdown",
   "metadata": {},
   "source": [
    "# Function with doctstring"
   ]
  },
  {
   "cell_type": "code",
   "execution_count": 57,
   "metadata": {},
   "outputs": [
    {
     "name": "stdout",
     "output_type": "stream",
     "text": [
      "\n",
      "Fahrenheit: 98.6\n"
     ]
    }
   ],
   "source": [
    "def c_to_f(c):\n",
    "    '''return celsius to fahrenheit value'''\n",
    "    f=c*9/5+32\n",
    "    return f\n",
    "\n",
    "temp_c=float(input('Enter temperature in celsius:'))\n",
    "temp_f=None\n",
    "temp_f=c_to_f(temp_c)\n",
    "print()\n",
    "print('Fahrenheit:',temp_f)"
   ]
  },
  {
   "cell_type": "code",
   "execution_count": 58,
   "metadata": {},
   "outputs": [
    {
     "name": "stdout",
     "output_type": "stream",
     "text": [
      "Help on function c_to_f in module __main__:\n",
      "\n",
      "c_to_f(c)\n",
      "    return celsius to fahrenheit value\n",
      "\n"
     ]
    }
   ],
   "source": [
    "help(c_to_f)"
   ]
  },
  {
   "cell_type": "markdown",
   "metadata": {},
   "source": [
    "# Function Stub"
   ]
  },
  {
   "cell_type": "code",
   "execution_count": 59,
   "metadata": {},
   "outputs": [],
   "source": [
    "def Sample(a,b):\n",
    "    pass"
   ]
  },
  {
   "cell_type": "code",
   "execution_count": 60,
   "metadata": {},
   "outputs": [],
   "source": [
    "def Sample(a,b):\n",
    "    '''This is a sample function'''"
   ]
  },
  {
   "cell_type": "code",
   "execution_count": 61,
   "metadata": {},
   "outputs": [
    {
     "name": "stdout",
     "output_type": "stream",
     "text": [
      "Fix me: complete block\n"
     ]
    },
    {
     "data": {
      "text/plain": [
       "-1"
      ]
     },
     "execution_count": 61,
     "metadata": {},
     "output_type": "execute_result"
    }
   ],
   "source": [
    "def Sample(a,b):\n",
    "    print('Fix me: complete block')\n",
    "    return -1\n",
    "\n",
    "Sample(45,54)"
   ]
  },
  {
   "cell_type": "code",
   "execution_count": 89,
   "metadata": {},
   "outputs": [
    {
     "name": "stdout",
     "output_type": "stream",
     "text": [
      "Ebay fee: 58.5\n"
     ]
    }
   ],
   "source": [
    "def calc_ebay_fee(sell_price):\n",
    "    p50=0.13\n",
    "    p50_to_1000=0.05\n",
    "    p1000=0.02\n",
    "    fee=0.50\n",
    "\n",
    "    if sell_price <=50:\n",
    "        cumn=fee+{sell_price*p50}\n",
    "    elif sell_price <=1000:\n",
    "        cumn=fee+(50*p50)+((sell_price-50)*p50_to_1000)\n",
    "    else:\n",
    "        cumn=fee+(50*p50)+((1000-50)*p50_to_1000) \\\n",
    "        +((sell_price-1000)*p1000)\n",
    "\n",
    "    return cumn\n",
    "\n",
    "selling_price=float(input('Enter selling price:'))\n",
    "\n",
    "print('Ebay fee:',calc_ebay_fee(selling_price))"
   ]
  },
  {
   "cell_type": "code",
   "execution_count": 86,
   "metadata": {},
   "outputs": [
    {
     "name": "stdout",
     "output_type": "stream",
     "text": [
      "True\n"
     ]
    }
   ],
   "source": [
    "value=[1,2,4,0,0,7,5]\n",
    "def spy_game(value):\n",
    "    right = [0, 0, 7]\n",
    "    x = 0\n",
    "    for num in value:\n",
    "        if num == right[x]:\n",
    "            x += 1\n",
    "        if x == len(right):\n",
    "            print('True')\n",
    "            return\n",
    "    print('False')\n",
    "spy_game(value)"
   ]
  },
  {
   "cell_type": "code",
   "execution_count": 64,
   "metadata": {},
   "outputs": [
    {
     "data": {
      "text/plain": [
       "7"
      ]
     },
     "execution_count": 64,
     "metadata": {},
     "output_type": "execute_result"
    }
   ],
   "source": [
    "value=[1,2,4,0,0,7,5]\n",
    "value[5]"
   ]
  },
  {
   "cell_type": "code",
   "execution_count": 1,
   "metadata": {},
   "outputs": [],
   "source": [
    "def aditya(numbers):\n",
    "    if not numbers:\n",
    "        return 0\n",
    "    return sum(numbers) / len(numbers)\n"
   ]
  },
  {
   "cell_type": "code",
   "execution_count": 2,
   "metadata": {},
   "outputs": [
    {
     "data": {
      "text/plain": [
       "103.28571428571429"
      ]
     },
     "execution_count": 2,
     "metadata": {},
     "output_type": "execute_result"
    }
   ],
   "source": [
    "x1=[45,2,56,456,54,54,56]\n",
    "aditya(x1)"
   ]
  },
  {
   "cell_type": "markdown",
   "metadata": {},
   "source": [
    "# Decorators Functions"
   ]
  },
  {
   "cell_type": "code",
   "execution_count": 4,
   "metadata": {},
   "outputs": [],
   "source": [
    "\n",
    "def my_decorator(func):\n",
    "    def wrapper():\n",
    "        print('function Initiated')\n",
    "        func()\n",
    "        print('Function completed successfully')\n",
    "    return wrapper"
   ]
  },
  {
   "cell_type": "code",
   "execution_count": 5,
   "metadata": {},
   "outputs": [],
   "source": [
    "@my_decorator\n",
    "def say_hello():\n",
    "    print('Hello!')"
   ]
  },
  {
   "cell_type": "code",
   "execution_count": 6,
   "metadata": {},
   "outputs": [
    {
     "name": "stdout",
     "output_type": "stream",
     "text": [
      "function Initiated\n",
      "Hello!\n",
      "Function completed successfully\n"
     ]
    }
   ],
   "source": [
    "say_hello()"
   ]
  },
  {
   "cell_type": "code",
   "execution_count": 11,
   "metadata": {},
   "outputs": [],
   "source": [
    "import time"
   ]
  },
  {
   "cell_type": "code",
   "execution_count": 12,
   "metadata": {},
   "outputs": [],
   "source": [
    "def timing_decorator(func):\n",
    "    def wrapper(numbers):\n",
    "        start=time.time()\n",
    "        result=func(numbers)\n",
    "        end=time.time()\n",
    "        print(f'{func.__name__} took {(end-start)*1000:.2f}ms')\n",
    "        return result\n",
    "    return wrapper\n"
   ]
  },
  {
   "cell_type": "code",
   "execution_count": 13,
   "metadata": {},
   "outputs": [],
   "source": [
    "@timing_decorator\n",
    "\n",
    "def calc_square(numbers):\n",
    "    result=[]\n",
    "    for number in numbers:\n",
    "        result.append(number*number)\n",
    "    return result"
   ]
  },
  {
   "cell_type": "code",
   "execution_count": 14,
   "metadata": {},
   "outputs": [],
   "source": [
    "@timing_decorator\n",
    "\n",
    "def calc_cube(numbers):\n",
    "    result=[]\n",
    "    for number in numbers:\n",
    "        result.append(number*number*number)\n",
    "    return result"
   ]
  },
  {
   "cell_type": "code",
   "execution_count": 15,
   "metadata": {},
   "outputs": [
    {
     "name": "stdout",
     "output_type": "stream",
     "text": [
      "calc_square took 0.00ms\n"
     ]
    },
    {
     "data": {
      "text/plain": [
       "[1, 4, 9, 16, 25, 36, 49, 64, 81, 100, 121, 144, 169, 196, 225, 256]"
      ]
     },
     "execution_count": 15,
     "metadata": {},
     "output_type": "execute_result"
    }
   ],
   "source": [
    "calc_square([1,2,3,4,5,6,7,8,9,10,11,12,13,14,15,16])"
   ]
  },
  {
   "cell_type": "markdown",
   "metadata": {},
   "source": [
    "## Multiple Decorators"
   ]
  },
  {
   "cell_type": "code",
   "execution_count": 18,
   "metadata": {},
   "outputs": [],
   "source": [
    "def double_result(func):\n",
    "    def wrpper(a,b):\n",
    "        result=func(a,b)\n",
    "        return result*2\n",
    "    return wrpper"
   ]
  },
  {
   "cell_type": "code",
   "execution_count": 19,
   "metadata": {},
   "outputs": [],
   "source": [
    "def cube_result(func):\n",
    "    def wrpper(a,b):\n",
    "        result=func(a,b)\n",
    "        return result**3\n",
    "    return wrpper"
   ]
  },
  {
   "cell_type": "code",
   "execution_count": 21,
   "metadata": {},
   "outputs": [
    {
     "name": "stdout",
     "output_type": "stream",
     "text": [
      "250\n"
     ]
    }
   ],
   "source": [
    "@double_result\n",
    "@cube_result\n",
    "def add_numbers(a,b):\n",
    "    return a+b\n",
    "\n",
    "print(add_numbers(2,3))"
   ]
  },
  {
   "cell_type": "code",
   "execution_count": 22,
   "metadata": {},
   "outputs": [
    {
     "name": "stdout",
     "output_type": "stream",
     "text": [
      "1000\n"
     ]
    }
   ],
   "source": [
    "@cube_result\n",
    "@double_result\n",
    "def add_numbers(a,b):\n",
    "    return a+b\n",
    "\n",
    "print(add_numbers(2,3))"
   ]
  },
  {
   "cell_type": "code",
   "execution_count": 25,
   "metadata": {},
   "outputs": [
    {
     "name": "stdout",
     "output_type": "stream",
     "text": [
      "pi value is 3.14\n"
     ]
    }
   ],
   "source": [
    "x1=22\n",
    "x2=7\n",
    "x3=x1/x2\n",
    "print(f'pi value is {x3:.2f}')"
   ]
  },
  {
   "cell_type": "markdown",
   "metadata": {},
   "source": [
    "## Function arugments"
   ]
  },
  {
   "cell_type": "code",
   "execution_count": 2,
   "metadata": {},
   "outputs": [],
   "source": [
    "def print_book_desc(title,author,publisher,year,version,num_chapters,num_pages):\n",
    "    print('Title:',title)\n",
    "    print('Author:',author)\n",
    "    print('Publisher:',publisher)\n",
    "    print('Year:',year)\n",
    "    print('Version:',version)\n",
    "    print('Number of chapters:',num_chapters)\n",
    "    print('Number of pages:',num_pages)"
   ]
  },
  {
   "cell_type": "code",
   "execution_count": 4,
   "metadata": {},
   "outputs": [
    {
     "name": "stdout",
     "output_type": "stream",
     "text": [
      "Title: The Lord of the Ring\n",
      "Author: J.R.R Tolkine\n",
      "Publisher: George Allen & Unwin\n",
      "Year: 1954\n",
      "Version: 1\n",
      "Number of chapters: 19\n",
      "Number of pages: 423\n"
     ]
    }
   ],
   "source": [
    "print_book_desc('The Lord of the Ring','J.R.R Tolkine','George Allen & Unwin',1954,1,19,423)"
   ]
  },
  {
   "cell_type": "code",
   "execution_count": 6,
   "metadata": {},
   "outputs": [
    {
     "name": "stdout",
     "output_type": "stream",
     "text": [
      "Title: The Lord of the Ring\n",
      "Author: J.R.R Tolkine\n",
      "Publisher: George Allen & Unwin\n",
      "Year: 1954\n",
      "Version: 1\n",
      "Number of chapters: 19\n",
      "Number of pages: 423\n"
     ]
    }
   ],
   "source": [
    "#keywords arguments\n",
    "\n",
    "print_book_desc(title='The Lord of the Ring',author='J.R.R Tolkine',publisher='George Allen & Unwin',\n",
    "                year=1954,version=1,num_chapters=19,num_pages=423)"
   ]
  },
  {
   "cell_type": "code",
   "execution_count": 8,
   "metadata": {},
   "outputs": [
    {
     "name": "stdout",
     "output_type": "stream",
     "text": [
      "1/1/2021\n"
     ]
    }
   ],
   "source": [
    "\n",
    "def print_date(day,month,year,style=0):\n",
    "    if style==0:\n",
    "        print(f'{day}/{month}/{year}')\n",
    "    elif style==1:\n",
    "        print(f'{month}/{day}/{year}')\n",
    "    else:\n",
    "        print('invalid style')\n",
    "\n",
    "print_date(1,1,2021)\n",
    "# you must asign key arguments in the last"
   ]
  },
  {
   "cell_type": "markdown",
   "metadata": {},
   "source": [
    "## Variable Argument Method"
   ]
  },
  {
   "cell_type": "code",
   "execution_count": 10,
   "metadata": {},
   "outputs": [],
   "source": [
    "#** key in dictionary\n",
    "#* aruguments in tuple"
   ]
  },
  {
   "cell_type": "code",
   "execution_count": 11,
   "metadata": {},
   "outputs": [],
   "source": [
    "def print_marks(Name,Age,*args):\n",
    "    print('Student Name:',Name)\n",
    "    print('Age:',Age)\n",
    "    print(args)\n",
    "\n",
    "    count=1\n",
    "    for i in args:\n",
    "        print('Sub. No',count,':',i)\n",
    "        count+=1"
   ]
  },
  {
   "cell_type": "code",
   "execution_count": 12,
   "metadata": {},
   "outputs": [
    {
     "name": "stdout",
     "output_type": "stream",
     "text": [
      "Student Name: Vicky\n",
      "Age: 20\n",
      "(90, 80, 70, 60, 50)\n",
      "Sub. No 1 : 90\n",
      "Sub. No 2 : 80\n",
      "Sub. No 3 : 70\n",
      "Sub. No 4 : 60\n",
      "Sub. No 5 : 50\n"
     ]
    }
   ],
   "source": [
    "print_marks('Vicky',20,90,80,70,60,50)"
   ]
  },
  {
   "cell_type": "code",
   "execution_count": 13,
   "metadata": {},
   "outputs": [],
   "source": [
    "def print_marks(Name,Age,**args):\n",
    "    print('Student Name:',Name)\n",
    "    print('Age:',Age)\n",
    "    print(args)\n",
    "\n",
    "    count=1\n",
    "    for i in args:\n",
    "        print('Sub. No',count,':',i)\n",
    "        count+=1"
   ]
  },
  {
   "cell_type": "code",
   "execution_count": 15,
   "metadata": {},
   "outputs": [
    {
     "name": "stdout",
     "output_type": "stream",
     "text": [
      "Student Name: Vicky\n",
      "Age: 20\n",
      "{'long': 45, 'father_name': 'Sunil'}\n",
      "Sub. No 1 : long\n",
      "Sub. No 2 : father_name\n"
     ]
    }
   ],
   "source": [
    "print_marks('Vicky',20,long=45,father_name='Sunil')"
   ]
  }
 ],
 "metadata": {
  "kernelspec": {
   "display_name": "base",
   "language": "python",
   "name": "python3"
  },
  "language_info": {
   "codemirror_mode": {
    "name": "ipython",
    "version": 3
   },
   "file_extension": ".py",
   "mimetype": "text/x-python",
   "name": "python",
   "nbconvert_exporter": "python",
   "pygments_lexer": "ipython3",
   "version": "3.12.4"
  }
 },
 "nbformat": 4,
 "nbformat_minor": 2
}
