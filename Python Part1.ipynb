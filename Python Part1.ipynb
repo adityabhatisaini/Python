{
 "cells": [
  {
   "cell_type": "markdown",
   "id": "88900eb9-4f6b-4d6c-9958-99e96d28c1aa",
   "metadata": {},
   "source": [
    "# Date: 22 Aug 2024"
   ]
  },
  {
   "cell_type": "code",
   "execution_count": 7,
   "id": "8d42d5ad-34b0-4267-b192-d4164236bf11",
   "metadata": {
    "scrolled": true
   },
   "outputs": [
    {
     "name": "stdout",
     "output_type": "stream",
     "text": [
      "4\n"
     ]
    }
   ],
   "source": [
    "print(round(4.3))"
   ]
  },
  {
   "cell_type": "code",
   "execution_count": 8,
   "id": "ba2cf511-471a-4d46-a8c8-5c5dc2a8dd0f",
   "metadata": {},
   "outputs": [
    {
     "name": "stdout",
     "output_type": "stream",
     "text": [
      "10\n"
     ]
    }
   ],
   "source": [
    "print(round(10.5))"
   ]
  },
  {
   "cell_type": "code",
   "execution_count": 9,
   "id": "99a4d9cf-de63-4844-9759-30fa7c330c9f",
   "metadata": {},
   "outputs": [
    {
     "name": "stdout",
     "output_type": "stream",
     "text": [
      "42.1\n"
     ]
    }
   ],
   "source": [
    "print(round(42.125,1))"
   ]
  },
  {
   "cell_type": "code",
   "execution_count": 10,
   "id": "fa7d3606-e5db-4324-9155-a5615a2870eb",
   "metadata": {},
   "outputs": [
    {
     "name": "stdout",
     "output_type": "stream",
     "text": [
      "12.0\n"
     ]
    }
   ],
   "source": [
    "print(round(12.45,0)) # Round Formula"
   ]
  },
  {
   "cell_type": "code",
   "execution_count": 11,
   "id": "e821e1d8-c814-4e0a-9a38-c43df7fcea32",
   "metadata": {},
   "outputs": [
    {
     "name": "stdout",
     "output_type": "stream",
     "text": [
      "45.455\n"
     ]
    }
   ],
   "source": [
    "print(round(45.455,4)) # If you eneter high value by given then you got max value of availability\n",
    "#"
   ]
  },
  {
   "cell_type": "code",
   "execution_count": 12,
   "id": "cbc52371-e372-4c46-bdd9-4e548dc092bc",
   "metadata": {},
   "outputs": [
    {
     "name": "stdout",
     "output_type": "stream",
     "text": [
      "Your Total Value is 83\n"
     ]
    }
   ],
   "source": [
    "first_chac=int(input('Enter Your First Number'))\n",
    "second_chac=int(input('Enter Your Second Number'))\n",
    "third_chac=int(input('Enter Your Third Number'))\n",
    "print('Your Total Value is', first_chac+second_chac+third_chac)"
   ]
  },
  {
   "cell_type": "markdown",
   "id": "2134c919-99c2-400b-821e-ea35eb7b0e9c",
   "metadata": {},
   "source": [
    "# Past Revision"
   ]
  },
  {
   "cell_type": "code",
   "execution_count": 13,
   "id": "345ef982-35c4-4c21-89fc-b64f2f9fceea",
   "metadata": {},
   "outputs": [
    {
     "name": "stdout",
     "output_type": "stream",
     "text": [
      "45\n"
     ]
    }
   ],
   "source": [
    "print(int(input(\"Enter Your Number here\")))"
   ]
  },
  {
   "cell_type": "markdown",
   "id": "ea196055-b099-466a-81e0-68f7066ab829",
   "metadata": {},
   "source": [
    "# Date: 30 Aug 2024"
   ]
  },
  {
   "cell_type": "code",
   "execution_count": 14,
   "id": "215ef041-08c8-4bd3-bec1-cc2f0c23bd8a",
   "metadata": {
    "scrolled": true
   },
   "outputs": [
    {
     "name": "stdout",
     "output_type": "stream",
     "text": [
      "12 Minutes are\n",
      "0 hour 12 minutes\n"
     ]
    }
   ],
   "source": [
    "total_minutes=int(input(\"Enter Number Of minutes:\"))\n",
    "hours=total_minutes//60\n",
    "minutes_remainig=total_minutes%60\n",
    "print(total_minutes,\"Minutes are\",end=\"\\n\")\n",
    "print(hours,\"hour\",end=\" \")\n",
    "print(minutes_remainig,\"minutes\")"
   ]
  },
  {
   "cell_type": "code",
   "execution_count": 15,
   "id": "81b5f8ef-f5ed-453f-ab7e-717c78d35588",
   "metadata": {},
   "outputs": [
    {
     "name": "stdout",
     "output_type": "stream",
     "text": [
      "455 CM are 4 meter 55 CM\n"
     ]
    }
   ],
   "source": [
    "total_cm=int(input(\"Enter Value in CM:\"))\n",
    "meter=total_cm//100\n",
    "cm_remainig=total_cm%100\n",
    "print(total_cm,\"CM are\",end=\" \")\n",
    "print(meter,\"meter\",end=\" \")\n",
    "print(cm_remainig,\"CM\")"
   ]
  },
  {
   "cell_type": "code",
   "execution_count": 16,
   "id": "3c5a1ce9-22b8-4401-82ea-b1cf82cef26c",
   "metadata": {},
   "outputs": [
    {
     "name": "stdout",
     "output_type": "stream",
     "text": [
      "45 If we remove all possible meters then 45 CM Remained.\n"
     ]
    }
   ],
   "source": [
    "total_cm1=int(input(\"Enter Value in CM:\")) \n",
    "cm_remainig1=total_cm1%100 #if we want to take only last value \n",
    "print(total_cm1,\"If we remove all possible meters then\",end=\" \")\n",
    "print(cm_remainig1,\"CM Remained.\")"
   ]
  },
  {
   "cell_type": "markdown",
   "id": "14daeb81-7d2f-44c5-97ce-9eacbda2d3a1",
   "metadata": {},
   "source": [
    "# 04 Aug 2024"
   ]
  },
  {
   "cell_type": "code",
   "execution_count": 17,
   "id": "98194131-a451-4dae-9c98-b5e5e41a9331",
   "metadata": {},
   "outputs": [
    {
     "name": "stdout",
     "output_type": "stream",
     "text": [
      "D\n"
     ]
    }
   ],
   "source": [
    "alphabet=\"ABCDEFGHIJKLMNOPQRSTUVWXYZ\"\n",
    "n=int(input('Enter number for n'))\n",
    "print(alphabet[n-1])"
   ]
  },
  {
   "cell_type": "markdown",
   "id": "9fc89771-09aa-4ef9-b579-c5bc71b8accc",
   "metadata": {},
   "source": [
    "# List"
   ]
  },
  {
   "cell_type": "code",
   "execution_count": 18,
   "id": "9480c826-6c2d-464c-acc5-e31ed0cabeeb",
   "metadata": {},
   "outputs": [
    {
     "name": "stdout",
     "output_type": "stream",
     "text": [
      "3200000\n"
     ]
    }
   ],
   "source": [
    "house_prices=[1500000,2500000,3200000]\n",
    "print(house_prices[2])"
   ]
  },
  {
   "cell_type": "code",
   "execution_count": 19,
   "id": "75eb199c-b228-4c81-925c-4df44bc93ec2",
   "metadata": {},
   "outputs": [
    {
     "name": "stdout",
     "output_type": "stream",
     "text": [
      "[1500000, 2500000, 3200000]\n"
     ]
    }
   ],
   "source": [
    "s=[1500000,2500000,3200000]\n",
    "\n",
    "print(s)\n"
   ]
  },
  {
   "cell_type": "code",
   "execution_count": 20,
   "id": "5f9a5766-852a-47af-bdbb-64bd69a64fdb",
   "metadata": {},
   "outputs": [
    {
     "name": "stdout",
     "output_type": "stream",
     "text": [
      "[1500000, 3200000]\n"
     ]
    }
   ],
   "source": [
    "s=[1500000,2500000,3200000]\n",
    "\n",
    "s.pop(1)\n",
    "print(s)\n"
   ]
  },
  {
   "cell_type": "code",
   "execution_count": 21,
   "id": "9ff27c35-fcd2-43ea-8778-7d1fc0c8f1e0",
   "metadata": {},
   "outputs": [
    {
     "name": "stdout",
     "output_type": "stream",
     "text": [
      "[1500000, 3200000]\n"
     ]
    }
   ],
   "source": [
    "s=[1500000,2500000,3200000]\n",
    "''' removing using value\n",
    "so easy'''\n",
    "s.remove(2500000)\n",
    "print(s)"
   ]
  },
  {
   "cell_type": "code",
   "execution_count": 22,
   "id": "ad4bb719-8caa-4711-8a0e-22ba9ff2f5f5",
   "metadata": {},
   "outputs": [
    {
     "name": "stdout",
     "output_type": "stream",
     "text": [
      "5\n"
     ]
    }
   ],
   "source": [
    "m=[60,64,42,72,52,73,73,77,76,55,66,79,89,96,55]\n",
    "v=[55,76,88,46,67,86,77,89,54,65]\n",
    "print(len(m)-len(v))"
   ]
  },
  {
   "cell_type": "code",
   "execution_count": 23,
   "id": "1d063ee3-571c-4282-9d41-cc4c1b46795e",
   "metadata": {},
   "outputs": [
    {
     "name": "stdout",
     "output_type": "stream",
     "text": [
      "42 to 89\n"
     ]
    }
   ],
   "source": [
    "m=[60,64,42,72,52,73,73,77,76,55,66,79,89,96,55]\n",
    "v=[55,76,88,46,67,86,77,89,54,65]\n",
    "x=min(m)\n",
    "y=max(v)\n",
    "print(x,\"to\",y)\n"
   ]
  },
  {
   "cell_type": "code",
   "execution_count": 24,
   "id": "8d3217ea-3c07-43f3-85d5-596facb4dfd4",
   "metadata": {},
   "outputs": [
    {
     "name": "stdout",
     "output_type": "stream",
     "text": [
      "68.6\n"
     ]
    }
   ],
   "source": [
    "m=[60,64,42,72,52,73,73,77,76,55,66,79,89,96,55]\n",
    "v=[55,76,88,46,67,86,77,89,54,65]\n",
    "x=len(m)\n",
    "y=sum(m)\n",
    "print(y/x)\n"
   ]
  },
  {
   "cell_type": "code",
   "execution_count": 25,
   "id": "86673506-3364-467a-ae03-d5e01f686f39",
   "metadata": {},
   "outputs": [
    {
     "name": "stdout",
     "output_type": "stream",
     "text": [
      "70.3\n"
     ]
    }
   ],
   "source": [
    "m=[60,64,42,72,52,73,73,77,76,55,66,79,89,96,55]\n",
    "v=[55,76,88,46,67,86,77,89,54,65]\n",
    "print(sum(v)/len(v))"
   ]
  },
  {
   "cell_type": "code",
   "execution_count": 26,
   "id": "8647d367-7aa0-4beb-b7c3-fc6aba82680a",
   "metadata": {},
   "outputs": [
    {
     "name": "stdout",
     "output_type": "stream",
     "text": [
      "6\n"
     ]
    }
   ],
   "source": [
    "My_tuple=(10,20,30,40,50,40,67,40,35,40,23,40)\n",
    "print(My_tuple.index(67))"
   ]
  },
  {
   "cell_type": "code",
   "execution_count": 27,
   "id": "3fb68650-51c4-4369-a7f9-e81bd70ade41",
   "metadata": {},
   "outputs": [
    {
     "name": "stdout",
     "output_type": "stream",
     "text": [
      "You are not eligible\n"
     ]
    }
   ],
   "source": [
    "x=int(input('Enter Your Age'))\n",
    "if (x>=18):\n",
    "    print('You Are eligible For Voting')\n",
    "\n",
    "else:\n",
    "    print('You are not eligible')\n",
    "\n"
   ]
  },
  {
   "cell_type": "code",
   "execution_count": 28,
   "id": "5e11c907-bfd8-4bd3-b4be-d2be4fd64d5b",
   "metadata": {},
   "outputs": [
    {
     "name": "stdout",
     "output_type": "stream",
     "text": [
      "You Are eligible For Voting\n"
     ]
    }
   ],
   "source": [
    "if int(input('Enter Your Age'))>=18:\n",
    "    print('You Are eligible For Voting')\n",
    "\n",
    "else: print('You are not eligible')\n",
    "    \n"
   ]
  },
  {
   "cell_type": "code",
   "execution_count": 29,
   "id": "2c39660e-e062-49f0-99ee-1a79ce6d26ad",
   "metadata": {},
   "outputs": [
    {
     "name": "stdout",
     "output_type": "stream",
     "text": [
      "Positive\n"
     ]
    }
   ],
   "source": [
    "# Positve, Negative And Zero Tracker\n",
    "\n",
    "\n",
    "x=int(input('Enter Your Number'))\n",
    "if x>=0:\n",
    "    if x==0:\n",
    "        print('Zero')\n",
    "    else:\n",
    "        print('Positive')\n",
    "else:\n",
    "    print('Negative')\n",
    "        \n",
    "    \n"
   ]
  },
  {
   "cell_type": "markdown",
   "id": "c0a491ce-3e60-4ccb-ad6b-af1085d73b13",
   "metadata": {},
   "source": [
    "# 24 Sept 2024"
   ]
  },
  {
   "cell_type": "code",
   "execution_count": 30,
   "id": "8ae2e5a2-1429-4d78-b3de-4ce4e8e0b34c",
   "metadata": {},
   "outputs": [
    {
     "name": "stdout",
     "output_type": "stream",
     "text": [
      "aditya is not Palindrone\n"
     ]
    }
   ],
   "source": [
    "# Palindrone finder\n",
    "\n",
    "x=input('Enter a word')\n",
    "y=x.lower()\n",
    "if y==y[::-1]:\n",
    "    print(x,'is Palindrone')\n",
    "\n",
    "else:\n",
    "    print(x,'is not Palindrone')"
   ]
  },
  {
   "cell_type": "code",
   "execution_count": 31,
   "id": "84a49c74-71a3-4b87-b0af-b024da25f99c",
   "metadata": {},
   "outputs": [
    {
     "name": "stdout",
     "output_type": "stream",
     "text": [
      "Your Grade: B\n",
      "Your Class: Second\n"
     ]
    }
   ],
   "source": [
    "marks= float(input('Enter Your Marks'))\n",
    "if marks>100:\n",
    "    print('Wrong')\n",
    "\n",
    "elif marks>74:\n",
    "    print('Grade: A+')\n",
    "    print('Your Class: Distinction')\n",
    "\n",
    "elif (marks>59):\n",
    "    print('Your Grade: A')\n",
    "    print('Your Class: First')\n",
    "elif (marks>39):\n",
    "    print('Your Grade: B')\n",
    "    print('Your Class: Second')\n",
    "\n",
    "else:\n",
    "    print('You are fail')\n",
    "\n",
    "    "
   ]
  },
  {
   "cell_type": "code",
   "execution_count": 32,
   "id": "aa0caed1-2a82-4cfa-b6a7-4b76292d4086",
   "metadata": {},
   "outputs": [
    {
     "name": "stdout",
     "output_type": "stream",
     "text": [
      "Numbers are same\n"
     ]
    }
   ],
   "source": [
    "# 2 Value Comparision Calculator \n",
    "user1=int(input('Enter Value'))\n",
    "user2=int(input('Enter Value'))\n",
    "\n",
    "if (user1==user2):\n",
    "    print('Numbers are same')\n",
    "elif (user1>user2):\n",
    "    print(user1,'is max')\n",
    "\n",
    "elif (user1<user2):\n",
    "    print(user2,'is max')"
   ]
  },
  {
   "cell_type": "code",
   "execution_count": 33,
   "id": "f1b20113-7054-411c-a495-187ba9ad8fd1",
   "metadata": {},
   "outputs": [
    {
     "name": "stdout",
     "output_type": "stream",
     "text": [
      "Programming of Python\n",
      "Programming of Python\n",
      "Programming of Python\n",
      "Programming of Python\n",
      "Programming of Python\n",
      "Programming of Python\n",
      "Programming of Python\n",
      "Programming of Python\n",
      "Programming of Python\n",
      "Programming of Python\n",
      "Done\n"
     ]
    }
   ],
   "source": [
    "x=1\n",
    "while (x<11):\n",
    "    print('Programming of Python')\n",
    "    x=x+1\n",
    "\n",
    "print('Done')"
   ]
  },
  {
   "cell_type": "code",
   "execution_count": 34,
   "id": "5ddbf0c5-da8a-4a40-90f6-6ac8691a6751",
   "metadata": {},
   "outputs": [
    {
     "name": "stdout",
     "output_type": "stream",
     "text": [
      "10\n",
      "9\n",
      "8\n",
      "7\n",
      "6\n",
      "5\n",
      "4\n",
      "3\n",
      "2\n",
      "1\n",
      "Done\n"
     ]
    }
   ],
   "source": [
    "x=10\n",
    "while (x>0):\n",
    "    print(x)\n",
    "    x=x-1\n",
    "\n",
    "print('Done')"
   ]
  },
  {
   "cell_type": "code",
   "execution_count": 35,
   "id": "de6b2537-3d8e-45a8-8210-a81460bf0454",
   "metadata": {},
   "outputs": [
    {
     "name": "stdout",
     "output_type": "stream",
     "text": [
      "45 x 1 = 45\n",
      "45 x 2 = 90\n",
      "45 x 3 = 135\n",
      "45 x 4 = 180\n",
      "45 x 5 = 225\n",
      "45 x 6 = 270\n",
      "45 x 7 = 315\n",
      "45 x 8 = 360\n",
      "45 x 9 = 405\n",
      "45 x 10 = 450\n",
      "Done\n"
     ]
    }
   ],
   "source": [
    "i=int(input('Enter Value'))\n",
    "x=1\n",
    "while (x<11):\n",
    "    print(i,'x',x,'=',i*x)\n",
    "    x+=1\n",
    "\n",
    "print('Done')"
   ]
  },
  {
   "cell_type": "code",
   "execution_count": 36,
   "id": "600b3666-c7dd-4082-911f-4748d857bc03",
   "metadata": {},
   "outputs": [
    {
     "name": "stdout",
     "output_type": "stream",
     "text": [
      "The Factorial of 12 is 479001600\n"
     ]
    }
   ],
   "source": [
    "x=int(input('Enter Value'))\n",
    "total=x\n",
    "i=x-1\n",
    "while (i>0):\n",
    "    total=total*i\n",
    "    i=i-1\n",
    "print('The Factorial of',x,'is',total)"
   ]
  },
  {
   "cell_type": "markdown",
   "id": "25ee4f92-7013-49be-beae-eb62603e7886",
   "metadata": {},
   "source": [
    "# For Loop"
   ]
  },
  {
   "cell_type": "code",
   "execution_count": 37,
   "id": "201b5635-dbd2-4fcc-a8fd-e328c9d7125c",
   "metadata": {},
   "outputs": [
    {
     "name": "stdout",
     "output_type": "stream",
     "text": [
      "P\n",
      "y\n",
      "t\n",
      "h\n",
      "o\n",
      "n\n"
     ]
    }
   ],
   "source": [
    "for i in 'Python':\n",
    "    print(i)"
   ]
  },
  {
   "cell_type": "code",
   "execution_count": 38,
   "id": "14592aff-223d-4dcf-b0db-61ed458f444f",
   "metadata": {},
   "outputs": [
    {
     "name": "stdout",
     "output_type": "stream",
     "text": [
      "1\n",
      "2\n",
      "3\n",
      "4\n",
      "5\n",
      "6\n"
     ]
    }
   ],
   "source": [
    "L=[1,2,3,4,5,6]\n",
    "for i in L:\n",
    "    print(i)\n"
   ]
  },
  {
   "cell_type": "code",
   "execution_count": 39,
   "id": "25e6adb1-d976-4302-9555-8931d0d1587f",
   "metadata": {},
   "outputs": [
    {
     "name": "stdout",
     "output_type": "stream",
     "text": [
      "1\n",
      "2\n",
      "3\n",
      "4\n",
      "5\n",
      "6\n"
     ]
    }
   ],
   "source": [
    "T= (1,2,3,4,5,6)\n",
    "for i in T:\n",
    "    print(i)"
   ]
  },
  {
   "cell_type": "code",
   "execution_count": 40,
   "id": "4c1ec187-4904-40a7-beff-6153309c10f0",
   "metadata": {},
   "outputs": [
    {
     "name": "stdout",
     "output_type": "stream",
     "text": [
      "1\n",
      "2\n",
      "3\n",
      "4\n",
      "5\n",
      "6\n"
     ]
    }
   ],
   "source": [
    "T= {1,2,3,4,5,6}\n",
    "for i in T:\n",
    "    print(i)"
   ]
  },
  {
   "cell_type": "code",
   "execution_count": 41,
   "id": "73d80e04-36c6-4553-8257-cb5ff1e2ab1d",
   "metadata": {},
   "outputs": [
    {
     "name": "stdout",
     "output_type": "stream",
     "text": [
      "A\n",
      "B\n",
      "C\n",
      "D\n",
      "E\n",
      "F\n"
     ]
    }
   ],
   "source": [
    "T= {'A':1,'B':2,'C':3,'D':4,'E':5,'F':6}\n",
    "for i in T:\n",
    "    print(i)"
   ]
  },
  {
   "cell_type": "code",
   "execution_count": 42,
   "id": "5b6d23c8-533e-48ad-9110-316db4463373",
   "metadata": {},
   "outputs": [
    {
     "name": "stdout",
     "output_type": "stream",
     "text": [
      "1\n",
      "2\n",
      "3\n",
      "4\n",
      "5\n",
      "6\n"
     ]
    }
   ],
   "source": [
    "T= {'A':1,'B':2,'C':3,'D':4,'E':5,'F':6}\n",
    "for i in T.values():\n",
    "    print(i)"
   ]
  },
  {
   "cell_type": "code",
   "execution_count": 43,
   "id": "b22e7f0c-b2ac-460c-9a8a-c1718a0db654",
   "metadata": {},
   "outputs": [
    {
     "name": "stdout",
     "output_type": "stream",
     "text": [
      "ABP is on channel number 15\n",
      "NDTV is on channel number 25\n",
      "CTV is on channel number 43\n",
      "DD is on channel number 45\n"
     ]
    }
   ],
   "source": [
    "T= {'ABP':15,'NDTV':25,'CTV':43,'DD':45,}\n",
    "for i in T:\n",
    "    print(f'{i} is on channel number {T[i]}')"
   ]
  },
  {
   "cell_type": "code",
   "execution_count": 44,
   "id": "550c847a-57e5-4ac8-8211-4d65098c8171",
   "metadata": {},
   "outputs": [
    {
     "name": "stdout",
     "output_type": "stream",
     "text": [
      "P\n",
      "y\n",
      "t\n",
      "h\n",
      "o\n",
      "n\n"
     ]
    }
   ],
   "source": [
    "for i in 'Python':\n",
    "    print(i)"
   ]
  },
  {
   "cell_type": "code",
   "execution_count": 45,
   "id": "2a1ac730-2d65-466a-a23c-a4cba94e0652",
   "metadata": {},
   "outputs": [
    {
     "name": "stdout",
     "output_type": "stream",
     "text": [
      "P\n",
      "y\n",
      "done\n"
     ]
    }
   ],
   "source": [
    "for i in 'Python':\n",
    "    print(i)\n",
    "    if i=='y':\n",
    "        break\n",
    "\n",
    "print('done')"
   ]
  },
  {
   "cell_type": "code",
   "execution_count": 46,
   "id": "189a91fe-818e-41c9-8c40-52d9e0eedb8a",
   "metadata": {},
   "outputs": [
    {
     "name": "stdout",
     "output_type": "stream",
     "text": [
      "P\n",
      "t\n",
      "h\n",
      "o\n",
      "n\n",
      "Done\n"
     ]
    }
   ],
   "source": [
    "for i in 'Python':\n",
    "    if i=='y':\n",
    "        continue\n",
    "    print(i)\n",
    "\n",
    "print('Done')"
   ]
  },
  {
   "cell_type": "code",
   "execution_count": 48,
   "id": "c7987f16-e8f6-404c-ad13-40ecfe34a7fe",
   "metadata": {},
   "outputs": [
    {
     "name": "stdout",
     "output_type": "stream",
     "text": [
      "User score: 1\n"
     ]
    }
   ],
   "source": [
    "user_score=0\n",
    "simon_pattern=input()\n",
    "user_pattern=input()\n",
    "\n",
    "for i in range(10):\n",
    "    if simon_pattern[i]==user_pattern[i]:\n",
    "        user_score+=1\n",
    "    else:\n",
    "        break\n",
    "\n",
    "print('User score:', user_score)"
   ]
  },
  {
   "cell_type": "code",
   "execution_count": 33,
   "id": "8519b2e6-6236-4cc7-b8a2-b91b09ad1894",
   "metadata": {},
   "outputs": [
    {
     "name": "stdout",
     "output_type": "stream",
     "text": [
      " 9588011254\n",
      " 9588111254\n"
     ]
    },
    {
     "name": "stdout",
     "output_type": "stream",
     "text": [
      "User score: 9\n"
     ]
    }
   ],
   "source": [
    "user_score=0\n",
    "simon_pattern=input()\n",
    "user_pattern=input()\n",
    "\n",
    "for i in range(10):\n",
    "    if simon_pattern[i]==user_pattern[i]:\n",
    "        user_score+=1\n",
    "    else:\n",
    "        continue\n",
    "\n",
    "print('User score:', user_score)"
   ]
  },
  {
   "cell_type": "code",
   "execution_count": 47,
   "id": "50cefdd6-ab2a-47f8-ad15-55a3ac496991",
   "metadata": {},
   "outputs": [
    {
     "name": "stdout",
     "output_type": "stream",
     "text": [
      "enter any string aditya bhati\n"
     ]
    },
    {
     "name": "stdout",
     "output_type": "stream",
     "text": [
      "Letter: d\n",
      "Letter: t\n",
      "Letter: y\n",
      "Letter: b\n",
      "Letter: h\n",
      "Letter: t\n"
     ]
    }
   ],
   "source": [
    "vowels='aeiouAEIOU'\n",
    "userinput=input('enter any string')\n",
    "for i in userinput.strip():\n",
    "    if i in vowels or i==' ':\n",
    "        continue\n",
    "    print('Letter:',i)"
   ]
  },
  {
   "cell_type": "code",
   "execution_count": 53,
   "id": "ee728d8b-bfd6-4751-8c37-8783e102d7da",
   "metadata": {},
   "outputs": [
    {
     "name": "stdout",
     "output_type": "stream",
     "text": [
      "Enter Value abcdefghijklmnopqrstuvwxya\n"
     ]
    },
    {
     "name": "stdout",
     "output_type": "stream",
     "text": [
      "its not Pangram\n"
     ]
    }
   ],
   "source": [
    "alphabets='abcdefghijklmnopqrstuvwxyz'\n",
    "user1=input('Enter Value')\n",
    "v=user1.lower()\n",
    "k=0\n",
    "for i in alphabets:\n",
    "    if i in v:\n",
    "        pass # we can use continue \n",
    "    else:\n",
    "        k=k+1\n",
    "\n",
    "if(k==0):\n",
    "    print('its Pangram')\n",
    "\n",
    "else:\n",
    "    print('its not Pangram')"
   ]
  },
  {
   "cell_type": "code",
   "execution_count": 5,
   "id": "5a517eb0-3e6b-46dd-b8cf-97080faa2145",
   "metadata": {},
   "outputs": [
    {
     "name": "stdout",
     "output_type": "stream",
     "text": [
      "Enter Value 123\n"
     ]
    },
    {
     "name": "stdout",
     "output_type": "stream",
     "text": [
      "The sum is 6\n"
     ]
    }
   ],
   "source": [
    "num=int(input('Enter Value'))\n",
    "sum=0\n",
    "while (num>0):\n",
    "    a=num%10\n",
    "    sum=sum+a\n",
    "    num=num//10\n",
    "\n",
    "print('The sum is', sum)"
   ]
  },
  {
   "cell_type": "code",
   "execution_count": 21,
   "id": "036a33df-9bd5-440d-ba44-fb850e1457f4",
   "metadata": {},
   "outputs": [
    {
     "name": "stdout",
     "output_type": "stream",
     "text": [
      "Enter Value 45425\n"
     ]
    },
    {
     "name": "stdout",
     "output_type": "stream",
     "text": [
      "5\n"
     ]
    }
   ],
   "source": [
    "num=input('Enter Value')\n",
    "y=len(num)\n",
    "print(y)"
   ]
  },
  {
   "cell_type": "code",
   "execution_count": null,
   "id": "bb5faae6-ac7b-4c39-8a65-6699425b75f4",
   "metadata": {},
   "outputs": [],
   "source": [
    "x=input('Enter String')\n",
    "y=0\n",
    "for i in x:\n",
    "    if x.count()"
   ]
  },
  {
   "cell_type": "code",
   "execution_count": 41,
   "id": "18e6d4c6-dd4f-4032-b359-2c3546688714",
   "metadata": {},
   "outputs": [
    {
     "name": "stdout",
     "output_type": "stream",
     "text": [
      "Enter string Python is good\n"
     ]
    },
    {
     "name": "stdout",
     "output_type": "stream",
     "text": [
      "Number of words: 3\n",
      "Number of characters: 12\n"
     ]
    }
   ],
   "source": [
    "var1=input('Enter string') #input: Lovesh is innocent\n",
    "L=var1.split()\n",
    "N=len(L)\n",
    "n=0\n",
    "for i in L:\n",
    "    n=n+len(i)\n",
    "\n",
    "print('Number of words:', N)\n",
    "print('Number of characters:',n)"
   ]
  },
  {
   "cell_type": "code",
   "execution_count": 75,
   "id": "86b6335c-a91f-4bf4-af75-e3b019880c91",
   "metadata": {},
   "outputs": [
    {
     "name": "stdout",
     "output_type": "stream",
     "text": [
      "Enter string aditya bhati\n"
     ]
    },
    {
     "name": "stdout",
     "output_type": "stream",
     "text": [
      "['aditya', 'bhati']\n"
     ]
    }
   ],
   "source": [
    "var1=input('Enter string')\n",
    "l=var1.split()\n",
    "print(l)"
   ]
  },
  {
   "cell_type": "code",
   "execution_count": 83,
   "id": "dd4f5a55-eb90-41b5-9ffd-49f2b75ef455",
   "metadata": {},
   "outputs": [
    {
     "name": "stdout",
     "output_type": "stream",
     "text": [
      "['Lovesh', 'is', 'innocent', 'gdhgh']\n"
     ]
    }
   ],
   "source": [
    "x=' Lovesh is innocent gdhgh'\n",
    "y=x.split()\n",
    "print(y)"
   ]
  },
  {
   "cell_type": "code",
   "execution_count": 81,
   "id": "0b184fdf-6657-470e-b6be-de80a37e78a9",
   "metadata": {},
   "outputs": [],
   "source": [
    "x='Aditya Bhati Bhati'\n",
    "y=x.split()\n",
    "y={}"
   ]
  },
  {
   "cell_type": "code",
   "execution_count": 71,
   "id": "0b2a76dd-c060-4e4f-a4b3-24cb6f13e596",
   "metadata": {},
   "outputs": [
    {
     "name": "stdout",
     "output_type": "stream",
     "text": [
      "{'Lovesh is is great great and great person'}\n"
     ]
    }
   ],
   "source": [
    "x='Lovesh is is great great and great person'\n",
    "y={x\n",
    "print(y)\n"
   ]
  },
  {
   "cell_type": "code",
   "execution_count": 3,
   "id": "dddc3b82-d29e-420c-8a32-58dcb475d366",
   "metadata": {},
   "outputs": [
    {
     "name": "stdout",
     "output_type": "stream",
     "text": [
      "Enter year:  5\n"
     ]
    },
    {
     "name": "stdout",
     "output_type": "stream",
     "text": [
      "\n",
      "Saving in year 0: $10000.00\n",
      "Saving in year 1: $10500.00\n",
      "Saving in year 2: $11025.00\n",
      "Saving in year 3: $11576.25\n",
      "Saving in year 4: $12155.06\n",
      "Saving in year 5: $12762.82\n",
      "\n",
      "\n"
     ]
    }
   ],
   "source": [
    "\n",
    "initial_savings=10000\n",
    "interest_rate=0.05\n",
    "\n",
    "years= int(input('Enter year: '))\n",
    "print()\n",
    "savings=initial_savings\n",
    "for i in range(years+1):\n",
    "    print(f'Saving in year {i}: ${savings:.2f}')\n",
    "    savings=savings+(savings*interest_rate)\n",
    "\n",
    "print('\\n')"
   ]
  },
  {
   "cell_type": "code",
   "execution_count": 17,
   "id": "ae16f4e9-283d-4571-9dbb-828521b60efe",
   "metadata": {},
   "outputs": [
    {
     "name": "stdout",
     "output_type": "stream",
     "text": [
      "Enter year:  5\n"
     ]
    },
    {
     "name": "stdout",
     "output_type": "stream",
     "text": [
      "\n",
      "Saving in year 0: $10000.00\n",
      "Saving in year 3: $11576.25\n",
      "\n",
      "\n"
     ]
    }
   ],
   "source": [
    "\n",
    "initial_savings=10000\n",
    "interest_rate=0.05\n",
    "\n",
    "years= int(input('Enter year: '))\n",
    "print()\n",
    "savings=initial_savings\n",
    "for i in range(0,years+1):\n",
    "    if i%3==0:\n",
    "        print(f'Saving in year {i}: ${savings:.2f}')\n",
    "    savings=savings+(savings*interest_rate)\n",
    "\n",
    "print('\\n')"
   ]
  },
  {
   "cell_type": "code",
   "execution_count": 47,
   "id": "0fa6ccf6-ac3a-4b31-b0bc-5e6241fcab63",
   "metadata": {},
   "outputs": [
    {
     "name": "stdout",
     "output_type": "stream",
     "text": [
      "Enter Value 5\n"
     ]
    },
    {
     "name": "stdout",
     "output_type": "stream",
     "text": [
      "Its prime\n"
     ]
    }
   ],
   "source": [
    "x1=int(input('Enter Value'))\n",
    "count=0\n",
    "for i in range(1,x1+1):   # range take only 1,2,3,4,5,6,7 if input is 7\n",
    "    if (x1%i==0):\n",
    "        count=count+1\n",
    "\n",
    "if count==2:\n",
    "    print('Its prime')\n",
    "\n",
    "else:\n",
    "    print('its not prime')"
   ]
  },
  {
   "cell_type": "code",
   "execution_count": 63,
   "id": "f26a1f10-3dff-4cce-8169-2e3be891f076",
   "metadata": {},
   "outputs": [
    {
     "name": "stdout",
     "output_type": "stream",
     "text": [
      "Enter Value 5\n"
     ]
    },
    {
     "ename": "TypeError",
     "evalue": "can't multiply sequence by non-int of type 'str'",
     "output_type": "error",
     "traceback": [
      "\u001b[1;31m---------------------------------------------------------------------------\u001b[0m",
      "\u001b[1;31mTypeError\u001b[0m                                 Traceback (most recent call last)",
      "Cell \u001b[1;32mIn[63], line 3\u001b[0m\n\u001b[0;32m      1\u001b[0m x1\u001b[38;5;241m=\u001b[39m\u001b[38;5;28mint\u001b[39m(\u001b[38;5;28minput\u001b[39m(\u001b[38;5;124m'\u001b[39m\u001b[38;5;124mEnter Value\u001b[39m\u001b[38;5;124m'\u001b[39m))\n\u001b[0;32m      2\u001b[0m \u001b[38;5;28;01mfor\u001b[39;00m i \u001b[38;5;129;01min\u001b[39;00m \u001b[38;5;28mrange\u001b[39m(\u001b[38;5;241m1\u001b[39m,x1\u001b[38;5;241m+\u001b[39m\u001b[38;5;241m1\u001b[39m):\n\u001b[1;32m----> 3\u001b[0m     i\u001b[38;5;241m=\u001b[39m\u001b[38;5;124m'\u001b[39m\u001b[38;5;124m'\u001b[39m\u001b[38;5;241m*\u001b[39m\u001b[38;5;124m'\u001b[39m\u001b[38;5;124m'\u001b[39m\n\u001b[0;32m      4\u001b[0m     i\u001b[38;5;241m+\u001b[39m\u001b[38;5;241m=\u001b[39mi\n\u001b[0;32m      5\u001b[0m     \u001b[38;5;28mprint\u001b[39m(\u001b[38;5;124m'\u001b[39m\u001b[38;5;124mi\u001b[39m\u001b[38;5;130;01m\\n\u001b[39;00m\u001b[38;5;124m'\u001b[39m)\n",
      "\u001b[1;31mTypeError\u001b[0m: can't multiply sequence by non-int of type 'str'"
     ]
    }
   ],
   "source": [
    "x1=int(input('Enter Value'))\n",
    "for i in range(1,x1+1):\n",
    "    i=''*''\n",
    "    i+=i\n",
    "    print('i\\n')\n",
    "    "
   ]
  },
  {
   "cell_type": "code",
   "execution_count": 1,
   "id": "5cc832c9-bf5b-40d1-a306-50de5bcaafb1",
   "metadata": {},
   "outputs": [
    {
     "name": "stdout",
     "output_type": "stream",
     "text": [
      "Outer for loop itertion no 1\n",
      "J: 1\n",
      "J: 2\n",
      "J: 3\n",
      "Outer for loop itertion no 2\n",
      "J: 1\n",
      "J: 2\n",
      "J: 3\n"
     ]
    }
   ],
   "source": [
    "for i in range(1,3):\n",
    "    print('Outer for loop itertion no',i)\n",
    "    for j in range (1,4):\n",
    "        print('J:',j)\n",
    "        "
   ]
  },
  {
   "cell_type": "code",
   "execution_count": null,
   "id": "b8a4e840-11ec-41f7-96e9-0103330b49a7",
   "metadata": {},
   "outputs": [],
   "source": [
    "rows=int(input('Row:'))\n",
    "i=1\n",
    "while (i<=rows):\n",
    "    j=1\n",
    "    while (j<=i):\n",
    "        print(j, end=' ')\n",
    "        j"
   ]
  },
  {
   "cell_type": "code",
   "execution_count": 9,
   "id": "d56147ff-5bac-4093-ae18-a2f1687b37b8",
   "metadata": {},
   "outputs": [
    {
     "data": {
      "text/plain": [
       "'a'"
      ]
     },
     "execution_count": 9,
     "metadata": {},
     "output_type": "execute_result"
    }
   ],
   "source": [
    "ord('A')\n",
    "chr(97)\n",
    "\n",
    "chr(ord('a'))"
   ]
  },
  {
   "cell_type": "code",
   "execution_count": 5,
   "id": "02497a66-2903-4fcc-8946-e22704adb36d",
   "metadata": {},
   "outputs": [
    {
     "data": {
      "text/plain": [
       "\"\\nletter1='a'\\nletter='?'\\nwhile letter1 <= 'z':\\n    letter2='a'\\n    while letter2<='z':\\n        print(f'{letter1}{letter}.com')\\n        letter2=chr(ord(letter2)+1)\\n\\n    letter1=chr(ord(letter1)+1)\\n\\n\""
      ]
     },
     "execution_count": 5,
     "metadata": {},
     "output_type": "execute_result"
    }
   ],
   "source": [
    "'''\n",
    "letter1='a'\n",
    "letter='?'\n",
    "while letter1 <= 'z':\n",
    "    letter2='a'\n",
    "    while letter2<='z':\n",
    "        print(f'{letter1}{letter}.com')\n",
    "        letter2=chr(ord(letter2)+1)\n",
    "\n",
    "    letter1=chr(ord(letter1)+1)\n",
    "\n",
    "'''"
   ]
  },
  {
   "cell_type": "code",
   "execution_count": 70,
   "id": "b2ee3f66-250c-4021-844d-7d3f8f62dd6d",
   "metadata": {},
   "outputs": [
    {
     "name": "stdout",
     "output_type": "stream",
     "text": [
      "5\n",
      "5 10 15 20 25 30 35 40 45 50 6\n",
      "6 12 18 24 30 36 42 48 54 60 7\n",
      "7 14 21 28 35 42 49 56 63 70 8\n",
      "8 16 24 32 40 48 56 64 72 80 9\n",
      "9 18 27 36 45 54 63 72 81 90 "
     ]
    }
   ],
   "source": [
    "for i in range(5,10):\n",
    "    print(i)\n",
    "    for j in range(1,11):\n",
    "        print(i*j, end=' ')\n"
   ]
  },
  {
   "cell_type": "code",
   "execution_count": 74,
   "id": "ad956252-0bc7-4666-bd28-f7f5df6a8520",
   "metadata": {},
   "outputs": [
    {
     "data": {
      "text/plain": [
       "['Aditya', 'aditya', 'bhati', 'Mukesh', 'mukesh']"
      ]
     },
     "execution_count": 74,
     "metadata": {},
     "output_type": "execute_result"
    }
   ],
   "source": [
    "xx=['Aditya','aditya','Mukesh','mukesh','bhati']\n",
    "sorted(xx,key=str.upper)"
   ]
  },
  {
   "cell_type": "code",
   "execution_count": 76,
   "id": "14133408-6267-4ee4-a926-d691a6d8ff9d",
   "metadata": {},
   "outputs": [
    {
     "data": {
      "text/plain": [
       "['Aditya', 'aditya', 'bhati', 'Mukesh', 'mukesh']"
      ]
     },
     "execution_count": 76,
     "metadata": {},
     "output_type": "execute_result"
    }
   ],
   "source": [
    "xx=['Aditya','aditya','Mukesh','mukesh','bhati']\n",
    "sorted(xx,key=str.lower)"
   ]
  },
  {
   "cell_type": "code",
   "execution_count": 80,
   "id": "ae33be6f-ec5b-4c7b-ae1d-aba4740bcbdf",
   "metadata": {},
   "outputs": [
    {
     "data": {
      "text/plain": [
       "[[10, 15], [25], [10, 25, 35]]"
      ]
     },
     "execution_count": 80,
     "metadata": {},
     "output_type": "execute_result"
    }
   ],
   "source": [
    "x=[[25],[10,15],[10,25,35]]\n",
    "sorted(x,key=max)"
   ]
  },
  {
   "cell_type": "code",
   "execution_count": 82,
   "id": "669526c3-0386-4ddf-aaf1-b56daf76545c",
   "metadata": {},
   "outputs": [
    {
     "data": {
      "text/plain": [
       "[[10, 15], [10, 25, 35], [25]]"
      ]
     },
     "execution_count": 82,
     "metadata": {},
     "output_type": "execute_result"
    }
   ],
   "source": [
    "x=[[25],[10,15],[10,25,35]]\n",
    "sorted(x,key=min)"
   ]
  },
  {
   "cell_type": "code",
   "execution_count": 102,
   "id": "b7494deb-e450-46fd-af3d-2fcb85332ff1",
   "metadata": {},
   "outputs": [
    {
     "name": "stdout",
     "output_type": "stream",
     "text": [
      "enter 1st adit\n",
      "enter 2nd tida\n"
     ]
    },
    {
     "name": "stdout",
     "output_type": "stream",
     "text": [
      "Anagram\n"
     ]
    }
   ],
   "source": [
    "x=input('enter 1st')\n",
    "y=input('enter 2nd')\n",
    "x1= sorted(x,key=str.lower)\n",
    "y1= sorted(y,key=str.lower)\n",
    "\n",
    "if (x1==y1):\n",
    "    print('Anagram')\n",
    "\n",
    "else:\n",
    "    print('Not Anagram')"
   ]
  },
  {
   "cell_type": "code",
   "execution_count": 19,
   "id": "bd8a1acd-7e9f-4903-bc17-7296a71913ca",
   "metadata": {},
   "outputs": [
    {
     "name": "stdout",
     "output_type": "stream",
     "text": [
      "Enter comma separated number: 42,43,45,44\n"
     ]
    },
    {
     "name": "stdout",
     "output_type": "stream",
     "text": [
      "[42, 44]\n"
     ]
    }
   ],
   "source": [
    "x=input('Enter comma separated number:')\n",
    "xx=[int(i) for i in x.split(',')]\n",
    "even=[i for i in xx if (i%2)==0]\n",
    "print(even)"
   ]
  },
  {
   "cell_type": "code",
   "execution_count": null,
   "id": "9b40067e-b20e-468a-8cef-0941de7f5b51",
   "metadata": {},
   "outputs": [],
   "source": []
  }
 ],
 "metadata": {
  "kernelspec": {
   "display_name": "Python 3",
   "language": "python",
   "name": "python3"
  },
  "language_info": {
   "codemirror_mode": {
    "name": "ipython",
    "version": 3
   },
   "file_extension": ".py",
   "mimetype": "text/x-python",
   "name": "python",
   "nbconvert_exporter": "python",
   "pygments_lexer": "ipython3",
   "version": "3.11.9"
  }
 },
 "nbformat": 4,
 "nbformat_minor": 5
}
