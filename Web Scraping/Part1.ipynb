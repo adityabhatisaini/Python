{
 "cells": [
  {
   "cell_type": "code",
   "execution_count": 114,
   "metadata": {},
   "outputs": [],
   "source": [
    "import urllib3\n",
    "http = urllib3.PoolManager()\n",
    "response = http.request('GET', 'http://www.adityabhati.online')"
   ]
  },
  {
   "cell_type": "code",
   "execution_count": 115,
   "metadata": {},
   "outputs": [
    {
     "name": "stdout",
     "output_type": "stream",
     "text": [
      "200\n"
     ]
    }
   ],
   "source": [
    "print(response.status)"
   ]
  },
  {
   "cell_type": "code",
   "execution_count": 116,
   "metadata": {},
   "outputs": [
    {
     "name": "stdout",
     "output_type": "stream",
     "text": [
      "b'<!DOCTYPE html>\\r\\n<html lang=\"en\">\\r\\n<head>\\r\\n    <script type=\"application/ld+json\">\\r\\n    {\\r\\n      \"@context\": \"https://schema.org\",\\r\\n      \"@type\": \"Organization\",\\r\\n      \"url\": \"https://adityabhati.online\",\\r\\n      \"logo\": \"favicon.ico\"\\r\\n    }\\r\\n    </script>\\r\\n\\r\\n    <link rel=\"icon\" href=\"favicon.ico\" type=\"image/x-icon\">\\r\\n    <meta charset=\"UTF-8\">\\r\\n    <meta name=\"viewport\" content=\"width=device-width, initial-scale=1.0\">\\r\\n    <title>Aditya Bhati</title>\\r\\n    <link rel=\"stylesheet\" href=\"style.css\">\\r\\n    <link href=\\'https://unpkg.com/boxicons@2.1.4/css/boxicons.min.css\\' rel=\\'stylesheet\\'>\\r\\n</head>\\r\\n<body>\\r\\n    <header class=\"header\">\\r\\n        <a href=\"#home\" class=\"logo\">Aditya<span> Bhati</span></a>\\r\\n        <i class=\\'bx bx-menu\\' id=\"menu-icon\"></i>\\r\\n        <nav class=\"navbar\">\\r\\n            <a href=\"#home\" class=\"active\">Home</a>\\r\\n            <a href=\"#education\">Education</a>\\r\\n            <!--<a href=\"#experience\">Experience</a>-->\\r\\n            <a href=\"#skills\">Skills</a>\\r\\n            <a href=\"#contact\">Contact</a>\\r\\n        </nav>\\r\\n    </header>\\r\\n\\r\\n    <!-- Home Section -->\\r\\n    <section class=\"home\" id=\"home\">\\r\\n        <div class=\"home-content\">\\r\\n            <h1>Hi, It\\'s <span>Aditya</span></h1>\\r\\n            <h3 class=\"text-animation\">I\\'m a <span></span></h3>\\r\\n            <p>A versatile professional skilled in data analysis, data science, Google Play Console management, and app listing.</p>\\r\\n\\r\\n            <div class=\"social-icons\">\\r\\n                <a href=\"https://www.linkedin.com/in/aditya-bhati-6a3513277/\"><i class=\\'bx bxl-linkedin\\'></i></a>\\r\\n                <a href=\"https://github.com/adityabhatisaini\"><i class=\\'bx bxl-github\\'></i></a>\\r\\n                <a href=\"https://www.instagram.com/invites/contact/?igsh=jcf6ug61n2ue&utm_content=n1755qt\"><i class=\\'bx bxl-instagram-alt\\'></i></a>\\r\\n            </div>\\r\\n\\r\\n            <div class=\"btn-group\">\\r\\n                <a href=\"https://raw.githubusercontent.com/adityabhatisaini/adityabhatisaini/f1a3f8c9b09dd4af7cbd78fcada7410ac863e94d/Aditya_Bhati_Resume.pdf\\r\\n\" class=\"btn\">Resume</a>\\r\\n                <a href=\"#contact\" class=\"btn\">Contact</a>\\r\\n            </div>\\r\\n        </div>\\r\\n        <div class=\"home-img\">\\r\\n            <img src=\"IMG-20240929-WA0009.jpg\" alt=\"Aditya Bhati\">\\r\\n        </div>\\r\\n    </section>\\r\\n\\r\\n<!-- Skills Section -->\\r\\n<section class=\"skills\" id=\"skills\">\\r\\n    <h2 class=\"heading\">Well Skills</h2>\\r\\n    <div class=\"skills-container\">\\r\\n        <div class=\"skills-box\"><h3>Wix Web Development</h3></div>\\r\\n        <div class=\"skills-box\"><h3>App Sheet Development</h3></div>\\r\\n        <div class=\"skills-box\"><h3>Google Play Console</h3></div>\\r\\n        <div class=\"skills-box\"><h3></h3>Microsoft SQL Server</h3></div>\\r\\n        <div class=\"skills-box\"><h3>Microsoft Office 365</h3></div>\\r\\n        <div class=\"skills-box\"><h3>Python</h3></div>\\r\\n        <div class=\"skills-box\"><h3>App Growth Marketing</h3></div>\\r\\n        <div class=\"skills-box\"><h3>Microsoft Power BI</h3></div>\\r\\n        <div class=\"skills-box\"><h3>Business Analysis</h3></div>\\r\\n        <div class=\"skills-box\"><h3>Power Query</h3></div>\\r\\n        <div class=\"skills-box\"><h3>Advanced Live Streaming(Multi-Screen)</h3></div>\\r\\n        <div class=\"skills-box\"><h3>Apache Hadoop</h3></div>\\r\\n        <div class=\"skills-box\"><h3>Online Advertisement</h3></div>\\r\\n        <div class=\"skills-box\"><h3>Google Ads,AdMob,Adsense</h3></div>\\r\\n        <div class=\"skills-box\"><h3>Cloud Computing</h3></div>\\r\\n        <div class=\"skills-box\"><h3>GitHub(Enterprise)</h3></div>\\r\\n        <div class=\"skills-box\"><h3>Business Intelligence (BI)</h3></div>\\r\\n        <div class=\"skills-box\"><h3>VS Code(Git to GitHub)</h3></div>\\r\\n        <div class=\"skills-box\"><h3>Wordpress Web Development</h3></div>\\r\\n    </div>\\r\\n</section>\\r\\n\\r\\n<style>\\r\\n    /* Skills Section Styling */\\r\\n    .skills-container {\\r\\n        display: grid;\\r\\n        grid-template-columns: repeat(2, 1fr); /* 2x2 Grid */\\r\\n        gap: 20px;\\r\\n        padding: 20px;\\r\\n    }\\r\\n\\r\\n    .skills-box {\\r\\n        text-align: center;\\r\\n        font-size: 18px;\\r\\n        color: #000; /* Text color */\\r\\n        background-color: #00F6FF; /* Neon blue background */\\r\\n        padding: 15px;\\r\\n        border-radius: 50px; /* Rounded corners */\\r\\n        border: 2px solid #00F6FF; /* Solid neon border without blur */\\r\\n        font-weight: bold;\\r\\n        transition: transform 0.3s ease, box-shadow 0.3s ease;\\r\\n        cursor: pointer;\\r\\n    }\\r\\n\\r\\n    .skills-box:hover {\\r\\n        transform: scale(1.05);\\r\\n        box-shadow: 0 0 0 #00F6FF; /* No blur effect on hover */\\r\\n    }\\r\\n\\r\\n    .skills-box h3 {\\r\\n        margin: 0;\\r\\n    }\\r\\n\\r\\n    .heading {\\r\\n        font-size: 59px;\\r\\n        text-align: center;\\r\\n        font-weight: bold;\\r\\n        margin-bottom: 20px;\\r\\n    }\\r\\n\\r\\n    /* For smaller screens (Mobile) */\\r\\n    @media (max-width: 768px) {\\r\\n        .skills-container {\\r\\n            grid-template-columns: 1fr; /* Stack items vertically */\\r\\n            gap: 15px;\\r\\n        }\\r\\n    }\\r\\n\\r\\n    @media (max-width: 480px) {\\r\\n        .skills-box {\\r\\n            padding: 12px;\\r\\n            font-size: 16px;\\r\\n        }\\r\\n    }\\r\\n</style>\\r\\n\\r\\n\\r\\n    <!-- Education Section -->\\r\\n    <section class=\"education\" id=\"education\">\\r\\n        <h2 class=\"heading\">Education</h2>\\r\\n        <div class=\"timeline-items\">\\r\\n            <div class=\"timeline-item\">\\r\\n                <div class=\"timeline-dot\"></div>\\r\\n                <div class=\"timeline-date\">2019</div>\\r\\n                <div class=\"timeline-content\">\\r\\n                    <h3>High School</h3>\\r\\n                    <p>Completed high school with a strong foundation in science and mathematics, actively participating in various academic and extracurricular activities.</p>\\r\\n                </div>\\r\\n            </div>\\r\\n            <div class=\"timeline-item\">\\r\\n                <div class=\"timeline-dot\"></div>\\r\\n                <div class=\"timeline-date\">2021</div>\\r\\n                <div class=\"timeline-content\">\\r\\n                    <h3>Intermediate</h3>\\r\\n                    <p>Successfully completed intermediate education with Physics, Chemistry, and Mathematics.</p>\\r\\n                </div>\\r\\n            </div>\\r\\n            <div class=\"timeline-item\">\\r\\n                <div class=\"timeline-dot\"></div>\\r\\n                <div class=\"timeline-date\">2024</div>\\r\\n                <div class=\"timeline-content\">\\r\\n                    <h3>Graduation</h3>\\r\\n                    <p>Graduated with a B.Sc. in Statistics! \\xf0\\x9f\\x8e\\x93 Proud of this milestone and ready for the next adventure! \\xf0\\x9f\\x92\\xaa\\xe2\\x9c\\xa8</p>\\r\\n                </div>\\r\\n            </div>\\r\\n            <div class=\"timeline-item\">\\r\\n                <div class=\"timeline-dot\"></div>\\r\\n                <div class=\"timeline-date\">2024 To 2026</div>\\r\\n                <div class=\"timeline-content\">\\r\\n                    <h3>Postgraduation</h3>\\r\\n                    <p>Currently pursuing a PGDM in Big Data Analytics at AIDTM. Developing expertise in analyzing large datasets and deriving actionable insights for business growth.</p>\\r\\n                </div>\\r\\n            </div>\\r\\n        </div>\\r\\n    </section>\\r\\n</body>\\r\\n</html>\\r\\n\\r\\n    </section>\\r\\n\\r\\n    <section class=\"services\" id=\"services\">\\r\\n        <h2 class=\"heading\">I Can Do</h2>\\r\\n        <div class=\"services-container\">\\r\\n            <div class=\"services-box\">\\r\\n                <div class=\"services-info\">\\r\\n                    <h4>Data Analysis</h4>\\r\\n                    <p>Providing comprehensive data analysis services, including data cleaning, data visualization, and interpretation. We help you make data-driven decisions by uncovering patterns, trends, and insights that are crucial for your business growth.</p>\\r\\n                </div>\\r\\n            </div>\\r\\n            <div class=\"services-box\">\\r\\n                <div class=\"services-info\">\\r\\n                    <h4>Web Development</h4>\\r\\n                    <p>Designing responsive and user-friendly websites with the latest technologies on Wix and WordPress. We create visually stunning, high-performing, and SEO-optimized sites.</p>\\r\\n                </div>\\r\\n            </div>\\r\\n            <div class=\"services-box\">\\r\\n                <div class=\"services-info\">\\r\\n                    <h4>Apps Hosting</h4>\\r\\n                    <p>Specializing in hosting and managing apps on the Google Play Store and Indus App Store, ensuring they are properly published and maintained for maximum visibility.</p>\\r\\n                </div>\\r\\n            </div>\\r\\n            <div class=\"services-box\">\\r\\n                <div class=\"services-info\">\\r\\n                    <h4>Testing</h4>\\r\\n                    <p>Providing comprehensive app testing support on Google Play Console to ensure your app undergoes rigorous evaluation before its public release.</p>\\r\\n                </div>\\r\\n            </div>\\r\\n            <div class=\"services-box\">\\r\\n                <div class=\"services-info\">\\r\\n                    <h4>Artificial Intelligence</h4>\\r\\n                    <p>Implementing AI solutions to automate processes, enhance decision-making, and deliver personalized experiences.</p>\\r\\n                </div>\\r\\n            </div>\\r\\n        </div>\\r\\n    </section>\\r\\n\\r\\n    <section class=\"contact\" id=\"contact\">\\r\\n        <h2 class=\"heading\">Contact <span>Me</span></h2>\\r\\n        <form action=\"https://api.web3forms.com/submit\" method=\"POST\">\\r\\n            <input type=\"hidden\" name=\"access_key\" value=\"13668d68-5cc9-4495-aff6-fd7b95d0f12f\">\\r\\n            <div class=\"input-group\">\\r\\n                <div class=\"input-box\">\\r\\n                    <input type=\"text\" name=\"name\" placeholder=\"Full Name\" required>\\r\\n                    <input type=\"email\" name=\"email\" placeholder=\"Email\" required>\\r\\n                </div>\\r\\n                <div class=\"input-box\">\\r\\n                    <input type=\"tel\" name=\"phone_number\" placeholder=\"Phone Number\" required>\\r\\n                    <input type=\"text\" name=\"subject\" placeholder=\"Subject\" required>\\r\\n                </div>\\r\\n            </div>\\r\\n            <div class=\"input-group-2\">\\r\\n                <textarea name=\"message\" cols=\"30\" rows=\"10\" placeholder=\"Your Message\" required></textarea>\\r\\n                <input type=\"submit\" value=\"Send Message\" class=\"btn\">\\r\\n            </div>\\r\\n        </form>\\r\\n    </section>\\r\\n\\r\\n    <footer class=\"footer\">\\r\\n        <div class=\"social\">\\r\\n            <a href=\"https://www.linkedin.com/in/aditya-bhati-6a3513277\"><i class=\\'bx bxl-linkedin\\'></i></a>\\r\\n            <a href=\"https://github.com/adityabhatisaini\"><i class=\\'bx bxl-github\\'></i></a>\\r\\n            <a href=\"https://www.instagram.com/invites/contact/?igsh=jcf6ug61n2ue&utm_content=n1755qt\"><i class=\\'bx bxl-instagram-alt\\'></i></a>\\r\\n        </div>\\r\\n        <ul class=\"list\">\\r\\n            <li><a href=\"https://play.google.com/store/apps/dev?id=8574852185894925404\">Google Play Developer Page</a></li>\\r\\n            <li><a href=\"https://www.youtube.com/@interstellere\">\\xf0\\x9f\\x8c\\x80 YouTube</a></li>\\r\\n        </ul>\\r\\n        <p class=\"copyright\">@ Aditya Bhati | All Rights Reserved</p>\\r\\n    </footer>\\r\\n\\r\\n    <script src=\"script.js\"></script>\\r\\n</body>\\r\\n</html>\\r\\n'\n"
     ]
    }
   ],
   "source": [
    "print(response.data)"
   ]
  },
  {
   "cell_type": "code",
   "execution_count": 117,
   "metadata": {},
   "outputs": [],
   "source": [
    "page=response.data.decode('utf-8')"
   ]
  },
  {
   "cell_type": "code",
   "execution_count": 118,
   "metadata": {},
   "outputs": [
    {
     "name": "stdout",
     "output_type": "stream",
     "text": [
      "438\n",
      "450\n"
     ]
    }
   ],
   "source": [
    "loc_start=page.find('<title>')+7\n",
    "print(loc_start)\n",
    "loc_end=page.find('</title>')\n",
    "print(loc_end)"
   ]
  },
  {
   "cell_type": "code",
   "execution_count": 119,
   "metadata": {},
   "outputs": [
    {
     "data": {
      "text/plain": [
       "'Aditya Bhati'"
      ]
     },
     "execution_count": 119,
     "metadata": {},
     "output_type": "execute_result"
    }
   ],
   "source": [
    "page[loc_start:loc_end]"
   ]
  }
 ],
 "metadata": {
  "kernelspec": {
   "display_name": "Python 3",
   "language": "python",
   "name": "python3"
  },
  "language_info": {
   "codemirror_mode": {
    "name": "ipython",
    "version": 3
   },
   "file_extension": ".py",
   "mimetype": "text/x-python",
   "name": "python",
   "nbconvert_exporter": "python",
   "pygments_lexer": "ipython3",
   "version": "3.11.9"
  }
 },
 "nbformat": 4,
 "nbformat_minor": 2
}
