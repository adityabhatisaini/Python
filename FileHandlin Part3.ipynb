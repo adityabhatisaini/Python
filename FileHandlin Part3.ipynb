{
 "cells": [
  {
   "cell_type": "code",
   "execution_count": 1,
   "metadata": {},
   "outputs": [
    {
     "name": "stdout",
     "output_type": "stream",
     "text": [
      "null\n"
     ]
    }
   ],
   "source": [
    "with open('csvfile.csv','x+') as x:\n",
    "    pass\n",
    "    data=x.read()\n",
    "if not data:\n",
    "    print('null')\n",
    "else:\n",
    "    print('not null')"
   ]
  },
  {
   "cell_type": "code",
   "execution_count": 2,
   "metadata": {},
   "outputs": [],
   "source": [
    "import csv\n",
    "title=['Name','Class','Age']\n",
    "values=[['Aditya',12,21],['Sagar',12,44]]\n",
    "\n",
    "\n",
    "\n",
    "csv1='csv.csv'\n",
    "with open(csv1,'w',newline='') as csv2:\n",
    "    csvwriter=csv.writer(csv2)\n",
    "    csvwriter.writerow(title)\n",
    "    csvwriter.writerows(values)\n"
   ]
  },
  {
   "cell_type": "code",
   "execution_count": 3,
   "metadata": {},
   "outputs": [
    {
     "data": {
      "text/html": [
       "<div>\n",
       "<style scoped>\n",
       "    .dataframe tbody tr th:only-of-type {\n",
       "        vertical-align: middle;\n",
       "    }\n",
       "\n",
       "    .dataframe tbody tr th {\n",
       "        vertical-align: top;\n",
       "    }\n",
       "\n",
       "    .dataframe thead th {\n",
       "        text-align: right;\n",
       "    }\n",
       "</style>\n",
       "<table border=\"1\" class=\"dataframe\">\n",
       "  <thead>\n",
       "    <tr style=\"text-align: right;\">\n",
       "      <th></th>\n",
       "      <th>Promotion code</th>\n",
       "    </tr>\n",
       "  </thead>\n",
       "  <tbody>\n",
       "    <tr>\n",
       "      <th>0</th>\n",
       "      <td>2RAGVL967H677MB4NXP75ZT</td>\n",
       "    </tr>\n",
       "    <tr>\n",
       "      <th>1</th>\n",
       "      <td>EN469KHRYC7HZK9WXGMJXMA</td>\n",
       "    </tr>\n",
       "    <tr>\n",
       "      <th>2</th>\n",
       "      <td>5NYDNGJMLETK8DM0E22JUPE</td>\n",
       "    </tr>\n",
       "    <tr>\n",
       "      <th>3</th>\n",
       "      <td>FV68F8LCTU3VXF63KPPAYGL</td>\n",
       "    </tr>\n",
       "    <tr>\n",
       "      <th>4</th>\n",
       "      <td>2CP6688YFNQ96KCHUZNH1AK</td>\n",
       "    </tr>\n",
       "  </tbody>\n",
       "</table>\n",
       "</div>"
      ],
      "text/plain": [
       "            Promotion code\n",
       "0  2RAGVL967H677MB4NXP75ZT\n",
       "1  EN469KHRYC7HZK9WXGMJXMA\n",
       "2  5NYDNGJMLETK8DM0E22JUPE\n",
       "3  FV68F8LCTU3VXF63KPPAYGL\n",
       "4  2CP6688YFNQ96KCHUZNH1AK"
      ]
     },
     "execution_count": 3,
     "metadata": {},
     "output_type": "execute_result"
    }
   ],
   "source": [
    "import pandas as pd\n",
    "x1=pd.read_csv('c:/Users/DeLL/Downloads/promotion_codes.csv')\n",
    "x1.head()"
   ]
  }
 ],
 "metadata": {
  "kernelspec": {
   "display_name": "Python 3",
   "language": "python",
   "name": "python3"
  },
  "language_info": {
   "codemirror_mode": {
    "name": "ipython",
    "version": 3
   },
   "file_extension": ".py",
   "mimetype": "text/x-python",
   "name": "python",
   "nbconvert_exporter": "python",
   "pygments_lexer": "ipython3",
   "version": "3.11.9"
  }
 },
 "nbformat": 4,
 "nbformat_minor": 2
}
