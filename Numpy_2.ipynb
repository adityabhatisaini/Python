{
 "cells": [
  {
   "cell_type": "code",
   "execution_count": 63,
   "metadata": {},
   "outputs": [
    {
     "name": "stdout",
     "output_type": "stream",
     "text": [
      "[[1 2 3]\n",
      " [4 5 6]]\n"
     ]
    },
    {
     "data": {
      "text/plain": [
       "2"
      ]
     },
     "execution_count": 63,
     "metadata": {},
     "output_type": "execute_result"
    }
   ],
   "source": [
    "import numpy as np\n",
    "arr = np.array([[1, 2, 3], [4, 5, 6]])\n",
    "print(arr)\n",
    "arr.ndim\n"
   ]
  },
  {
   "cell_type": "code",
   "execution_count": 64,
   "metadata": {},
   "outputs": [
    {
     "data": {
      "text/plain": [
       "array([[ 1,  4,  9],\n",
       "       [16, 25, 36]])"
      ]
     },
     "execution_count": 64,
     "metadata": {},
     "output_type": "execute_result"
    }
   ],
   "source": [
    "arr*arr"
   ]
  },
  {
   "cell_type": "code",
   "execution_count": 65,
   "metadata": {},
   "outputs": [
    {
     "data": {
      "text/plain": [
       "array([[0, 0, 0],\n",
       "       [0, 0, 0]])"
      ]
     },
     "execution_count": 65,
     "metadata": {},
     "output_type": "execute_result"
    }
   ],
   "source": [
    "arr-arr"
   ]
  },
  {
   "cell_type": "code",
   "execution_count": 66,
   "metadata": {},
   "outputs": [
    {
     "data": {
      "text/plain": [
       "array([[1.        , 0.5       , 0.33333333],\n",
       "       [0.25      , 0.2       , 0.16666667]])"
      ]
     },
     "execution_count": 66,
     "metadata": {},
     "output_type": "execute_result"
    }
   ],
   "source": [
    "1/arr"
   ]
  },
  {
   "cell_type": "code",
   "execution_count": 67,
   "metadata": {},
   "outputs": [
    {
     "name": "stdout",
     "output_type": "stream",
     "text": [
      "[[1 2 3]\n",
      " [4 5 6]]\n"
     ]
    },
    {
     "data": {
      "text/plain": [
       "array([[   1,   32,  243],\n",
       "       [1024, 3125, 7776]])"
      ]
     },
     "execution_count": 67,
     "metadata": {},
     "output_type": "execute_result"
    }
   ],
   "source": [
    "print(arr)\n",
    "arr**5  # x^5"
   ]
  },
  {
   "cell_type": "code",
   "execution_count": 68,
   "metadata": {},
   "outputs": [
    {
     "name": "stdout",
     "output_type": "stream",
     "text": [
      "[ 0  1  2  3  4  5  6  7  8  9 10 11 12 13 14 15 16 17 18 19 20 21 22 23]\n",
      "1\n",
      "[[[ 0  1  2  3]\n",
      "  [ 4  5  6  7]\n",
      "  [ 8  9 10 11]]\n",
      "\n",
      " [[12 13 14 15]\n",
      "  [16 17 18 19]\n",
      "  [20 21 22 23]]]\n",
      "3\n",
      "[[[ 0  1  2  3]\n",
      "  [ 4  5  6  7]]\n",
      "\n",
      " [[ 8  9 10 11]\n",
      "  [12 13 14 15]]\n",
      "\n",
      " [[16 17 18 19]\n",
      "  [20 21 22 23]]]\n",
      "3\n"
     ]
    }
   ],
   "source": [
    "# an array of evenly spaced numbers\n",
    "a = np.arange(24)\n",
    "print(a)\n",
    "print(a.ndim)\n",
    "\n",
    "# now reshape it\n",
    "b = a.reshape(2,3,4)\n",
    "print(b)\n",
    "print(b.ndim)\n",
    "b = a.reshape(3,2,4)\n",
    "print(b)\n",
    "print(b.ndim)\n"
   ]
  },
  {
   "cell_type": "code",
   "execution_count": 69,
   "metadata": {},
   "outputs": [
    {
     "name": "stdout",
     "output_type": "stream",
     "text": [
      "[[1 2 3]\n",
      " [4 5 6]\n",
      " [7 8 9]]\n",
      "5\n",
      "5\n",
      "[4 5 6]\n"
     ]
    }
   ],
   "source": [
    "import numpy as np\n",
    "arr=np.array([[1, 2, 3], [4, 5, 6], [7, 8, 9]])\n",
    "print(arr)\n",
    "print(arr[1,1])\n",
    "print(arr[1][1])\n",
    "print(arr[1])"
   ]
  },
  {
   "cell_type": "code",
   "execution_count": 70,
   "metadata": {},
   "outputs": [
    {
     "name": "stdout",
     "output_type": "stream",
     "text": [
      "[[5 6]\n",
      " [8 9]]\n",
      "[[4 5 6]]\n"
     ]
    }
   ],
   "source": [
    "print(arr[1:,1:])\n",
    "# print any specific dimension metrix\n",
    "\n",
    "print(arr[:2][1:])"
   ]
  },
  {
   "cell_type": "code",
   "execution_count": 71,
   "metadata": {},
   "outputs": [
    {
     "name": "stdout",
     "output_type": "stream",
     "text": [
      "[4 5]\n",
      "[7]\n"
     ]
    }
   ],
   "source": [
    "print(arr[1,:2])\n",
    "print(arr[2,:1])"
   ]
  },
  {
   "cell_type": "code",
   "execution_count": 72,
   "metadata": {},
   "outputs": [
    {
     "name": "stdout",
     "output_type": "stream",
     "text": [
      "[[1 2 3]\n",
      " [4 5 6]\n",
      " [7 8 9]]\n",
      "[1 4 7]\n",
      "[[1]\n",
      " [4]\n",
      " [7]]\n"
     ]
    }
   ],
   "source": [
    "print(arr)\n",
    "\n",
    "print(arr[:,0])\n",
    "#you can find differencce between\n",
    "print(arr[:,:1])\n"
   ]
  },
  {
   "cell_type": "code",
   "execution_count": 73,
   "metadata": {},
   "outputs": [
    {
     "name": "stdout",
     "output_type": "stream",
     "text": [
      "[[7 8 9]\n",
      " [4 5 6]\n",
      " [1 2 3]]\n"
     ]
    }
   ],
   "source": [
    "print(arr[[2,1,0]])"
   ]
  },
  {
   "cell_type": "code",
   "execution_count": 74,
   "metadata": {},
   "outputs": [
    {
     "name": "stdout",
     "output_type": "stream",
     "text": [
      "['Aakash' 'Swara' 'Swaroop' 'Aakash' 'Swaroop' 'Swara' 'Swara']\n",
      "[ True False False  True False False False]\n",
      "['Aakash' 'Aakash']\n"
     ]
    }
   ],
   "source": [
    "names = np.array(['Aakash', 'Swara', 'Swaroop', 'Aakash', 'Swaroop', 'Swara', 'Swara'])\n",
    "print(names)\n",
    "\n",
    "print(names == 'Aakash')\n",
    "print(names[names == 'Aakash'])  # its convert boolen to name"
   ]
  },
  {
   "cell_type": "code",
   "execution_count": 75,
   "metadata": {},
   "outputs": [
    {
     "name": "stdout",
     "output_type": "stream",
     "text": [
      "[[-4.61309263e-01 -1.65411719e+00 -2.49129437e-01]\n",
      " [-1.07063733e+00  3.25792933e-01  4.50261114e-01]\n",
      " [ 6.29338898e-01  7.11680800e-02  2.92370175e-01]\n",
      " [ 1.81255019e-01  6.88038574e-01  8.11055244e-01]\n",
      " [ 1.89078942e+00 -8.19222497e-01 -1.12283745e-01]\n",
      " [-1.28093412e-01 -9.06641922e-01 -3.64833420e-01]\n",
      " [-1.16056915e-01 -2.26595373e-01 -5.25247619e-01]\n",
      " [ 2.51994285e-01  1.20384336e+00 -9.46152959e-01]\n",
      " [-5.97476628e-01  6.95440915e-01  2.02042938e+00]\n",
      " [ 1.23028167e+00 -7.53734473e-01  1.05854029e+00]\n",
      " [ 7.08067261e-01  1.41209243e+00 -3.94728722e-02]\n",
      " [ 8.94640915e-01  1.75452615e+00 -1.39805762e-01]\n",
      " [-1.49452856e+00  1.48436978e-01  1.90374937e+00]\n",
      " [ 1.29586124e+00 -1.34683615e+00  1.58106752e+00]\n",
      " [-4.88000740e-01  8.56860466e-01  1.54376801e+00]\n",
      " [ 5.57796362e-01 -2.84608947e-01 -9.22800970e-01]\n",
      " [ 7.96724305e-01 -2.00377062e+00 -5.32208506e-01]\n",
      " [ 1.13709386e+00 -1.07352267e+00  9.26677793e-01]\n",
      " [-1.35198121e+00 -1.61671978e-03  2.27008575e-01]\n",
      " [ 4.99673567e-01 -1.54611426e-01 -5.19903976e-01]]\n",
      "[[False False False]\n",
      " [False  True  True]\n",
      " [ True  True  True]\n",
      " [ True  True  True]\n",
      " [ True False False]\n",
      " [False False False]\n",
      " [False False False]\n",
      " [ True  True False]\n",
      " [False  True  True]\n",
      " [ True False  True]\n",
      " [ True  True False]\n",
      " [ True  True False]\n",
      " [False  True  True]\n",
      " [ True False  True]\n",
      " [False  True  True]\n",
      " [ True False False]\n",
      " [ True False False]\n",
      " [ True False  True]\n",
      " [False False  True]\n",
      " [ True False False]]\n",
      "[0.32579293 0.45026111 0.6293389  0.07116808 0.29237018 0.18125502\n",
      " 0.68803857 0.81105524 1.89078942 0.25199428 1.20384336 0.69544091\n",
      " 2.02042938 1.23028167 1.05854029 0.70806726 1.41209243 0.89464091\n",
      " 1.75452615 0.14843698 1.90374937 1.29586124 1.58106752 0.85686047\n",
      " 1.54376801 0.55779636 0.7967243  1.13709386 0.92667779 0.22700857\n",
      " 0.49967357]\n"
     ]
    }
   ],
   "source": [
    "data=np.random.randn(20,3)\n",
    "print(data)\n",
    "\n",
    "print(data>=0)\n",
    "\n",
    "print(data[data>=0])"
   ]
  },
  {
   "cell_type": "code",
   "execution_count": 78,
   "metadata": {},
   "outputs": [
    {
     "name": "stdout",
     "output_type": "stream",
     "text": [
      "[[0.         0.         0.        ]\n",
      " [0.         0.32579293 0.45026111]\n",
      " [0.6293389  0.07116808 0.29237018]\n",
      " [0.18125502 0.68803857 0.81105524]\n",
      " [1.89078942 0.         0.        ]\n",
      " [0.         0.         0.        ]\n",
      " [0.         0.         0.        ]\n",
      " [0.25199428 1.20384336 0.        ]\n",
      " [0.         0.69544091 2.02042938]\n",
      " [1.23028167 0.         1.05854029]\n",
      " [0.70806726 1.41209243 0.        ]\n",
      " [0.89464091 1.75452615 0.        ]\n",
      " [0.         0.14843698 1.90374937]\n",
      " [1.29586124 0.         1.58106752]\n",
      " [0.         0.85686047 1.54376801]\n",
      " [0.55779636 0.         0.        ]\n",
      " [0.7967243  0.         0.        ]\n",
      " [1.13709386 0.         0.92667779]\n",
      " [0.         0.         0.22700857]\n",
      " [0.49967357 0.         0.        ]]\n"
     ]
    }
   ],
   "source": [
    "data[data<0]=0\n",
    "print(data)"
   ]
  },
  {
   "cell_type": "code",
   "execution_count": null,
   "metadata": {},
   "outputs": [],
   "source": []
  }
 ],
 "metadata": {
  "kernelspec": {
   "display_name": "Python 3",
   "language": "python",
   "name": "python3"
  },
  "language_info": {
   "codemirror_mode": {
    "name": "ipython",
    "version": 3
   },
   "file_extension": ".py",
   "mimetype": "text/x-python",
   "name": "python",
   "nbconvert_exporter": "python",
   "pygments_lexer": "ipython3",
   "version": "3.11.9"
  }
 },
 "nbformat": 4,
 "nbformat_minor": 2
}
