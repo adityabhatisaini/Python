{
 "cells": [
  {
   "cell_type": "code",
   "execution_count": 1,
   "metadata": {},
   "outputs": [
    {
     "name": "stdout",
     "output_type": "stream",
     "text": [
      "[[1 2 3]\n",
      " [4 5 6]]\n"
     ]
    },
    {
     "data": {
      "text/plain": [
       "2"
      ]
     },
     "execution_count": 1,
     "metadata": {},
     "output_type": "execute_result"
    }
   ],
   "source": [
    "import numpy as np\n",
    "arr = np.array([[1, 2, 3], [4, 5, 6]])\n",
    "print(arr)\n",
    "arr.ndim\n"
   ]
  },
  {
   "cell_type": "code",
   "execution_count": 2,
   "metadata": {},
   "outputs": [
    {
     "data": {
      "text/plain": [
       "array([[ 1,  4,  9],\n",
       "       [16, 25, 36]])"
      ]
     },
     "execution_count": 2,
     "metadata": {},
     "output_type": "execute_result"
    }
   ],
   "source": [
    "arr*arr"
   ]
  },
  {
   "cell_type": "code",
   "execution_count": 3,
   "metadata": {},
   "outputs": [
    {
     "data": {
      "text/plain": [
       "array([[0, 0, 0],\n",
       "       [0, 0, 0]])"
      ]
     },
     "execution_count": 3,
     "metadata": {},
     "output_type": "execute_result"
    }
   ],
   "source": [
    "arr-arr"
   ]
  },
  {
   "cell_type": "code",
   "execution_count": 4,
   "metadata": {},
   "outputs": [
    {
     "data": {
      "text/plain": [
       "array([[1.        , 0.5       , 0.33333333],\n",
       "       [0.25      , 0.2       , 0.16666667]])"
      ]
     },
     "execution_count": 4,
     "metadata": {},
     "output_type": "execute_result"
    }
   ],
   "source": [
    "1/arr"
   ]
  },
  {
   "cell_type": "code",
   "execution_count": 5,
   "metadata": {},
   "outputs": [
    {
     "name": "stdout",
     "output_type": "stream",
     "text": [
      "[[1 2 3]\n",
      " [4 5 6]]\n"
     ]
    },
    {
     "data": {
      "text/plain": [
       "array([[   1,   32,  243],\n",
       "       [1024, 3125, 7776]])"
      ]
     },
     "execution_count": 5,
     "metadata": {},
     "output_type": "execute_result"
    }
   ],
   "source": [
    "print(arr)\n",
    "arr**5  # x^5"
   ]
  },
  {
   "cell_type": "code",
   "execution_count": 6,
   "metadata": {},
   "outputs": [
    {
     "name": "stdout",
     "output_type": "stream",
     "text": [
      "[ 0  1  2  3  4  5  6  7  8  9 10 11 12 13 14 15 16 17 18 19 20 21 22 23]\n",
      "1\n",
      "[[[ 0  1  2  3]\n",
      "  [ 4  5  6  7]\n",
      "  [ 8  9 10 11]]\n",
      "\n",
      " [[12 13 14 15]\n",
      "  [16 17 18 19]\n",
      "  [20 21 22 23]]]\n",
      "3\n",
      "[[[ 0  1  2  3]\n",
      "  [ 4  5  6  7]]\n",
      "\n",
      " [[ 8  9 10 11]\n",
      "  [12 13 14 15]]\n",
      "\n",
      " [[16 17 18 19]\n",
      "  [20 21 22 23]]]\n",
      "3\n"
     ]
    }
   ],
   "source": [
    "# an array of evenly spaced numbers\n",
    "a = np.arange(24)\n",
    "print(a)\n",
    "print(a.ndim)\n",
    "\n",
    "# now reshape it\n",
    "b = a.reshape(2,3,4)\n",
    "print(b)\n",
    "print(b.ndim)\n",
    "b = a.reshape(3,2,4)\n",
    "print(b)\n",
    "print(b.ndim)\n"
   ]
  },
  {
   "cell_type": "code",
   "execution_count": 7,
   "metadata": {},
   "outputs": [
    {
     "name": "stdout",
     "output_type": "stream",
     "text": [
      "[[1 2 3]\n",
      " [4 5 6]\n",
      " [7 8 9]]\n",
      "5\n",
      "5\n",
      "[4 5 6]\n"
     ]
    }
   ],
   "source": [
    "import numpy as np\n",
    "arr=np.array([[1, 2, 3], [4, 5, 6], [7, 8, 9]])\n",
    "print(arr)\n",
    "print(arr[1,1])\n",
    "print(arr[1][1])\n",
    "print(arr[1])"
   ]
  },
  {
   "cell_type": "code",
   "execution_count": 8,
   "metadata": {},
   "outputs": [
    {
     "name": "stdout",
     "output_type": "stream",
     "text": [
      "[[5 6]\n",
      " [8 9]]\n",
      "[[4 5 6]]\n"
     ]
    }
   ],
   "source": [
    "print(arr[1:,1:])\n",
    "# print any specific dimension metrix\n",
    "\n",
    "print(arr[:2][1:])"
   ]
  },
  {
   "cell_type": "code",
   "execution_count": 9,
   "metadata": {},
   "outputs": [
    {
     "name": "stdout",
     "output_type": "stream",
     "text": [
      "[4 5]\n",
      "[7]\n"
     ]
    }
   ],
   "source": [
    "print(arr[1,:2])\n",
    "print(arr[2,:1])"
   ]
  },
  {
   "cell_type": "code",
   "execution_count": 10,
   "metadata": {},
   "outputs": [
    {
     "name": "stdout",
     "output_type": "stream",
     "text": [
      "[[1 2 3]\n",
      " [4 5 6]\n",
      " [7 8 9]]\n",
      "[1 4 7]\n",
      "[[1]\n",
      " [4]\n",
      " [7]]\n"
     ]
    }
   ],
   "source": [
    "print(arr)\n",
    "\n",
    "print(arr[:,0])\n",
    "#you can find differencce between\n",
    "print(arr[:,:1])\n"
   ]
  },
  {
   "cell_type": "code",
   "execution_count": 11,
   "metadata": {},
   "outputs": [
    {
     "name": "stdout",
     "output_type": "stream",
     "text": [
      "[[7 8 9]\n",
      " [4 5 6]\n",
      " [1 2 3]]\n"
     ]
    }
   ],
   "source": [
    "print(arr[[2,1,0]])"
   ]
  },
  {
   "cell_type": "code",
   "execution_count": 12,
   "metadata": {},
   "outputs": [
    {
     "name": "stdout",
     "output_type": "stream",
     "text": [
      "['Aakash' 'Swara' 'Swaroop' 'Aakash' 'Swaroop' 'Swara' 'Swara']\n",
      "[ True False False  True False False False]\n",
      "['Aakash' 'Aakash']\n"
     ]
    }
   ],
   "source": [
    "names = np.array(['Aakash', 'Swara', 'Swaroop', 'Aakash', 'Swaroop', 'Swara', 'Swara'])\n",
    "print(names)\n",
    "\n",
    "print(names == 'Aakash')\n",
    "print(names[names == 'Aakash'])  # its convert boolen to name"
   ]
  },
  {
   "cell_type": "code",
   "execution_count": 13,
   "metadata": {},
   "outputs": [
    {
     "name": "stdout",
     "output_type": "stream",
     "text": [
      "['Swara' 'Swaroop' 'Swaroop' 'Swara' 'Swara']\n"
     ]
    }
   ],
   "source": [
    "print(names[names!='Aakash'])"
   ]
  },
  {
   "cell_type": "code",
   "execution_count": 14,
   "metadata": {},
   "outputs": [
    {
     "name": "stdout",
     "output_type": "stream",
     "text": [
      "[ True  True False  True False  True  True]\n"
     ]
    }
   ],
   "source": [
    "x1= (names=='Aakash')|(names=='Swara')\n",
    "print(x1)"
   ]
  },
  {
   "cell_type": "code",
   "execution_count": 15,
   "metadata": {},
   "outputs": [
    {
     "name": "stdout",
     "output_type": "stream",
     "text": [
      "['Aakash' 'as' 'as' 'Aakash' 'as' 'as' 'as']\n"
     ]
    }
   ],
   "source": [
    "names[names!='Aakash'] ='as'\n",
    "print(names)"
   ]
  },
  {
   "cell_type": "code",
   "execution_count": 16,
   "metadata": {},
   "outputs": [
    {
     "name": "stdout",
     "output_type": "stream",
     "text": [
      "[[ 0.98805966 -2.07749005 -0.20787109]\n",
      " [ 0.3496726  -2.67133296  0.08871361]\n",
      " [-0.23135317 -0.61341866 -1.37933357]\n",
      " [ 2.77712215  0.06577697 -0.09164173]\n",
      " [-1.22655338  0.04518842  0.07919559]\n",
      " [ 0.25645059  0.01154017 -0.2881682 ]\n",
      " [ 1.67235792 -2.65967637 -2.16870527]\n",
      " [-0.94250651  0.81116558 -1.51270316]\n",
      " [ 0.79256524 -1.58932214 -0.58151404]\n",
      " [ 1.03781913  1.76693437 -0.29156997]\n",
      " [-0.2457095   0.72310602  0.8392368 ]\n",
      " [ 0.50389845 -0.24272376 -0.84137074]\n",
      " [-1.06189265 -0.78793308  0.87100308]\n",
      " [-0.34916782 -0.92846294  0.71410833]\n",
      " [-0.11872692 -1.4504602   1.91907899]\n",
      " [ 0.29084097  1.27046649 -1.92141485]\n",
      " [-0.2674425   1.07364684 -0.54375513]\n",
      " [ 0.08984546  0.56398505  0.38222671]\n",
      " [ 0.75045001  0.42510528  0.88144098]\n",
      " [ 0.5933376   0.45860744  0.36628793]]\n",
      "[[ True False False]\n",
      " [ True False  True]\n",
      " [False False False]\n",
      " [ True  True False]\n",
      " [False  True  True]\n",
      " [ True  True False]\n",
      " [ True False False]\n",
      " [False  True False]\n",
      " [ True False False]\n",
      " [ True  True False]\n",
      " [False  True  True]\n",
      " [ True False False]\n",
      " [False False  True]\n",
      " [False False  True]\n",
      " [False False  True]\n",
      " [ True  True False]\n",
      " [False  True False]\n",
      " [ True  True  True]\n",
      " [ True  True  True]\n",
      " [ True  True  True]]\n",
      "[0.98805966 0.3496726  0.08871361 2.77712215 0.06577697 0.04518842\n",
      " 0.07919559 0.25645059 0.01154017 1.67235792 0.81116558 0.79256524\n",
      " 1.03781913 1.76693437 0.72310602 0.8392368  0.50389845 0.87100308\n",
      " 0.71410833 1.91907899 0.29084097 1.27046649 1.07364684 0.08984546\n",
      " 0.56398505 0.38222671 0.75045001 0.42510528 0.88144098 0.5933376\n",
      " 0.45860744 0.36628793]\n"
     ]
    }
   ],
   "source": [
    "data=np.random.randn(20,3)\n",
    "print(data)\n",
    "\n",
    "print(data>=0)\n",
    "\n",
    "print(data[data>=0])"
   ]
  },
  {
   "cell_type": "code",
   "execution_count": 17,
   "metadata": {},
   "outputs": [
    {
     "name": "stdout",
     "output_type": "stream",
     "text": [
      "[[0.98805966 0.         0.        ]\n",
      " [0.3496726  0.         0.08871361]\n",
      " [0.         0.         0.        ]\n",
      " [2.77712215 0.06577697 0.        ]\n",
      " [0.         0.04518842 0.07919559]\n",
      " [0.25645059 0.01154017 0.        ]\n",
      " [1.67235792 0.         0.        ]\n",
      " [0.         0.81116558 0.        ]\n",
      " [0.79256524 0.         0.        ]\n",
      " [1.03781913 1.76693437 0.        ]\n",
      " [0.         0.72310602 0.8392368 ]\n",
      " [0.50389845 0.         0.        ]\n",
      " [0.         0.         0.87100308]\n",
      " [0.         0.         0.71410833]\n",
      " [0.         0.         1.91907899]\n",
      " [0.29084097 1.27046649 0.        ]\n",
      " [0.         1.07364684 0.        ]\n",
      " [0.08984546 0.56398505 0.38222671]\n",
      " [0.75045001 0.42510528 0.88144098]\n",
      " [0.5933376  0.45860744 0.36628793]]\n"
     ]
    }
   ],
   "source": [
    "data[data<0]=0\n",
    "print(data)"
   ]
  },
  {
   "cell_type": "code",
   "execution_count": 18,
   "metadata": {},
   "outputs": [
    {
     "name": "stdout",
     "output_type": "stream",
     "text": [
      "[['Aakash' 'Swara' 'Swaroop']\n",
      " ['Aakash' 'Swaroop' 'Swara']\n",
      " ['Swara' 'JDK' 'Aakash']]\n"
     ]
    }
   ],
   "source": [
    "names = np.array([['Aakash', 'Swara', 'Swaroop'],[ 'Aakash', 'Swaroop', 'Swara'],['Swara','JDK','Aakash']])\n",
    "\n",
    "print(names)\n"
   ]
  },
  {
   "cell_type": "markdown",
   "metadata": {},
   "source": [
    "Concatenate of 2 Arrays"
   ]
  },
  {
   "cell_type": "code",
   "execution_count": 19,
   "metadata": {},
   "outputs": [
    {
     "name": "stdout",
     "output_type": "stream",
     "text": [
      "[1 2 3 4 5 1 2 3 4 5]\n",
      "<class 'numpy.ndarray'>\n"
     ]
    },
    {
     "data": {
      "text/plain": [
       "array([1, 2, 3, 4, 5, 1, 2, 3, 4, 5])"
      ]
     },
     "execution_count": 19,
     "metadata": {},
     "output_type": "execute_result"
    }
   ],
   "source": [
    "arr1=np.array([1,2,3,4,5])\n",
    "arr2=np.array([1,2,3,4,5])\n",
    "\n",
    "arr3=np.concatenate((arr1,arr2))\n",
    "print(arr3)\n",
    "print(type(arr3))\n",
    "arr3"
   ]
  },
  {
   "cell_type": "code",
   "execution_count": 20,
   "metadata": {},
   "outputs": [
    {
     "name": "stdout",
     "output_type": "stream",
     "text": [
      "[[1 2]\n",
      " [3 4]\n",
      " [5 6]]\n"
     ]
    }
   ],
   "source": [
    "arr1 = np.array([[1, 2], [3, 4]])\n",
    "arr2 = np.array([[5,6]])\n",
    "\n",
    "# Join along rows (axis=0)\n",
    "result = np.concatenate((arr1, arr2), axis=0)\n",
    "print(result)\n"
   ]
  },
  {
   "cell_type": "code",
   "execution_count": 21,
   "metadata": {},
   "outputs": [
    {
     "name": "stdout",
     "output_type": "stream",
     "text": [
      "[[1 2 5]\n",
      " [3 4 6]]\n"
     ]
    }
   ],
   "source": [
    "arr1 = np.array([[1, 2], [3, 4]])\n",
    "arr2 = np.array([[5], [6]])\n",
    "\n",
    "# Join along rows (axis=0)\n",
    "result = np.concatenate((arr1, arr2), axis=1)\n",
    "print(result)"
   ]
  },
  {
   "cell_type": "code",
   "execution_count": 22,
   "metadata": {},
   "outputs": [
    {
     "name": "stdout",
     "output_type": "stream",
     "text": [
      "[[1 2 3 4 5]\n",
      " [1 2 3 4 5]]\n",
      "[[1 1]\n",
      " [2 2]\n",
      " [3 3]\n",
      " [4 4]\n",
      " [5 5]]\n",
      "\n",
      "[[1 1]\n",
      " [2 2]\n",
      " [3 3]\n",
      " [4 4]\n",
      " [5 5]]\n"
     ]
    }
   ],
   "source": [
    "arr1=np.array([1,2,3,4,5])\n",
    "arr2=np.array([1,2,3,4,5])\n",
    "result1=np.stack((arr1, arr2),axis=0)\n",
    "result2=np.stack((arr1, arr2),axis=1)\n",
    "print(result1)\n",
    "print(result2)"
   ]
  },
  {
   "cell_type": "markdown",
   "metadata": {},
   "source": [
    "# <span style='color:red'> Vertical Stack and Horizontal Stack</span>"
   ]
  },
  {
   "cell_type": "code",
   "execution_count": 23,
   "metadata": {},
   "outputs": [
    {
     "name": "stdout",
     "output_type": "stream",
     "text": [
      "[[1 2 3 4 5]\n",
      " [1 2 3 4 5]]\n",
      "[1 2 3 4 5 1 2 3 4 5]\n"
     ]
    }
   ],
   "source": [
    "print(np.vstack((arr1, arr2)))\n",
    "print(np.hstack((arr1, arr2)))"
   ]
  },
  {
   "cell_type": "markdown",
   "metadata": {},
   "source": [
    "# Spliting"
   ]
  },
  {
   "cell_type": "code",
   "execution_count": 24,
   "metadata": {},
   "outputs": [
    {
     "name": "stdout",
     "output_type": "stream",
     "text": [
      "[1 2 3 4 5 6]\n",
      "[array([1, 2]), array([3, 4]), array([5, 6])]\n",
      "<class 'list'>\n"
     ]
    }
   ],
   "source": [
    "arr = np.array([1, 2, 3, 4, 5, 6])\n",
    "print(arr)\n",
    "result = np.split(arr, 3)\n",
    "print(result)\n",
    "print(type(result))\n"
   ]
  },
  {
   "cell_type": "code",
   "execution_count": 25,
   "metadata": {},
   "outputs": [
    {
     "name": "stdout",
     "output_type": "stream",
     "text": [
      "[[1 2]\n",
      " [3 4]\n",
      " [5 6]]\n",
      "[array([[1, 2]]), array([[3, 4]]), array([[5, 6]])]\n"
     ]
    }
   ],
   "source": [
    "arr = np.array([[1, 2], [3, 4], [5, 6]])\n",
    "result = np.split(arr, 3, axis=0)\n",
    "print(arr)\n",
    "print(result)"
   ]
  },
  {
   "cell_type": "code",
   "execution_count": 26,
   "metadata": {},
   "outputs": [
    {
     "name": "stdout",
     "output_type": "stream",
     "text": [
      "[array([[1],\n",
      "       [4]]), array([[2],\n",
      "       [5]]), array([[3],\n",
      "       [6]])]\n",
      "[array([[1, 2, 3]]), array([[4, 5, 6]])]\n"
     ]
    }
   ],
   "source": [
    "arr = np.array([[1, 2, 3], [4, 5, 6]])\n",
    "result = np.hsplit(arr, 3)\n",
    "print(result)\n",
    "\n",
    "result1 = np.vsplit(arr, 2)\n",
    "print(result1)\n"
   ]
  }
 ],
 "metadata": {
  "kernelspec": {
   "display_name": "Python 3",
   "language": "python",
   "name": "python3"
  },
  "language_info": {
   "codemirror_mode": {
    "name": "ipython",
    "version": 3
   },
   "file_extension": ".py",
   "mimetype": "text/x-python",
   "name": "python",
   "nbconvert_exporter": "python",
   "pygments_lexer": "ipython3",
   "version": "3.11.9"
  }
 },
 "nbformat": 4,
 "nbformat_minor": 2
}
